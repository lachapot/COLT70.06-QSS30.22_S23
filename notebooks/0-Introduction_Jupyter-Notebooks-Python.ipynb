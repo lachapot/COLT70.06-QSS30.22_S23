{
 "cells": [
  {
   "cell_type": "markdown",
   "id": "c5ad3708-ed6d-4ffd-83e8-0865e517a610",
   "metadata": {
    "tags": []
   },
   "source": [
    "# JupyterHub\n",
    "\n",
    "### Accessing JupyterHub\n",
    "\n",
    "- Got to https://jhub.dartmouth.edu/  \n",
    "- Log in using your university credentials  \n",
    "- Click \"start my server\"  \n",
    "- Select \"COLT 70 -- Spring 2022\"  \n",
    "- It may take some time for the server to start up  \n",
    "- The notebooks are in the \"notebooks\" directory on the left  \n",
    "- Double click the notebook you want to open\n",
    "\n",
    "### Editing a Notebook\n",
    "\n",
    "At this point you can only view a notebook. In order to be able to edit the notebook:  \n",
    " - right click on the notebook file you want to edit (listed on the left)  \n",
    " - select \"copy\"  \n",
    " \n",
    " ![right-click](right-click.png)  \n",
    " \n",
    " \n",
    " - double click on your home directory (by clicking the directory icon above the list of notebooks)  \n",
    " \n",
    " ![home-directory](home-directory.png)  \n",
    " \n",
    " - paste the notebook  \n",
    "\n",
    "You should now be able to edit and run the cells of the notebook.\n",
    "For the Introduction to Python below, also copy over the \"gilman.txt\" file. \n",
    "\n",
    "N.B. you can check if a notebook is in read-only or in editable (writable) mode by hovering your cursor over the name of the notebook file — this will list some information about the notebook (such as its name, size, the path to the notebook (i.e. where the notebook is located), its date of creation and the last time modified, and the type of kernel it is running on). If it lists “true” next to “Writable” then the notebook is editable (in _writable_ mode). \n",
    "\n",
    "### Uploading files\n",
    "\n",
    "To upload files to JupyterHub:  \n",
    " - make sure you are in your home directory (where you paste the writable/editable notebooks)  \n",
    " - click the upload icon  \n",
    " \n",
    " ![uploadscreenshot](uploadscreenshot.png)  \n",
    " \n",
    " - select your files to upload"
   ]
  },
  {
   "cell_type": "markdown",
   "id": "ba2b6262-df90-4dfb-b40a-d355072303e5",
   "metadata": {},
   "source": [
    "-------------------\n",
    "# Contents of this notebook  \n",
    "\n",
    "[Introduction to Notebooks](#section-1)\n",
    "- [Editing and running code in notebooks](#section-2)   \n",
    "\n",
    "[Introduction to Python](#section-4)\n",
    "- [Imports](#section-5)\n",
    "- [Functions](#section-6)\n",
    "- [Variables](#section-7)\n",
    "- [Data types](#section-8)\n",
    "- [Methods](#section-9)\n",
    "- - [List methods](#section-10)\n",
    "- - [String methods](#section-11)\n",
    "- [For loops](#section-12)\n",
    "- [Conditionals and Boolean values](#section-13)\n",
    "- [Flow of execution and Comments](#section-14)\n",
    "- - - [Clearing outputs: interrupting and restarting the kernel](#section-3) \n",
    "- [Working with text files](#section-15)\n",
    "- - [Opening and reading text files](#section-16)\n",
    "- - [File paths](#section-17)\n",
    "- - [Working with multiple files](#section-18)\n",
    "- [Wrap up](#section-19)\n",
    "- [Debugging](#section-20)\n",
    "-------------------"
   ]
  },
  {
   "cell_type": "markdown",
   "id": "04f42d94-a782-4265-a0f8-45e81bd97d4b",
   "metadata": {},
   "source": [
    "<a id='section-1'></a>\n",
    "# Introduction to Notebooks  \n",
    "\n",
    "This is a notebook! A notebook is composed of different cells which can be used to write markdown text or computer code."
   ]
  },
  {
   "cell_type": "markdown",
   "id": "9016642f-0731-45ad-8412-8117d27892d8",
   "metadata": {},
   "source": [
    "If you double click on this text, you will see that this is a \"Markdown\" cell for writing text, inserting images, videos, links etc. "
   ]
  },
  {
   "cell_type": "code",
   "execution_count": null,
   "id": "8b29bfc7-c936-4179-a58d-11b70ec69623",
   "metadata": {},
   "outputs": [],
   "source": [
    "## This is a code cell"
   ]
  },
  {
   "cell_type": "markdown",
   "id": "f6bbb6aa-3ae6-4093-840a-fc1370ebf087",
   "metadata": {},
   "source": [
    "N.B. You can select the cell type at the top of this document with the drop down menu. "
   ]
  },
  {
   "cell_type": "markdown",
   "id": "561b8f76-a842-4f20-a0d8-90cf65f94576",
   "metadata": {},
   "source": [
    "Jupyter notebooks therefore allow you to combine code, text, images, visualizations etc. all in one place. You can edit and run code in a notebook which makes it an ideal place to play around with and test out code. The possibilities of combining code and text afforded by Notebooks are not only useful as a pedagogical and learning environment, but can also offer a way to make our analytical process explicit and to reflect on our analytical process:\n",
    "\n",
    "> \"Notebooks are theory — not merely code as theory but theory as thoughtful engagement with the theoretical work and implications of the code itself. Disciplinary norms— including contextual framing, theory, and self or auto-critique— need to accompany, supplement, and inform any computational criticism. Revealing as much of the code, data, and methods as possible is essential to enable the ongoing disciplinary conversation. Compiling these together in a single object, one that can be exported, shared, examined, and executed by others, produces a dynamic type of theorization that is modular yet tightly bound up with its object.\" (Dobson, James E. _Critical Digital Humanities: The Search for a Methodology_. Urbana-Champaign: University of Illinois Press (2019) p. 40)"
   ]
  },
  {
   "cell_type": "markdown",
   "id": "67c3f65b-5977-4008-a96d-676dfcde9879",
   "metadata": {},
   "source": [
    "<a id='section-2'></a>\n",
    "### Editing and running code in notebooks\n",
    "\n",
    "To edit a cell, double click the cell. \n",
    "\n",
    "To run a code cell (or render a Markdown cell):  \n",
    "> - select the cell (a blue line will appear on the left when the cell is selected)  \n",
    "> - click the \"play\" icon at the top of the notebook OR press shift+enter.\n",
    "\n",
    "Note that the code cells have a pair of square brackets with a colon next to them [ ]:  \n",
    "Once you run a code cell a number will appear on the left. This tells you how many times the cell was run and in what order — this can help you keep track of which cells were run and in what order.  \n",
    "\n",
    "Try running the code cell above a couple of times and see the number in square brackets change.  \n",
    "\n",
    "Now run the cell below:"
   ]
  },
  {
   "cell_type": "code",
   "execution_count": null,
   "id": "0ecb82ec-8731-4a49-87fe-835a4488c05a",
   "metadata": {},
   "outputs": [],
   "source": [
    "print('Waiting 5 seconds...')\n",
    "import time\n",
    "time.sleep(5)\n",
    "print('Done')"
   ]
  },
  {
   "cell_type": "markdown",
   "id": "c6961538-050d-4536-9a54-e28ac7f5d25a",
   "metadata": {},
   "source": [
    "Did you notice the asterisk in the brackets when running the cell? An asterisk displays whilst code is still busy executing, and the number appears when it has finished executing.  \n",
    "\n",
    "Beneath the code cell, any output from running the code will appear. In the case of the cell above \"Waiting 5 second...\" and \"Done\" were printed beneath the cell."
   ]
  },
  {
   "cell_type": "markdown",
   "id": "891a82a1-2a84-40a2-aa02-a8cc6f05ad94",
   "metadata": {},
   "source": [
    "<a id='section-4'></a>\n",
    "# Introduction to Python"
   ]
  },
  {
   "cell_type": "markdown",
   "id": "9d96cd9e-0841-43ec-858a-33034b20c2a8",
   "metadata": {},
   "source": [
    "Writing code involves describing a series of steps (detailed instructions) to go through in order to perform a task. Writing code involves _expressing_ instructions that you want to realize in programmatic language, the instructions you have provided are _evaluated_ which results in an _output_. Code allows you to specify instructions that the computer will follow. Whilst programming languages are in some ways very rigid — the *exact* syntax and instructions need to be defined in order for it to work — this doesn’t mean there isn’t some degree of flexibility. There are multiple ways of achieving something through code, and people have different coding styles that might differ according to their goals (e.g. is the code efficient? is the code readable? etc.)."
   ]
  },
  {
   "cell_type": "markdown",
   "id": "7e67be36-4b4a-49da-a5a9-24224468a960",
   "metadata": {},
   "source": [
    "### Anatomy of a Python Script"
   ]
  },
  {
   "cell_type": "markdown",
   "id": "f6837dfd-d7d1-4dd7-9cc4-b588fe667600",
   "metadata": {},
   "source": [
    "Here is an example of a programme. The end-goal (output) of this programme is to count and display the most frequent words in a given text. We're going to go through this example script and break it down to look at some basics of the Python programming language."
   ]
  },
  {
   "cell_type": "code",
   "execution_count": 33,
   "id": "86d08b18-9d53-400f-9635-bcd0903e18b5",
   "metadata": {
    "scrolled": true,
    "tags": []
   },
   "outputs": [
    {
     "data": {
      "text/plain": [
       "[('gutenberg', 98),\n",
       " ('project', 88),\n",
       " ('tm', 57),\n",
       " ('work', 49),\n",
       " ('1', 47),\n",
       " ('john', 45),\n",
       " ('one', 35),\n",
       " ('works', 33),\n",
       " ('said', 30),\n",
       " ('would', 27),\n",
       " ('see', 27),\n",
       " ('electronic', 27),\n",
       " ('foundation', 25),\n",
       " ('paper', 24),\n",
       " ('get', 24),\n",
       " ('room', 24),\n",
       " ('pattern', 24),\n",
       " ('e', 23),\n",
       " ('terms', 22),\n",
       " ('like', 21),\n",
       " ('little', 20),\n",
       " ('must', 20),\n",
       " ('copyright', 20),\n",
       " ('states', 19),\n",
       " ('license', 18),\n",
       " ('agreement', 18),\n",
       " ('wallpaper', 17),\n",
       " ('use', 17),\n",
       " ('may', 17),\n",
       " ('much', 17),\n",
       " ('good', 16),\n",
       " ('think', 16),\n",
       " ('full', 16),\n",
       " ('know', 16),\n",
       " ('united', 15),\n",
       " ('well', 15),\n",
       " ('go', 15),\n",
       " ('donations', 15),\n",
       " ('away', 14),\n",
       " ('things', 14)]"
      ]
     },
     "execution_count": 33,
     "metadata": {},
     "output_type": "execute_result"
    }
   ],
   "source": [
    "#Importing the libraries and modules we'll need\n",
    "import re\n",
    "from collections import Counter\n",
    "\n",
    "#Defining a function to split our text into words\n",
    "def split_into_words(any_chunk_of_text):\n",
    "    lowercase_text = any_chunk_of_text.lower()\n",
    "    split_words = re.split(\"\\W+\", lowercase_text)\n",
    "    return split_words\n",
    "\n",
    "#Defining variables we're going to need\n",
    "#Giving the path to the text we're going to analyze\n",
    "filepath_of_text = \"gilman.txt\"\n",
    "\n",
    "number_of_desired_words = 40\n",
    "\n",
    "#Defining a list of stopwords\n",
    "stopwords = ['i', 'me', 'my', 'myself', 'we', 'our', 'ours', 'ourselves', 'you', 'your', 'yours',\n",
    " 'yourself', 'yourselves', 'he', 'him', 'his', 'himself', 'she', 'her', 'hers',\n",
    " 'herself', 'it', 'its', 'itself', 'they', 'them', 'their', 'theirs', 'themselves',\n",
    " 'what', 'which', 'who', 'whom', 'this', 'that', 'these', 'those', 'am', 'is', 'are',\n",
    " 'was', 'were', 'be', 'been', 'being', 'have', 'has', 'had', 'having', 'do', 'does',\n",
    " 'did', 'doing', 'a', 'an', 'the', 'and', 'but', 'if', 'or', 'because', 'as', 'until',\n",
    " 'while', 'of', 'at', 'by', 'for', 'with', 'about', 'against', 'between', 'into',\n",
    " 'through', 'during', 'before', 'after', 'above', 'below', 'to', 'from', 'up', 'down',\n",
    " 'in', 'out', 'on', 'off', 'over', 'under', 'again', 'further', 'then', 'once', 'here',\n",
    " 'there', 'when', 'where', 'why', 'how', 'all', 'any', 'both', 'each', 'few', 'more',\n",
    " 'most', 'other', 'some', 'such', 'no', 'nor', 'not', 'only', 'own', 'same', 'so',\n",
    " 'than', 'too', 'very', 's', 't', 'can', 'will', 'just', 'don', 'should', 'now', 've', 'll', 'amp']\n",
    "\n",
    "#Opening and Reading the text to analyze it\n",
    "full_text = open(filepath_of_text, encoding=\"utf-8\").read()\n",
    "\n",
    "#Splitting the text into words by using our previously defined function\n",
    "all_the_words = split_into_words(full_text)\n",
    "\n",
    "#Making a list of words with our stopwords removed\n",
    "meaningful_words = []\n",
    "for word in all_the_words:\n",
    "        if word not in stopwords:\n",
    "            meaningful_words.append(word)\n",
    "\n",
    "\"\"\" Another way of writing this for loop\n",
    "meaningful_words = [word for word in all_the_words if word not in stopwords] \"\"\"\n",
    "\n",
    "#Counting how many times each word in our \"meaningful_words\" list appears\n",
    "meaningful_words_tally = Counter(meaningful_words)\n",
    "\n",
    "#Pulling out the top 40 most frequently occurring words from our complete tally using hte \"most_common\" method\n",
    "most_frequent_meaningful_words = meaningful_words_tally.most_common(number_of_desired_words)\n",
    "\n",
    "#Display these top 40 most frequent words\n",
    "most_frequent_meaningful_words"
   ]
  },
  {
   "cell_type": "markdown",
   "id": "562516a1-8b89-4287-9525-1bc3a7bc1502",
   "metadata": {},
   "source": [
    "If you're encountering a `FileNotFound` error when you run the program, check that you have copy and pasted the \"gilman.txt\" file from the notebooks repository into your home directory (just as you did with the notebook). The \"gileman.txt\" file and the notebook need to be in the same place (more on this in the Filepaths section below in Working with text files)."
   ]
  },
  {
   "cell_type": "markdown",
   "id": "83620919-69ea-462d-b663-8330d006b222",
   "metadata": {},
   "source": [
    "<a id='section-5'></a>\n",
    "#### Imports\n",
    "\n",
    "There is a lot of code that has already been written, and writing your own code can mostly involve adapting code already written by others to your own needs.  \n",
    "\n",
    "At the top of a program, it is common to import any libraries or modules you might need later on in the program.  \n",
    "\n",
    "Python incudes many libraries (importable packages of already written code) that can do different things. In this case we are importing the library `re` (for regular expressions, which will allow us to use regular expressions to clean up our text) and from the `collections` library we’re importing the module `Counter` (which will allow us to count things)."
   ]
  },
  {
   "cell_type": "code",
   "execution_count": null,
   "id": "619512a9-95a4-461a-9f89-faeb91342a82",
   "metadata": {},
   "outputs": [],
   "source": [
    "import re\n",
    "from collections import Counter"
   ]
  },
  {
   "cell_type": "markdown",
   "id": "844a744d-751e-40d8-8cbd-6b7e6ba136a5",
   "metadata": {},
   "source": [
    "Remember the “Zen of Python” that we talked about? There is a module in Python (called `this`) that prints the “Zen of Python” when you import it."
   ]
  },
  {
   "cell_type": "code",
   "execution_count": 34,
   "id": "32cd1944-3673-4a93-9946-5187d6948d12",
   "metadata": {},
   "outputs": [
    {
     "name": "stdout",
     "output_type": "stream",
     "text": [
      "The Zen of Python, by Tim Peters\n",
      "\n",
      "Beautiful is better than ugly.\n",
      "Explicit is better than implicit.\n",
      "Simple is better than complex.\n",
      "Complex is better than complicated.\n",
      "Flat is better than nested.\n",
      "Sparse is better than dense.\n",
      "Readability counts.\n",
      "Special cases aren't special enough to break the rules.\n",
      "Although practicality beats purity.\n",
      "Errors should never pass silently.\n",
      "Unless explicitly silenced.\n",
      "In the face of ambiguity, refuse the temptation to guess.\n",
      "There should be one-- and preferably only one --obvious way to do it.\n",
      "Although that way may not be obvious at first unless you're Dutch.\n",
      "Now is better than never.\n",
      "Although never is often better than *right* now.\n",
      "If the implementation is hard to explain, it's a bad idea.\n",
      "If the implementation is easy to explain, it may be a good idea.\n",
      "Namespaces are one honking great idea -- let's do more of those!\n"
     ]
    }
   ],
   "source": [
    "import this"
   ]
  },
  {
   "cell_type": "markdown",
   "id": "f6c6e2ab-2221-4b11-b71d-3342a9769299",
   "metadata": {},
   "source": [
    "<a id='section-6'></a>\n",
    "#### Functions\n",
    "\n",
    "Functions are bundles of code that performs a particular task. Often a function involves giving some kind of input or specifications to the function (called “arguments” that you pass to the function in brackets), the function then performs its task on the input and returns an output (the result of its task on this particular input).\n",
    "\n",
    "Python has a number of prewritten (or built-in) functions. For example, the function `print()` will print to the screen the argument you pass to it.  \n",
    "\n",
    "Run the cell below. And then try adding your name to “Hello!” and run the cell again. "
   ]
  },
  {
   "cell_type": "code",
   "execution_count": null,
   "id": "43c93846-31b1-4a37-9549-d7a37cc9c4f1",
   "metadata": {},
   "outputs": [],
   "source": [
    "print(\"Hello!\")"
   ]
  },
  {
   "cell_type": "markdown",
   "id": "4eae5e8e-9268-4471-a8a6-2b84f624e459",
   "metadata": {},
   "source": [
    "Functions performs different tasks. Notice how the same input with a different function returns a different results (can you guess what this `len()` function does from the returned output?):"
   ]
  },
  {
   "cell_type": "code",
   "execution_count": null,
   "id": "da4e404d-089f-4a43-bd2b-f8c8cc4c5661",
   "metadata": {},
   "outputs": [],
   "source": [
    "len(\"Hello!\")"
   ]
  },
  {
   "cell_type": "markdown",
   "id": "54654c82-406f-4b66-b9fe-d24045a060fa",
   "metadata": {},
   "source": [
    "**_Defining Functions_**\n",
    "\n",
    "You can also write your own functions. This is called defining a function. \n",
    "\n",
    "It is useful to write your own functions if you want to bundle together a series of steps to achieve a particular goal. This make the code neater and easier to manage. It also means you can re-use that function anywhere in the code, you just have to “call” it by its name. \n",
    "\n",
    "In this case we have defined a function called `split_into_words` that will split our text into individuals words and that takes `any_chunk_of_text` as its argument.  \n",
    "- To define a function we write a function definition statement: starting with the keyword `def` (short for define) then the name we want to give the function and in brackets any parameters we might need to pass to the function (or nothing in brackets if no parameters are necessary). All this is followed by a colon `:`.  \n",
    "- Then there is an indented block of code that specifies what the function does. Note that this block of code is indented. Indentation is important in python as it defines where the block of code starts and ends. Anything indented will be part of the function definition. If it is not indented it will be considered not part of the function definition.  \n",
    "- The`return` statement at the end of the function sends the value that results from the function execution out to where the function was called from.  \n",
    "\n",
    "We will go into the details of what the function `split_into_words` is doing further below in the Methods section."
   ]
  },
  {
   "cell_type": "code",
   "execution_count": null,
   "id": "dad04697-fc3b-4cd5-8d46-95cd3ab2f271",
   "metadata": {},
   "outputs": [],
   "source": [
    "def split_into_words(any_chunk_of_text):\n",
    "    lowercase_text = any_chunk_of_text.lower()\n",
    "    split_words = re.split(\"\\W+\", lowercase_text)\n",
    "    return split_words"
   ]
  },
  {
   "cell_type": "markdown",
   "id": "082b4366-eab4-4e57-9768-818da6f8f061",
   "metadata": {},
   "source": [
    "<a id='section-7'></a>\n",
    "#### Variables\n",
    "\n",
    "Next in our program we see we have defined some “variables”. "
   ]
  },
  {
   "cell_type": "code",
   "execution_count": null,
   "id": "37abaa11-98cd-4d2a-94a3-c1e611f934ef",
   "metadata": {},
   "outputs": [],
   "source": [
    "filepath_of_text = \"gilman.txt\"\n",
    "\n",
    "number_of_desired_words = 40"
   ]
  },
  {
   "cell_type": "markdown",
   "id": "781c74df-9eb1-4aee-a10c-2d0af218c958",
   "metadata": {},
   "source": [
    "Variables are like containers that store information. You assign to a variable a value that you want to use later on. Then you only need to use the name of the variable later on. The value of a variable can be overwritten if you assign a new value to the same name. \n",
    "\n",
    "You can give a variable almost any name you want, but there are a few limitations. The name can’t start with a number (it needs to start with a letter), there can be no spaces in the name and no punctuation apart from underscore (\\_\\), and it cannot be a python reserve word (i.e. a word that already has a specific meaning in the python language). \n",
    "\n",
    "For example here we assign the value `“Hello!”`to a variable called greeting. And then we can pass that value to a function such as print instead of writing out “Hello!” again."
   ]
  },
  {
   "cell_type": "code",
   "execution_count": null,
   "id": "2ee54f52-547c-4847-b721-2515d43b5b27",
   "metadata": {},
   "outputs": [],
   "source": [
    "greeting = \"Hello!\"\n",
    "print(greeting)"
   ]
  },
  {
   "cell_type": "markdown",
   "id": "96a7d7a1-5973-410f-a350-93319e5f90b4",
   "metadata": {},
   "source": [
    "<a id='section-8'></a>\n",
    "#### Data Types\n",
    "\n",
    "Notice how the variables we have assigned in our program look a bit different. One is a number that appears in green. The other are some words that appear in red in between quotation marks. \n",
    "\n",
    "This is because numbers and words are different data types in Python: depending on what type of data something is there are different rules about how to write them into code, and different possibilities about what you can do with them and how you can use them."
   ]
  },
  {
   "cell_type": "code",
   "execution_count": 35,
   "id": "fd1a8c95-15e1-47ca-a68f-46cb40901e6c",
   "metadata": {},
   "outputs": [],
   "source": [
    "filepath_to_text = \"gilman.txt\"\n",
    "\n",
    "number_of_desired_words = 40"
   ]
  },
  {
   "cell_type": "markdown",
   "id": "0965092f-8f00-46fa-81f2-d12397fff813",
   "metadata": {},
   "source": [
    "The function `type()` returns what type of data something is:"
   ]
  },
  {
   "cell_type": "code",
   "execution_count": 36,
   "id": "4f0bf3ea-7899-4324-9736-0b45401a4858",
   "metadata": {},
   "outputs": [
    {
     "data": {
      "text/plain": [
       "str"
      ]
     },
     "execution_count": 36,
     "metadata": {},
     "output_type": "execute_result"
    }
   ],
   "source": [
    "type(\"Hello!\")"
   ]
  },
  {
   "cell_type": "markdown",
   "id": "1a2583ec-9675-485e-a37c-fe2f2df64538",
   "metadata": {},
   "source": [
    "Let’s start by looking at four basic data types: \n",
    "\n",
    "*String*: strings store characters such as letters or numbers. String are essentially text. To specify something is a string you need to write it in “quotation marks” (both ‘single’ or “double” quotation marks work).\n",
    "\n",
    "Try finding out what data type these examples are below using the `type()` function:"
   ]
  },
  {
   "cell_type": "code",
   "execution_count": 37,
   "id": "2ff95b90-6c83-4048-91fe-797ca690b5c6",
   "metadata": {},
   "outputs": [
    {
     "data": {
      "text/plain": [
       "str"
      ]
     },
     "execution_count": 37,
     "metadata": {},
     "output_type": "execute_result"
    }
   ],
   "source": [
    "example = 'forty'\n",
    "another_example = \"40\"\n",
    "a_final_example = 40\n",
    "type(example)"
   ]
  },
  {
   "cell_type": "markdown",
   "id": "e28ffe35-8bc5-49f8-9704-9926e9d9a63d",
   "metadata": {},
   "source": [
    "As you can see, the final example is a not a string (or text), it was not written in quotation marks. It is an *integer* (i.e. a whole number). Decimal numbers in python are called *floats* (or floating-point number). "
   ]
  },
  {
   "cell_type": "code",
   "execution_count": 38,
   "id": "b3a89151-313f-4b62-86f8-1e2d6be75e00",
   "metadata": {},
   "outputs": [
    {
     "name": "stdout",
     "output_type": "stream",
     "text": [
      "<class 'int'>\n",
      "<class 'float'>\n"
     ]
    }
   ],
   "source": [
    "integer_example = type(40)\n",
    "float_example = type(4.5)\n",
    "print(integer_example)\n",
    "print(float_example)"
   ]
  },
  {
   "cell_type": "markdown",
   "id": "7b9cd89f-b9f8-424c-a59a-c24b269e952d",
   "metadata": {},
   "source": [
    "There are different things you can do with different data types. See here how the exact same syntax produces different outputs depending on whether the data type is a string or an integer."
   ]
  },
  {
   "cell_type": "code",
   "execution_count": 39,
   "id": "f8bd53d1-e941-4650-beca-85b111ee574b",
   "metadata": {},
   "outputs": [
    {
     "data": {
      "text/plain": [
       "80"
      ]
     },
     "execution_count": 39,
     "metadata": {},
     "output_type": "execute_result"
    }
   ],
   "source": [
    "addition = a_final_example + a_final_example\n",
    "addition"
   ]
  },
  {
   "cell_type": "code",
   "execution_count": 40,
   "id": "a3b0e3f5-d8da-4292-a29a-d9efcef116ba",
   "metadata": {},
   "outputs": [
    {
     "data": {
      "text/plain": [
       "'4040'"
      ]
     },
     "execution_count": 40,
     "metadata": {},
     "output_type": "execute_result"
    }
   ],
   "source": [
    "addition = another_example + another_example\n",
    "addition"
   ]
  },
  {
   "cell_type": "markdown",
   "id": "72e10289-38f4-4645-ab79-b3c4d8acb8ca",
   "metadata": {},
   "source": [
    "How would you find out what type of data our variables are below using `type()`?"
   ]
  },
  {
   "cell_type": "code",
   "execution_count": null,
   "id": "1040e237-2f44-4278-ad28-955abdc60d56",
   "metadata": {},
   "outputs": [],
   "source": [
    "filepath_to_text = \"gilman.txt\"\n",
    "\n",
    "number_of_desired_words = 40"
   ]
  },
  {
   "cell_type": "markdown",
   "id": "c6ce652a-6f76-47a9-bc59-94828dbbd957",
   "metadata": {},
   "source": [
    "We’ve also assigned another kind of data type to the variable “stopwords”."
   ]
  },
  {
   "cell_type": "code",
   "execution_count": 41,
   "id": "18164612-9428-4af7-9759-b66969431cca",
   "metadata": {},
   "outputs": [
    {
     "data": {
      "text/plain": [
       "list"
      ]
     },
     "execution_count": 41,
     "metadata": {},
     "output_type": "execute_result"
    }
   ],
   "source": [
    "stopwords = ['i', 'me', 'my', 'myself', 'we', 'our', 'ours', 'ourselves', 'you', 'your', 'yours',\n",
    " 'yourself', 'yourselves', 'he', 'him', 'his', 'himself', 'she', 'her', 'hers',\n",
    " 'herself', 'it', 'its', 'itself', 'they', 'them', 'their', 'theirs', 'themselves',\n",
    " 'what', 'which', 'who', 'whom', 'this', 'that', 'these', 'those', 'am', 'is', 'are',\n",
    " 'was', 'were', 'be', 'been', 'being', 'have', 'has', 'had', 'having', 'do', 'does',\n",
    " 'did', 'doing', 'a', 'an', 'the', 'and', 'but', 'if', 'or', 'because', 'as', 'until',\n",
    " 'while', 'of', 'at', 'by', 'for', 'with', 'about', 'against', 'between', 'into',\n",
    " 'through', 'during', 'before', 'after', 'above', 'below', 'to', 'from', 'up', 'down',\n",
    " 'in', 'out', 'on', 'off', 'over', 'under', 'again', 'further', 'then', 'once', 'here',\n",
    " 'there', 'when', 'where', 'why', 'how', 'all', 'any', 'both', 'each', 'few', 'more',\n",
    " 'most', 'other', 'some', 'such', 'no', 'nor', 'not', 'only', 'own', 'same', 'so',\n",
    " 'than', 'too', 'very', 's', 't', 'can', 'will', 'just', 'don', 'should', 'now', 've', 'll', 'amp']\n",
    "\n",
    "type(stopwords)"
   ]
  },
  {
   "cell_type": "markdown",
   "id": "a387adf7-73e8-48f2-a548-c0f0b1df8ade",
   "metadata": {},
   "source": [
    "The `type()` function tells us this is a _list_. A list is one of Python’s collection types of data types. Collection types are data types that allow us to store many values together in a single variable. Differences between collection types involve how items are stored and how we can retrieve or access them. \n",
    "\n",
    "With a list you can list a collection of items (between square brackets and separated by commas) into a single list. Here we are listing a collection of strings and integers:"
   ]
  },
  {
   "cell_type": "code",
   "execution_count": 42,
   "id": "d8e5fd68-a770-41d2-bdad-eafca0acf970",
   "metadata": {},
   "outputs": [],
   "source": [
    "list_items = [4, \"apples\", 1, \"pear\", 5, \"oranges\", 6, \"melons\", 23, \"kiwis\"]"
   ]
  },
  {
   "cell_type": "markdown",
   "id": "ae365020-0065-4a19-95f1-c95528771dc2",
   "metadata": {},
   "source": [
    "Another kind of collections type in Python is a _dictionary_. In a dictionary you can list a collection of items (between curly brackets and separated by commas) with particular values assigned to each of those items. If we were to rewrite our previous list as a dictionary we could write:"
   ]
  },
  {
   "cell_type": "code",
   "execution_count": null,
   "id": "59a70a44-929c-4247-acc3-babce2a7dc27",
   "metadata": {},
   "outputs": [],
   "source": [
    "dictionary_items = {\"apples\": 4, \"pear\": 1, \"oranges\": 5, \"melons\": 6, \"kiwis\": 23}"
   ]
  },
  {
   "cell_type": "markdown",
   "id": "03c3879f-70bb-440a-9a55-7420de1d1b14",
   "metadata": {},
   "source": [
    "If we wanted to retrieve an item from a list, we can do this using its index (or location in the sequence of items in the list)."
   ]
  },
  {
   "cell_type": "code",
   "execution_count": 43,
   "id": "391f6619-311e-4f4a-90f0-28ef65a8d6f4",
   "metadata": {},
   "outputs": [
    {
     "data": {
      "text/plain": [
       "'apples'"
      ]
     },
     "execution_count": 43,
     "metadata": {},
     "output_type": "execute_result"
    }
   ],
   "source": [
    "list_items[1]"
   ]
  },
  {
   "cell_type": "markdown",
   "id": "5a3805f4-be7f-413e-8ce2-5a0e011556ad",
   "metadata": {},
   "source": [
    "Note how when we retrieve the item at index “1” in the list it gives us the second item. That is because Python counts from 0, so the first item in the list is at index \\[0]\\. Try retrieving different items from the list using different index numbers. "
   ]
  },
  {
   "cell_type": "markdown",
   "id": "43e4ffcf-3c60-4acf-abc4-f99335331cf7",
   "metadata": {},
   "source": [
    "You can also use reverse index to get the last item on the list without knowing how many items are in the list."
   ]
  },
  {
   "cell_type": "code",
   "execution_count": 44,
   "id": "981ca044-dcbd-4349-8f6c-d88205f0a619",
   "metadata": {},
   "outputs": [
    {
     "data": {
      "text/plain": [
       "'kiwis'"
      ]
     },
     "execution_count": 44,
     "metadata": {},
     "output_type": "execute_result"
    }
   ],
   "source": [
    "list_items[-1]"
   ]
  },
  {
   "cell_type": "markdown",
   "id": "521baaa0-7442-4b80-b0a4-ef7e8952aedd",
   "metadata": {},
   "source": [
    "You can also take a slice of items in your list by using index numbers and colons: "
   ]
  },
  {
   "cell_type": "markdown",
   "id": "17a334b1-1182-4a14-9782-184ba08d4a63",
   "metadata": {},
   "source": [
    "- You can slice from the start of the list (i.e. index [0]) up to a given index (excluding index given):"
   ]
  },
  {
   "cell_type": "code",
   "execution_count": 45,
   "id": "42dda058-27c6-4a79-a00f-50212130aade",
   "metadata": {},
   "outputs": [
    {
     "data": {
      "text/plain": [
       "[4, 'apples']"
      ]
     },
     "execution_count": 45,
     "metadata": {},
     "output_type": "execute_result"
    }
   ],
   "source": [
    "list_items[:2]"
   ]
  },
  {
   "cell_type": "markdown",
   "id": "b1f4f4b6-e758-4cc1-a0cf-2cfe8471afe1",
   "metadata": {},
   "source": [
    "- You can slice from the end of the list until a given index: "
   ]
  },
  {
   "cell_type": "code",
   "execution_count": 46,
   "id": "488ac5eb-8130-4932-b9eb-97ab85e1e618",
   "metadata": {},
   "outputs": [
    {
     "data": {
      "text/plain": [
       "[1, 'pear', 5, 'oranges', 6, 'melons', 23, 'kiwis']"
      ]
     },
     "execution_count": 46,
     "metadata": {},
     "output_type": "execute_result"
    }
   ],
   "source": [
    "list_items[2:]"
   ]
  },
  {
   "cell_type": "code",
   "execution_count": 47,
   "id": "f1ee480c-3684-43c4-8c97-7afa0e2028d4",
   "metadata": {},
   "outputs": [
    {
     "data": {
      "text/plain": [
       "[23, 'kiwis']"
      ]
     },
     "execution_count": 47,
     "metadata": {},
     "output_type": "execute_result"
    }
   ],
   "source": [
    "list_items[-2:]"
   ]
  },
  {
   "cell_type": "markdown",
   "id": "87c9b344-e44d-440f-a90e-84258d62b633",
   "metadata": {},
   "source": [
    "- You can also slice by stepping over a given number of items. For example, starting at the second item in the list (index 1) and going until the end of the list, stepping by 2 (missing every other item)."
   ]
  },
  {
   "cell_type": "code",
   "execution_count": null,
   "id": "01d77ecd-1cc4-426e-b3fa-49ea14aa2473",
   "metadata": {},
   "outputs": [],
   "source": [
    "list_items[1::2]"
   ]
  },
  {
   "cell_type": "markdown",
   "id": "02c0069c-5747-4a50-ad99-5dfe558c5bdc",
   "metadata": {},
   "source": [
    "Here is a notation to formalize these different slicing options:"
   ]
  },
  {
   "cell_type": "code",
   "execution_count": null,
   "id": "edd7e759-1422-46fd-924d-32a4edf4d763",
   "metadata": {},
   "outputs": [],
   "source": [
    "your_list[start:stop:step]"
   ]
  },
  {
   "cell_type": "markdown",
   "id": "83c04716-ce47-40a3-9d22-e5ed039acf7f",
   "metadata": {},
   "source": [
    "In a dictionary, items are not ordered according to their sequence, like in a list. They are ordered as _key-value_ pairs. Each item (key) has a value associated to it. We can therefore retrieve values by using their associated key, rather than using the index number in the sequence (as we did in a list). You can also use reverse index to get the last item on the list without knowing how many items are in the list."
   ]
  },
  {
   "cell_type": "code",
   "execution_count": null,
   "id": "eaf267be-ea16-49cb-ba18-df78388789ed",
   "metadata": {},
   "outputs": [],
   "source": [
    "dictionary_items[\"apples\"]"
   ]
  },
  {
   "cell_type": "markdown",
   "id": "5560ee84-2114-48ca-811e-3b31b9db1ce6",
   "metadata": {},
   "source": [
    "<a id='section-9'></a>\n",
    "#### Methods \n",
    "\n",
    "Different data types therefore allow us to structure different kinds of information in different ways, and allow us to do different things with the information. There are things that you can only do with strings or with lists. The way you interact and do things with data types is through _methods_."
   ]
  },
  {
   "cell_type": "markdown",
   "id": "7a118194-d70f-4665-b74c-f448e68d7ab2",
   "metadata": {},
   "source": [
    "<a id='section-10'></a>\n",
    "#### List methods\n",
    "\n",
    "The syntax for writing methods is an input (i.e. what you’re applying the method to) followed by a dot and the name of the method and brackets (in which we can pass the method any arguments, any particular specifications, just like we could with a function). \n",
    "\n",
    "For example, there are list methods for adding items to a list, removing items from a list, or sorting items in a list."
   ]
  },
  {
   "cell_type": "markdown",
   "id": "d48e1b33-5096-4312-845e-cd40513daaf8",
   "metadata": {},
   "source": [
    "- Add an item to a list with the `.append()` method"
   ]
  },
  {
   "cell_type": "code",
   "execution_count": 49,
   "id": "44395c82-a598-4185-8b61-32ba1c24a199",
   "metadata": {},
   "outputs": [
    {
     "data": {
      "text/plain": [
       "['apples', 'pear', 'oranges', 'melons', 'kiwis', 'blueberries']"
      ]
     },
     "execution_count": 49,
     "metadata": {},
     "output_type": "execute_result"
    }
   ],
   "source": [
    "list_items = [\"apples\", \"pear\", \"oranges\", \"melons\", \"kiwis\"]\n",
    "list_items.append(\"blueberries\")\n",
    "list_items"
   ]
  },
  {
   "cell_type": "markdown",
   "id": "fd5821ee-9050-4417-8597-5dfb9d29c702",
   "metadata": {},
   "source": [
    "- Remove the first instance of an items with the `remove()` method"
   ]
  },
  {
   "cell_type": "code",
   "execution_count": 50,
   "id": "8047a91d-0ea5-4213-8ffa-057d6d7bcce5",
   "metadata": {},
   "outputs": [
    {
     "data": {
      "text/plain": [
       "['apples', 'pear', 'oranges', 'melons', 'kiwis']"
      ]
     },
     "execution_count": 50,
     "metadata": {},
     "output_type": "execute_result"
    }
   ],
   "source": [
    "list_items.remove(\"blueberries\")\n",
    "list_items"
   ]
  },
  {
   "cell_type": "markdown",
   "id": "0a1ea9de-a871-4174-8467-89aacb243184",
   "metadata": {},
   "source": [
    "- Sort the order in which the items in a list appear with the `sort()` method."
   ]
  },
  {
   "cell_type": "code",
   "execution_count": 51,
   "id": "95d40ea1-cae7-4c3b-b325-0908592167c4",
   "metadata": {},
   "outputs": [
    {
     "data": {
      "text/plain": [
       "['apples', 'kiwis', 'melons', 'oranges', 'pear']"
      ]
     },
     "execution_count": 51,
     "metadata": {},
     "output_type": "execute_result"
    }
   ],
   "source": [
    "list_items.sort()\n",
    "list_items"
   ]
  },
  {
   "cell_type": "markdown",
   "id": "2babf774-c70c-4b98-8b86-91879519601c",
   "metadata": {},
   "source": [
    "The default is for items to be sorted in ascending order (from small to large number or in alphabetical order).  \n",
    "`list.sort(reverse=False)`  \n",
    "You can change the default by setting the default parameter to `True` to sort in descending or reverse order."
   ]
  },
  {
   "cell_type": "code",
   "execution_count": 52,
   "id": "ac99fea9-0fb6-4ab6-b211-83cea4945c64",
   "metadata": {},
   "outputs": [
    {
     "data": {
      "text/plain": [
       "['pear', 'oranges', 'melons', 'kiwis', 'apples']"
      ]
     },
     "execution_count": 52,
     "metadata": {},
     "output_type": "execute_result"
    }
   ],
   "source": [
    "list_items.sort(reverse=True)\n",
    "list_items"
   ]
  },
  {
   "cell_type": "markdown",
   "id": "7c419920-3bdb-42ac-b018-d78dc9b45c2b",
   "metadata": {},
   "source": [
    "- If you want to add multiple items you could extend the list by adding another list to the list. "
   ]
  },
  {
   "cell_type": "code",
   "execution_count": 53,
   "id": "e591599a-fb07-4a34-941d-1b1b2fd6657d",
   "metadata": {},
   "outputs": [
    {
     "data": {
      "text/plain": [
       "['pear', 'oranges', 'melons', 'kiwis', 'apples', 'blueberries', 'grapes']"
      ]
     },
     "execution_count": 53,
     "metadata": {},
     "output_type": "execute_result"
    }
   ],
   "source": [
    "new_items = [\"blueberries\", \"grapes\"]\n",
    "list_items.extend(new_items)\n",
    "list_items"
   ]
  },
  {
   "cell_type": "markdown",
   "id": "eef91b59-be66-40e8-819f-9203a0a1c1e4",
   "metadata": {},
   "source": [
    "<a id='section-11'></a>\n",
    "#### String Methods\n",
    "String methods provide different ways of interacting with and doing things with strings (text). \n",
    "\n",
    "For example, you could turn all characters in a string sequence to upper case or lower case using the `upper()` and `lower()`string methods. (Why this is important will become clearer later when we talk about pre-processing)."
   ]
  },
  {
   "cell_type": "code",
   "execution_count": 54,
   "id": "99516ac2-7c34-4ca6-b8ee-2c5b088ba52b",
   "metadata": {},
   "outputs": [
    {
     "name": "stdout",
     "output_type": "stream",
     "text": [
      "HERE IS AN EXAMPLE.\n",
      "here is an example.\n"
     ]
    }
   ],
   "source": [
    "example_string = \"Here is an example.\"\n",
    "\n",
    "example_string = example_string.upper()\n",
    "print(example_string)\n",
    "\n",
    "example_string = example_string.lower()\n",
    "print(example_string)"
   ]
  },
  {
   "cell_type": "markdown",
   "id": "a1274c05-43e0-4761-af34-0b8904862511",
   "metadata": {},
   "source": [
    "Note how the variable `example_string` gets rewritten with new content. "
   ]
  },
  {
   "cell_type": "markdown",
   "id": "e6358e62-ab8e-4301-923e-f382104e6d40",
   "metadata": {},
   "source": [
    "Another useful string method to know about is `replace()`. This method replaces a defined string with a new string. For example, sometimes there are encoding issues when scrapping text and we might have our text look like this. "
   ]
  },
  {
   "cell_type": "code",
   "execution_count": 56,
   "id": "b14115df-da8f-446a-9ceb-9010b715c833",
   "metadata": {},
   "outputs": [],
   "source": [
    "replace_example = \"Here\\xa0is\\xa0an\\xa0example.\""
   ]
  },
  {
   "cell_type": "markdown",
   "id": "016f1495-4d89-48b0-bc96-3a5686e2a0ba",
   "metadata": {},
   "source": [
    "“\\xa0” is the Unicode code-point for a space. We would probably want the replace the unicode code-point with a space and re-encode our text. "
   ]
  },
  {
   "cell_type": "markdown",
   "id": "23964192-97b2-461f-b617-a592033bc97c",
   "metadata": {},
   "source": [
    "What's a Unicode code-point?  \n",
    "Encodings are systems that define relations between two systems of representation for example, between numbers and letters or characters. Unicode is a standard that aspires to define a unique ID number (or “code-point\") for every character in all kinds of different languages around the world (and even emojis). This unique code-point can then be used to encode words into bits in order to represent text digitally (through the unicode encodings such as utf-8)."
   ]
  },
  {
   "cell_type": "code",
   "execution_count": 57,
   "id": "30b63b1b-6249-40f5-91a4-38e3978f672f",
   "metadata": {},
   "outputs": [
    {
     "data": {
      "text/plain": [
       "b'Here is an example.'"
      ]
     },
     "execution_count": 57,
     "metadata": {},
     "output_type": "execute_result"
    }
   ],
   "source": [
    "replace_example = replace_example.replace(\"\\xa0\", \" \").encode(\"utf-8\")\n",
    "replace_example"
   ]
  },
  {
   "cell_type": "markdown",
   "id": "f35b3503-241d-4b94-aa03-8bb7a6c53487",
   "metadata": {},
   "source": [
    "In our example program for counting words, we used string methods to lower case our text and to split the text."
   ]
  },
  {
   "cell_type": "code",
   "execution_count": null,
   "id": "260e832a-1272-4a85-82aa-15d0a4f5f573",
   "metadata": {},
   "outputs": [],
   "source": [
    "def split_into_words(any_chunk_of_text):\n",
    "    lowercase_text = any_chunk_of_text.lower()\n",
    "    split_words = re.split(\"\\W+\", lowercase_text)\n",
    "    return split_words"
   ]
  },
  {
   "cell_type": "markdown",
   "id": "566e1a86-9926-46ad-9970-8d277dde84b3",
   "metadata": {},
   "source": [
    "The `split()` method is a string methods that splits any string it is given according to a specified pattern or “delimiter”. It returns a list of substrings that have been split according to the specified delimiter. The default delimiter (i.e. if we were to leave the brackets blank) is a space."
   ]
  },
  {
   "cell_type": "code",
   "execution_count": 58,
   "id": "59b9bcc2-eed2-4c8b-acec-5477a8d2d650",
   "metadata": {},
   "outputs": [
    {
     "data": {
      "text/plain": [
       "['I’m',\n",
       " 'wondering',\n",
       " 'how',\n",
       " 'different',\n",
       " 'split',\n",
       " 'methods',\n",
       " 'going',\n",
       " 'to',\n",
       " 'deal',\n",
       " 'with-and',\n",
       " 'split-text',\n",
       " 'in',\n",
       " 'different',\n",
       " 'ways.']"
      ]
     },
     "execution_count": 58,
     "metadata": {},
     "output_type": "execute_result"
    }
   ],
   "source": [
    "split_example = \"I’m wondering how different split methods going to deal with-and split-text in different ways.\"\n",
    "split_example = split_example.split()\n",
    "split_example "
   ]
  },
  {
   "cell_type": "markdown",
   "id": "c05b7fe0-a597-4f76-b717-00c1404893cf",
   "metadata": {},
   "source": [
    "In our example program, we use a _regular expression_ to specify a particular pattern or delimiter according to which our text must be split. Regular expressions (or regex) are sequences of patterns or symbols that specify patterns in text. They’re like a code for referring to particular patterns in language in order to make searching for those patterns more concise and precise. In the case of our program for example, we can use a regular expression to specify that we want to split our text every time we encounter a character that is NOT a word character (letter). This is specified with the regular expression `\\W+`.  \n",
    "\n",
    "Compare the output of splitting with the regular expression compared to our previous method of using the default parameter of `split()`. Which would you prefer to use in your program?"
   ]
  },
  {
   "cell_type": "code",
   "execution_count": 59,
   "id": "83b2c1af-52a1-4077-b6e7-536765536010",
   "metadata": {},
   "outputs": [
    {
     "data": {
      "text/plain": [
       "['I',\n",
       " 'm',\n",
       " 'wondering',\n",
       " 'how',\n",
       " 'different',\n",
       " 'split',\n",
       " 'methods',\n",
       " 'going',\n",
       " 'to',\n",
       " 'deal',\n",
       " 'with',\n",
       " 'and',\n",
       " 'split',\n",
       " 'text',\n",
       " 'in',\n",
       " 'different',\n",
       " 'ways',\n",
       " '']"
      ]
     },
     "execution_count": 59,
     "metadata": {},
     "output_type": "execute_result"
    }
   ],
   "source": [
    "split_example = \"I’m wondering how different split methods going to deal with-and split-text in different ways.\"\n",
    "split_example = re.split(\"\\W+\", split_example)\n",
    "split_example"
   ]
  },
  {
   "cell_type": "markdown",
   "id": "4c06ab2b-1ccb-4cf4-a21d-9f991f72ba67",
   "metadata": {},
   "source": [
    "<a id='section-12'></a>\n",
    "#### For Loops\n",
    "\n",
    "Computers aren’t good at manipulating unstructured data such as text. In order to be able to manipulate text programmatically, we often need to restructure it in a way that makes it manipulable, such as in a list, as above, when we split our text into a list of words. \n",
    "\n",
    "Now that the text is structured as a list, we can prgorammatically manipulate it in different ways. Often, we will want to do something with every item in the list. To do this, we will need to iterate through every item in our list by using a `for` loop."
   ]
  },
  {
   "cell_type": "code",
   "execution_count": 60,
   "id": "7cb8ae1b-cd31-49e9-94dd-4e7426bd2f76",
   "metadata": {},
   "outputs": [
    {
     "name": "stdout",
     "output_type": "stream",
     "text": [
      "It\n",
      "was\n",
      "the\n",
      "best\n",
      "of\n",
      "times,\n",
      "it\n",
      "was\n",
      "the\n",
      "worst\n",
      "of\n",
      "times.\n"
     ]
    }
   ],
   "source": [
    "sample_text = \"It was the best of times, it was the worst of times.\"\n",
    "tokenized = sample_text.split()\n",
    "\n",
    "for word in tokenized:\n",
    "    print(word)"
   ]
  },
  {
   "cell_type": "markdown",
   "id": "8de02003-29e5-42fa-947b-69a5640bd727",
   "metadata": {},
   "source": [
    "To construct a `for` loop: you use the keyword `for` then a variable name that stands in for each item (such as here we used to word `word` but we could’ve used `item` or even `potato`), then you use the keyword `in` and the name of the list you are looping through followed by a colon `:`. Just like with a function, the indented body of code after the colon specifies what task is to be performed on every item in the list. "
   ]
  },
  {
   "cell_type": "markdown",
   "id": "76bb79ca-7e0a-4cf7-b77e-b19480d46d1c",
   "metadata": {},
   "source": [
    "<a id='section-13'></a>\n",
    "#### Conditionals and Boolean values\n",
    "\n",
    "In our program example, we use a `for` loop to remove stopwords from our text."
   ]
  },
  {
   "cell_type": "markdown",
   "id": "1f5e9d79-99c3-41dc-aac3-3df77c8c35ea",
   "metadata": {},
   "source": [
    "What are stopwords?  \n",
    "We will talk about this more later in the course, but when we’re analyzing text computationally we are often relying on counting words and on word frequencies. However, some very frequent words might not be very significant or relevant for our analyses. In this case, we need to remove these words from our analyses. These are called stopwords, words we remove from our analyses."
   ]
  },
  {
   "cell_type": "markdown",
   "id": "de662778-f58d-47b0-9221-06ca35379ed3",
   "metadata": {},
   "source": [
    "In order to remove the stopwords from our text (which we have restructured as a list through our `split_into_words(any_chunk_of_text)` function using the `split` method), we use a `for` loop to iterate over every item in our list and consider whether it is included in the stopwords list or not. If it is not included in the stopword list, we append it to a new list which will contain all words from our text that are not in the stopword list. "
   ]
  },
  {
   "cell_type": "code",
   "execution_count": null,
   "id": "dbbe8e1b-9ad4-4131-a1cf-7ea748398984",
   "metadata": {},
   "outputs": [],
   "source": [
    "meaningful_words = []\n",
    "for word in all_the_words:\n",
    "        if word not in stopwords:\n",
    "            meaningful_words.append(word)"
   ]
  },
  {
   "cell_type": "markdown",
   "id": "e010aa07-57a7-44fa-9f63-2cb098c49f19",
   "metadata": {},
   "source": [
    "We do this process of assessing whether a word in the stopword list or not by using a _conditional statement_. "
   ]
  },
  {
   "cell_type": "markdown",
   "id": "1945b81c-3502-4103-855d-4229ddf797ba",
   "metadata": {},
   "source": [
    "Conditional statements (or `if` statements) follow a similar syntax to that of the `for` loop (i.e. with keyword, colon and indented block of code that performs a particular task).  \n",
    "\n",
    "A conditional statement defines a condition and specifies an action to be taken depending on the state of the condition. In the case of our program example above, if a word is not in the stopword list, then it is appended to the new list `meaningful_words`. Conditional statements therefore allow us to change the program's behavior based on whether some condition is met or not. \n",
    "\n",
    "To define different kinds of conditions we can use comparison operators such as: \n",
    "- equal to: `==`\n",
    "- not equal to: `!=`\n",
    "- greater than: `x > y`\n",
    "- lesser than: `x < y`\n",
    "- greater than or equal to: `x >= y`\n",
    "- lesser than or equal to: `x <= y`\n",
    "- object identity: `x is y`\n",
    "- negated object identity: `x is not y`\n",
    "\n",
    "If the condition is met (or `True`) then one course of action is followed, and if the condition is not met (or `False`) then another course of action is followed. These evaluations of `True` and `False` are called _Boolean values_ and are another kind of data type in Python."
   ]
  },
  {
   "cell_type": "markdown",
   "id": "301b781c-daa5-434d-ba10-85233759f153",
   "metadata": {},
   "source": [
    "For example, we could write a `for` loop that iterates through a list of words and evaluates whether each word is longer than two characters. If this is `True`, then the word is printed, if it is not true (`False`) then it is not."
   ]
  },
  {
   "cell_type": "code",
   "execution_count": null,
   "id": "1ab88f6c-7ead-4be1-8ca2-3d1049975ff1",
   "metadata": {},
   "outputs": [],
   "source": [
    "sample_text = \"It was the best of times, it was the worst of times.\"\n",
    "tokenized = sample_text.split()\n",
    "\n",
    "for word in tokenized:\n",
    "    if len(word) > 2:\n",
    "        print(word)"
   ]
  },
  {
   "cell_type": "markdown",
   "id": "667cc464-2311-46d2-a5e6-18aa29b7e16f",
   "metadata": {},
   "source": [
    "<a id='section-14'></a>\n",
    "#### Flow of execution and Comments\n",
    "\n",
    "Python code runs from left to right and from top to bottom, one line at a time. For code to work, things need to happen in a certain order. Statements such as conditional statements can control this flow of execution, i.e. the order in which code runs. They can define whether a program follows one path of action or another.\n",
    "\n",
    "This idea of a flow of execution might be a little counter-intuitive in Notebooks because Notebooks allow you to run cells in any order, but if you start by running a cell from the bottom of a notebook that relies on a previous cell then you will probably get an error. The output of any cell that you run in a Notebook will be carried over to the next, but you need to have run the cell and in the right order. If you get errors, check that you have run the previous cells by checking the numbers in \\[brackets\\] next to the code cells."
   ]
  },
  {
   "cell_type": "markdown",
   "id": "384871e3-a55c-41ec-874d-04e851df6d53",
   "metadata": {},
   "source": [
    "<a id='section-3'></a>\n",
    "### Clearing outputs: interrupting and restarting the kernel\n",
    "\n",
    "If your code seems to be getting stuck, or if the flow of execution of the cells has become mixed up, it’s a good idea to make a fresh start and clear all the outputs. \n",
    "\n",
    "To clear the outputs of a single cell:  \n",
    "> select the cell > click Edit tab > select Clear Output\n",
    "\n",
    "> OR right click the cell and select Clear Output\n",
    "\n",
    "To clear the output from all cells:  \n",
    "> Edit tab > Clear All Outputs\n",
    "\n",
    "> OR right click the cell and select Clear All Outputs\n",
    "\n",
    "Interrupt and restart the kernel:  \n",
    "> You can click the “stop” and “restart” icons at the top of the notebook (next to the “play” icon)\n",
    "or  \n",
    "> Select Kernel tab and select the options you want (Interrupt Kernel, Restart Kernel).  \n",
    "\n",
    "Clearing outputs clears all outputs from executed code. Restarting the kernel clears the outputs and fires up the backend component that actually runs the code written in the Notebook. Notebooks are browser-based documents that run through your browser. Every time you open up a notebook it runs on a local server on your personal computer (that’s why it sometimes takes some time to load and why you can edit a notebook without altering the “original” notebook). If you restart the kernel it refreshes that environment which runs your Notebook."
   ]
  },
  {
   "cell_type": "markdown",
   "id": "4f0d112a-0aff-4449-be7e-f517727320ab",
   "metadata": {},
   "source": [
    "#### Comments"
   ]
  },
  {
   "cell_type": "markdown",
   "id": "70642ef4-0179-419c-b7b2-575fb2578555",
   "metadata": {},
   "source": [
    "You might have noticed that there are some lines in our program that start with a hash mark (`#`)."
   ]
  },
  {
   "cell_type": "code",
   "execution_count": null,
   "id": "f39c0383-f2a8-4b06-bde2-e333a08abba6",
   "metadata": {},
   "outputs": [],
   "source": [
    "#Defining variables we're going to need\n",
    "#Giving the path to the text we're going to analyze\n",
    "filepath_of_text = \"gilman.txt\""
   ]
  },
  {
   "cell_type": "markdown",
   "id": "d53bd098-ea14-4b12-9293-2ef8bb2e085d",
   "metadata": {},
   "source": [
    "These are _comments_. Comments allow us to insert comments directly in the code without disrupting the running of the code (lines starting with the hash mark will be ignored by the code). Comments  can be used to explain what different aspects of the code are doing or as a way to write in or blank out different aspects of the code."
   ]
  },
  {
   "cell_type": "code",
   "execution_count": 63,
   "id": "ac002e56-1e31-4922-9e7f-d187ae9b312c",
   "metadata": {},
   "outputs": [
    {
     "name": "stdout",
     "output_type": "stream",
     "text": [
      "['All', 'that', 'is', 'solid', 'melts', 'into', 'air,', 'all', 'that', 'is', 'holy', 'is', 'profaned,', 'and', 'man', 'is', 'at', 'last', 'compelled', 'to', 'face', 'with', 'sober', 'senses', 'his', 'real', 'conditions', 'of', 'life', 'and', 'his', 'relations', 'with', 'his', 'kind.']\n"
     ]
    }
   ],
   "source": [
    "marx = \"All that is solid melts into air, all that is holy is profaned, and man is at last compelled to face with sober senses his real conditions of life and his relations with his kind.\"\n",
    "\n",
    "#tokenized_marx = re.split(\"\\W+\", marx)\n",
    "tokenized_marx = marx.split()\n",
    "print(tokenized_marx)"
   ]
  },
  {
   "cell_type": "code",
   "execution_count": 64,
   "id": "a7dc0005-b293-43f5-9bd5-6574ec872378",
   "metadata": {},
   "outputs": [
    {
     "name": "stdout",
     "output_type": "stream",
     "text": [
      "['All', 'that', 'is', 'solid', 'melts', 'into', 'all', 'that', 'is', 'holy', 'is', 'and', 'man', 'is', 'at', 'last', 'compelled', 'to', 'face', 'with', 'sober', 'senses', 'his', 'real', 'conditions', 'of', 'life', 'and', 'his', 'relations', 'with', 'his']\n"
     ]
    }
   ],
   "source": [
    "marx_without_punctuation = []\n",
    "for word in tokenized_marx:\n",
    "    if word.isalpha(): #the .isalpha() method checks whether a string is composed of alphabetic characters only\n",
    "        marx_without_punctuation.append(word)\n",
    "print(marx_without_punctuation)"
   ]
  },
  {
   "cell_type": "markdown",
   "id": "401a3029-f6d7-4baa-9fa9-e6886ef021d2",
   "metadata": {},
   "source": [
    "You can see the flow of execution at work: code and comment can both be on a single line but the code has to come first to be executed. You could also toggle between the different splitting methods by commenting and uncommenting the different lines of code."
   ]
  },
  {
   "cell_type": "markdown",
   "id": "5d46adb5-90cc-4f44-805b-00f74087368b",
   "metadata": {},
   "source": [
    "Longer comments can be written using three quotation marks: "
   ]
  },
  {
   "cell_type": "code",
   "execution_count": 65,
   "id": "aa2896c1-9f83-40e7-bf3c-4d535d810013",
   "metadata": {},
   "outputs": [
    {
     "name": "stdout",
     "output_type": "stream",
     "text": [
      "['All', 'that', 'is', 'solid', 'melts', 'into', 'air,', 'all', 'that', 'is', 'holy', 'is', 'profaned,', 'and', 'man', 'is', 'at', 'last', 'compelled', 'to', 'face', 'with', 'sober', 'senses', 'his', 'real', 'conditions', 'of', 'life', 'and', 'his', 'relations', 'with', 'his', 'kind.']\n",
      "['All', 'that', 'is', 'solid', 'melts', 'into', 'all', 'that', 'is', 'holy', 'is', 'and', 'man', 'is', 'at', 'last', 'compelled', 'to', 'face', 'with', 'sober', 'senses', 'his', 'real', 'conditions', 'of', 'life', 'and', 'his', 'relations', 'with', 'his']\n"
     ]
    }
   ],
   "source": [
    "marx = \"All that is solid melts into air, all that is holy is profaned, and man is at last compelled to face with sober senses his real conditions of life and his relations with his kind.\"\n",
    "\n",
    "#tokenized_marx = re.split(\"\\W+\", marx)\n",
    "tokenized_marx = marx.split()\n",
    "print(tokenized_marx)\n",
    "\n",
    "marx_without_punctuation = []\n",
    "for word in tokenized_marx:\n",
    "    if word.isalpha(): #the .isalpha() method checks whether a string is composed of alphabetic characters only\n",
    "        marx_without_punctuation.append(word)\n",
    "\n",
    "\"\"\" Another way of writing this for loop is by writing a list comprehension. This is just a more compact and precise way of writing\n",
    "marx_without_punctuation = [word for word in tokenized_marx if word.isalpha()] \"\"\"\n",
    "\n",
    "print(marx_without_punctuation)"
   ]
  },
  {
   "cell_type": "markdown",
   "id": "0c4a6f69-3a66-4de4-a683-6216aec24345",
   "metadata": {},
   "source": [
    "<a id='section-15'></a>\n",
    "#### Working with Text Files in Python"
   ]
  },
  {
   "cell_type": "markdown",
   "id": "11e496ec-ce9e-4101-8a59-eb501ba53700",
   "metadata": {},
   "source": [
    "<a id='section-17'></a>\n",
    "**File paths**\n",
    "\n",
    "In order to work with files, you need to be able to tell your program where the files are located. The location to the file is called the _path_. Inside the parantheses of the `open()`, you insert the filepath of the file to be opened in quotation marks, as well as specifying which mode and encoding you want to open the file in. "
   ]
  },
  {
   "cell_type": "markdown",
   "id": "3844da9d-32d1-4b84-aafe-af4db6309b2d",
   "metadata": {},
   "source": [
    "If the file is in the same folder as the notebook then the path to the file is simply the file name and extension (e.g. `gilman.txt`). "
   ]
  },
  {
   "cell_type": "code",
   "execution_count": 62,
   "id": "dd43f01f-e0cd-4f0d-a44d-ac98f2b223e4",
   "metadata": {
    "scrolled": true,
    "tags": []
   },
   "outputs": [
    {
     "data": {
      "text/plain": [
       "'The Project Gutenberg eBook of The Yellow Wallpaper, by Charlotte Perkins Gilman\\n\\nThis eBook is for the use of anyone anywhere in the United States and\\nmost other parts of the world at no cost and with almost no restrictions\\nwhatsoever. You may copy it, give it away or re-use it under the terms\\nof the Project Gutenberg License included with this eBook or online at\\nwww.gutenberg.org. If you are not located in the United States, you\\nwill have to check the laws of the country where you are located before\\nusing this eBook.\\n\\nTitle: The Yellow Wallpaper\\n\\nAuthor: Charlotte Perkins Gilman\\n\\nRelease Date: November, 1999 [eBook #1952]\\n[Most recently updated: January 4, 2021]\\n\\nLanguage: English\\n\\nCharacter set encoding: UTF-8\\n\\nProduced by: An Anonymous Volunteer and David Widger\\n\\n*** START OF THE PROJECT GUTENBERG EBOOK THE YELLOW WALLPAPER ***\\n\\n\\n\\n\\nThe Yellow Wallpaper\\n\\nBy Charlotte Perkins Gilman\\n\\n\\nIt is very seldom that mere ordinary people like John and myself secure\\nancestral halls for the summer.\\n\\nA colonial mansion, a hereditary estate, I would say a haunted house,\\nand reach the height of romantic felicity—but that would be asking too\\nmuch of fate!\\n\\nStill I will proudly declare that there is something queer about it.\\n\\nElse, why should it be let so cheaply? And why have stood so long\\nuntenanted?\\n\\nJohn laughs at me, of course, but one expects that in marriage.\\n\\nJohn is practical in the extreme. He has no patience with faith, an\\nintense horror of superstition, and he scoffs openly at any talk of\\nthings not to be felt and seen and put down in figures.\\n\\nJohn is a physician, and perhaps—(I would not say it to a living soul,\\nof course, but this is dead paper and a great relief to my\\nmind)—perhaps that is one reason I do not get well faster.\\n\\nYou see, he does not believe I am sick!\\n\\nAnd what can one do?\\n\\nIf a physician of high standing, and one’s own husband, assures friends\\nand relatives that there is really nothing the matter with one but\\ntemporary nervous depression—a slight hysterical tendency—what is one\\nto do?\\n\\nMy brother is also a physician, and also of high standing, and he says\\nthe same thing.\\n\\nSo I take phosphates or phosphites—whichever it is, and tonics, and\\njourneys, and air, and exercise, and am absolutely forbidden to “work”\\nuntil I am well again.\\n\\nPersonally, I disagree with their ideas.\\n\\nPersonally, I believe that congenial work, with excitement and change,\\nwould do me good.\\n\\nBut what is one to do?\\n\\nI did write for a while in spite of them; but it does exhaust me a good\\ndeal—having to be so sly about it, or else meet with heavy opposition.\\n\\nI sometimes fancy that in my condition if I had less opposition and\\nmore society and stimulus—but John says the very worst thing I can do\\nis to think about my condition, and I confess it always makes me feel\\nbad.\\n\\nSo I will let it alone and talk about the house.\\n\\nThe most beautiful place! It is quite alone, standing well back from\\nthe road, quite three miles from the village. It makes me think of\\nEnglish places that you read about, for there are hedges and walls and\\ngates that lock, and lots of separate little houses for the gardeners\\nand people.\\n\\nThere is a delicious garden! I never saw such a garden—large and shady,\\nfull of box-bordered paths, and lined with long grape-covered arbors\\nwith seats under them.\\n\\nThere were greenhouses, too, but they are all broken now.\\n\\nThere was some legal trouble, I believe, something about the heirs and\\nco-heirs; anyhow, the place has been empty for years.\\n\\nThat spoils my ghostliness, I am afraid; but I don’t care—there is\\nsomething strange about the house—I can feel it.\\n\\nI even said so to John one moonlight evening, but he said what I felt\\nwas a draught, and shut the window.\\n\\nI get unreasonably angry with John sometimes. I’m sure I never used to\\nbe so sensitive. I think it is due to this nervous condition.\\n\\nBut John says if I feel so I shall neglect proper self-control; so I\\ntake pains to control myself,—before him, at least,—and that makes me\\nvery tired.\\n\\nI don’t like our room a bit. I wanted one downstairs that opened on the\\npiazza and had roses all over the window, and such pretty old-fashioned\\nchintz hangings! but John would not hear of it.\\n\\nHe said there was only one window and not room for two beds, and no\\nnear room for him if he took another.\\n\\nHe is very careful and loving, and hardly lets me stir without special\\ndirection.\\n\\nI have a schedule prescription for each hour in the day; he takes all\\ncare from me, and so I feel basely ungrateful not to value it more.\\n\\nHe said we came here solely on my account, that I was to have perfect\\nrest and all the air I could get. “Your exercise depends on your\\nstrength, my dear,” said he, “and your food somewhat on your appetite;\\nbut air you can absorb all the time.” So we took the nursery, at the\\ntop of the house.\\n\\nIt is a big, airy room, the whole floor nearly, with windows that look\\nall ways, and air and sunshine galore. It was nursery first and then\\nplayground and gymnasium, I should judge; for the windows are barred\\nfor little children, and there are rings and things in the walls.\\n\\nThe paint and paper look as if a boys’ school had used it. It is\\nstripped off—the paper—in great patches all around the head of my bed,\\nabout as far as I can reach, and in a great place on the other side of\\nthe room low down. I never saw a worse paper in my life.\\n\\nOne of those sprawling flamboyant patterns committing every artistic\\nsin.\\n\\nIt is dull enough to confuse the eye in following, pronounced enough to\\nconstantly irritate, and provoke study, and when you follow the lame,\\nuncertain curves for a little distance they suddenly commit\\nsuicide—plunge off at outrageous angles, destroy themselves in\\nunheard-of contradictions.\\n\\nThe color is repellant, almost revolting; a smouldering, unclean\\nyellow, strangely faded by the slow-turning sunlight.\\n\\nIt is a dull yet lurid orange in some places, a sickly sulphur tint in\\nothers.\\n\\nNo wonder the children hated it! I should hate it myself if I had to\\nlive in this room long.\\n\\nThere comes John, and I must put this away,—he hates to have me write a\\nword.\\n\\nWe have been here two weeks, and I haven’t felt like writing before,\\nsince that first day.\\n\\nI am sitting by the window now, up in this atrocious nursery, and there\\nis nothing to hinder my writing as much as I please, save lack of\\nstrength.\\n\\nJohn is away all day, and even some nights when his cases are serious.\\n\\nI am glad my case is not serious!\\n\\nBut these nervous troubles are dreadfully depressing.\\n\\nJohn does not know how much I really suffer. He knows there is no\\nreason to suffer, and that satisfies him.\\n\\nOf course it is only nervousness. It does weigh on me so not to do my\\nduty in any way!\\n\\nI meant to be such a help to John, such a real rest and comfort, and\\nhere I am a comparative burden already!\\n\\nNobody would believe what an effort it is to do what little I am\\nable—to dress and entertain, and order things.\\n\\nIt is fortunate Mary is so good with the baby. Such a dear baby!\\n\\nAnd yet I cannot be with him, it makes me so nervous.\\n\\nI suppose John never was nervous in his life. He laughs at me so about\\nthis wallpaper!\\n\\nAt first he meant to repaper the room, but afterwards he said that I\\nwas letting it get the better of me, and that nothing was worse for a\\nnervous patient than to give way to such fancies.\\n\\nHe said that after the wallpaper was changed it would be the heavy\\nbedstead, and then the barred windows, and then that gate at the head\\nof the stairs, and so on.\\n\\n“You know the place is doing you good,” he said, “and really, dear, I\\ndon’t care to renovate the house just for a three months’ rental.”\\n\\n“Then do let us go downstairs,” I said, “there are such pretty rooms\\nthere.”\\n\\nThen he took me in his arms and called me a blessed little goose, and\\nsaid he would go down cellar if I wished, and have it whitewashed into\\nthe bargain.\\n\\nBut he is right enough about the beds and windows and things.\\n\\nIt is as airy and comfortable a room as any one need wish, and, of\\ncourse, I would not be so silly as to make him uncomfortable just for a\\nwhim.\\n\\nI’m really getting quite fond of the big room, all but that horrid\\npaper.\\n\\nOut of one window I can see the garden, those mysterious deep-shaded\\narbors, the riotous old-fashioned flowers, and bushes and gnarly trees.\\n\\nOut of another I get a lovely view of the bay and a little private\\nwharf belonging to the estate. There is a beautiful shaded lane that\\nruns down there from the house. I always fancy I see people walking in\\nthese numerous paths and arbors, but John has cautioned me not to give\\nway to fancy in the least. He says that with my imaginative power and\\nhabit of story-making a nervous weakness like mine is sure to lead to\\nall manner of excited fancies, and that I ought to use my will and good\\nsense to check the tendency. So I try.\\n\\nI think sometimes that if I were only well enough to write a little it\\nwould relieve the press of ideas and rest me.\\n\\nBut I find I get pretty tired when I try.\\n\\nIt is so discouraging not to have any advice and companionship about my\\nwork. When I get really well John says we will ask Cousin Henry and\\nJulia down for a long visit; but he says he would as soon put\\nfire-works in my pillow-case as to let me have those stimulating people\\nabout now.\\n\\nI wish I could get well faster.\\n\\nBut I must not think about that. This paper looks to me as if it knew\\nwhat a vicious influence it had!\\n\\nThere is a recurrent spot where the pattern lolls like a broken neck\\nand two bulbous eyes stare at you upside-down.\\n\\nI get positively angry with the impertinence of it and the\\neverlastingness. Up and down and sideways they crawl, and those absurd,\\nunblinking eyes are everywhere. There is one place where two breadths\\ndidn’t match, and the eyes go all up and down the line, one a little\\nhigher than the other.\\n\\nI never saw so much expression in an inanimate thing before, and we all\\nknow how much expression they have! I used to lie awake as a child and\\nget more entertainment and terror out of blank walls and plain\\nfurniture than most children could find in a toy-store.\\n\\nI remember what a kindly wink the knobs of our big old bureau used to\\nhave, and there was one chair that always seemed like a strong friend.\\n\\nI used to feel that if any of the other things looked too fierce I\\ncould always hop into that chair and be safe.\\n\\nThe furniture in this room is no worse than inharmonious, however, for\\nwe had to bring it all from downstairs. I suppose when this was used as\\na playroom they had to take the nursery things out, and no wonder! I\\nnever saw such ravages as the children have made here.\\n\\nThe wallpaper, as I said before, is torn off in spots, and it sticketh\\ncloser than a brother—they must have had perseverance as well as\\nhatred.\\n\\nThen the floor is scratched and gouged and splintered, the plaster\\nitself is dug out here and there, and this great heavy bed, which is\\nall we found in the room, looks as if it had been through the wars.\\n\\nBut I don’t mind it a bit—only the paper.\\n\\nThere comes John’s sister. Such a dear girl as she is, and so careful\\nof me! I must not let her find me writing.\\n\\nShe is a perfect, and enthusiastic housekeeper, and hopes for no better\\nprofession. I verily believe she thinks it is the writing which made me\\nsick!\\n\\nBut I can write when she is out, and see her a long way off from these\\nwindows.\\n\\nThere is one that commands the road, a lovely, shaded, winding road,\\nand one that just looks off over the country. A lovely country, too,\\nfull of great elms and velvet meadows.\\n\\nThis wallpaper has a kind of sub-pattern in a different shade, a\\nparticularly irritating one, for you can only see it in certain lights,\\nand not clearly then.\\n\\nBut in the places where it isn’t faded, and where the sun is just so, I\\ncan see a strange, provoking, formless sort of figure, that seems to\\nsulk about behind that silly and conspicuous front design.\\n\\nThere’s sister on the stairs!\\n\\nWell, the Fourth of July is over! The people are gone and I am tired\\nout. John thought it might do me good to see a little company, so we\\njust had mother and Nellie and the children down for a week.\\n\\nOf course I didn’t do a thing. Jennie sees to everything now.\\n\\nBut it tired me all the same.\\n\\nJohn says if I don’t pick up faster he shall send me to Weir Mitchell\\nin the fall.\\n\\nBut I don’t want to go there at all. I had a friend who was in his\\nhands once, and she says he is just like John and my brother, only more\\nso!\\n\\nBesides, it is such an undertaking to go so far.\\n\\nI don’t feel as if it was worth while to turn my hand over for\\nanything, and I’m getting dreadfully fretful and querulous.\\n\\nI cry at nothing, and cry most of the time.\\n\\nOf course I don’t when John is here, or anybody else, but when I am\\nalone.\\n\\nAnd I am alone a good deal just now. John is kept in town very often by\\nserious cases, and Jennie is good and lets me alone when I want her to.\\n\\nSo I walk a little in the garden or down that lovely lane, sit on the\\nporch under the roses, and lie down up here a good deal.\\n\\nI’m getting really fond of the room in spite of the wallpaper. Perhaps\\nbecause of the wallpaper.\\n\\nIt dwells in my mind so!\\n\\nI lie here on this great immovable bed—it is nailed down, I believe—and\\nfollow that pattern about by the hour. It is as good as gymnastics, I\\nassure you. I start, we’ll say, at the bottom, down in the corner over\\nthere where it has not been touched, and I determine for the thousandth\\ntime that I will follow that pointless pattern to some sort of a\\nconclusion.\\n\\nI know a little of the principle of design, and I know this thing was\\nnot arranged on any laws of radiation, or alternation, or repetition,\\nor symmetry, or anything else that I ever heard of.\\n\\nIt is repeated, of course, by the breadths, but not otherwise.\\n\\nLooked at in one way each breadth stands alone, the bloated curves and\\nflourishes—a kind of “debased Romanesque” with delirium tremens—go\\nwaddling up and down in isolated columns of fatuity.\\n\\nBut, on the other hand, they connect diagonally, and the sprawling\\noutlines run off in great slanting waves of optic horror, like a lot of\\nwallowing seaweeds in full chase.\\n\\nThe whole thing goes horizontally, too, at least it seems so, and I\\nexhaust myself in trying to distinguish the order of its going in that\\ndirection.\\n\\nThey have used a horizontal breadth for a frieze, and that adds\\nwonderfully to the confusion.\\n\\nThere is one end of the room where it is almost intact, and there, when\\nthe cross-lights fade and the low sun shines directly upon it, I can\\nalmost fancy radiation after all,—the interminable grotesques seem to\\nform around a common centre and rush off in headlong plunges of equal\\ndistraction.\\n\\nIt makes me tired to follow it. I will take a nap, I guess.\\n\\nI don’t know why I should write this.\\n\\nI don’t want to.\\n\\nI don’t feel able.\\n\\nAnd I know John would think it absurd. But I must say what I feel and\\nthink in some way—it is such a relief!\\n\\nBut the effort is getting to be greater than the relief.\\n\\nHalf the time now I am awfully lazy, and lie down ever so much.\\n\\nJohn says I musn’t lose my strength, and has me take cod-liver oil and\\nlots of tonics and things, to say nothing of ale and wine and rare\\nmeat.\\n\\nDear John! He loves me very dearly, and hates to have me sick. I tried\\nto have a real earnest reasonable talk with him the other day, and tell\\nhim how I wish he would let me go and make a visit to Cousin Henry and\\nJulia.\\n\\nBut he said I wasn’t able to go, nor able to stand it after I got\\nthere; and I did not make out a very good case for myself, for I was\\ncrying before I had finished.\\n\\nIt is getting to be a great effort for me to think straight. Just this\\nnervous weakness, I suppose.\\n\\nAnd dear John gathered me up in his arms, and just carried me upstairs\\nand laid me on the bed, and sat by me and read to me till it tired my\\nhead.\\n\\nHe said I was his darling and his comfort and all he had, and that I\\nmust take care of myself for his sake, and keep well.\\n\\nHe says no one but myself can help me out of it, that I must use my\\nwill and self-control and not let any silly fancies run away with me.\\n\\nThere’s one comfort, the baby is well and happy, and does not have to\\noccupy this nursery with the horrid wallpaper.\\n\\nIf we had not used it that blessed child would have! What a fortunate\\nescape! Why, I wouldn’t have a child of mine, an impressionable little\\nthing, live in such a room for worlds.\\n\\nI never thought of it before, but it is lucky that John kept me here\\nafter all. I can stand it so much easier than a baby, you see.\\n\\nOf course I never mention it to them any more,—I am too wise,—but I\\nkeep watch of it all the same.\\n\\nThere are things in that paper that nobody knows but me, or ever will.\\n\\nBehind that outside pattern the dim shapes get clearer every day.\\n\\nIt is always the same shape, only very numerous.\\n\\nAnd it is like a woman stooping down and creeping about behind that\\npattern. I don’t like it a bit. I wonder—I begin to think—I wish John\\nwould take me away from here!\\n\\nIt is so hard to talk with John about my case, because he is so wise,\\nand because he loves me so.\\n\\nBut I tried it last night.\\n\\nIt was moonlight. The moon shines in all around, just as the sun does.\\n\\nI hate to see it sometimes, it creeps so slowly, and always comes in by\\none window or another.\\n\\nJohn was asleep and I hated to waken him, so I kept still and watched\\nthe moonlight on that undulating wallpaper till I felt creepy.\\n\\nThe faint figure behind seemed to shake the pattern, just as if she\\nwanted to get out.\\n\\nI got up softly and went to feel and see if the paper did move, and\\nwhen I came back John was awake.\\n\\n“What is it, little girl?” he said. “Don’t go walking about like\\nthat—you’ll get cold.”\\n\\nI thought it was a good time to talk, so I told him that I really was\\nnot gaining here, and that I wished he would take me away.\\n\\n“Why darling!” said he, “our lease will be up in three weeks, and I\\ncan’t see how to leave before.\\n\\n“The repairs are not done at home, and I cannot possibly leave town\\njust now. Of course if you were in any danger I could and would, but\\nyou really are better, dear, whether you can see it or not. I am a\\ndoctor, dear, and I know. You are gaining flesh and color, your\\nappetite is better. I feel really much easier about you.”\\n\\n“I don’t weigh a bit more,” said I, “nor as much; and my appetite may\\nbe better in the evening, when you are here, but it is worse in the\\nmorning when you are away.”\\n\\n“Bless her little heart!” said he with a big hug; “she shall be as sick\\nas she pleases! But now let’s improve the shining hours by going to\\nsleep, and talk about it in the morning!”\\n\\n“And you won’t go away?” I asked gloomily.\\n\\n“Why, how can I, dear? It is only three weeks more and then we will\\ntake a nice little trip of a few days while Jennie is getting the house\\nready. Really, dear, you are better!”\\n\\n“Better in body perhaps”—I began, and stopped short, for he sat up\\nstraight and looked at me with such a stern, reproachful look that I\\ncould not say another word.\\n\\n“My darling,” said he, “I beg of you, for my sake and for our child’s\\nsake, as well as for your own, that you will never for one instant let\\nthat idea enter your mind! There is nothing so dangerous, so\\nfascinating, to a temperament like yours. It is a false and foolish\\nfancy. Can you not trust me as a physician when I tell you so?”\\n\\nSo of course I said no more on that score, and we went to sleep before\\nlong. He thought I was asleep first, but I wasn’t,—I lay there for\\nhours trying to decide whether that front pattern and the back pattern\\nreally did move together or separately.\\n\\nOn a pattern like this, by daylight, there is a lack of sequence, a\\ndefiance of law, that is a constant irritant to a normal mind.\\n\\nThe color is hideous enough, and unreliable enough, and infuriating\\nenough, but the pattern is torturing.\\n\\nYou think you have mastered it, but just as you get well under way in\\nfollowing, it turns a back somersault and there you are. It slaps you\\nin the face, knocks you down, and tramples upon you. It is like a bad\\ndream.\\n\\nThe outside pattern is a florid arabesque, reminding one of a fungus.\\nIf you can imagine a toadstool in joints, an interminable string of\\ntoadstools, budding and sprouting in endless convolutions,—why, that is\\nsomething like it.\\n\\nThat is, sometimes!\\n\\nThere is one marked peculiarity about this paper, a thing nobody seems\\nto notice but myself, and that is that it changes as the light changes.\\n\\nWhen the sun shoots in through the east window—I always watch for that\\nfirst long, straight ray—it changes so quickly that I never can quite\\nbelieve it.\\n\\nThat is why I watch it always.\\n\\nBy moonlight—the moon shines in all night when there is a moon—I\\nwouldn’t know it was the same paper.\\n\\nAt night in any kind of light, in twilight, candlelight, lamplight, and\\nworst of all by moonlight, it becomes bars! The outside pattern I mean,\\nand the woman behind it is as plain as can be.\\n\\nI didn’t realize for a long time what the thing was that showed\\nbehind,—that dim sub-pattern,—but now I am quite sure it is a woman.\\n\\nBy daylight she is subdued, quiet. I fancy it is the pattern that keeps\\nher so still. It is so puzzling. It keeps me quiet by the hour.\\n\\nI lie down ever so much now. John says it is good for me, and to sleep\\nall I can.\\n\\nIndeed, he started the habit by making me lie down for an hour after\\neach meal.\\n\\nIt is a very bad habit, I am convinced, for, you see, I don’t sleep.\\n\\nAnd that cultivates deceit, for I don’t tell them I’m awake,—oh, no!\\n\\nThe fact is, I am getting a little afraid of John.\\n\\nHe seems very queer sometimes, and even Jennie has an inexplicable\\nlook.\\n\\nIt strikes me occasionally, just as a scientific hypothesis, that\\nperhaps it is the paper!\\n\\nI have watched John when he did not know I was looking, and come into\\nthe room suddenly on the most innocent excuses, and I’ve caught him\\nseveral times looking at the paper! And Jennie too. I caught Jennie\\nwith her hand on it once.\\n\\nShe didn’t know I was in the room, and when I asked her in a quiet, a\\nvery quiet voice, with the most restrained manner possible, what she\\nwas doing with the paper she turned around as if she had been caught\\nstealing, and looked quite angry—asked me why I should frighten her so!\\n\\nThen she said that the paper stained everything it touched, that she\\nhad found yellow smooches on all my clothes and John’s, and she wished\\nwe would be more careful!\\n\\nDid not that sound innocent? But I know she was studying that pattern,\\nand I am determined that nobody shall find it out but myself!\\n\\nLife is very much more exciting now than it used to be. You see I have\\nsomething more to expect, to look forward to, to watch. I really do eat\\nbetter, and am more quiet than I was.\\n\\nJohn is so pleased to see me improve! He laughed a little the other\\nday, and said I seemed to be flourishing in spite of my wallpaper.\\n\\nI turned it off with a laugh. I had no intention of telling him it was\\nbecause of the wallpaper—he would make fun of me. He might even want to\\ntake me away.\\n\\nI don’t want to leave now until I have found it out. There is a week\\nmore, and I think that will be enough.\\n\\nI’m feeling ever so much better! I don’t sleep much at night, for it is\\nso interesting to watch developments; but I sleep a good deal in the\\ndaytime.\\n\\nIn the daytime it is tiresome and perplexing.\\n\\nThere are always new shoots on the fungus, and new shades of yellow all\\nover it. I cannot keep count of them, though I have tried\\nconscientiously.\\n\\nIt is the strangest yellow, that wallpaper! It makes me think of all\\nthe yellow things I ever saw—not beautiful ones like buttercups, but\\nold foul, bad yellow things.\\n\\nBut there is something else about that paper—the smell! I noticed it\\nthe moment we came into the room, but with so much air and sun it was\\nnot bad. Now we have had a week of fog and rain, and whether the\\nwindows are open or not, the smell is here.\\n\\nIt creeps all over the house.\\n\\nI find it hovering in the dining-room, skulking in the parlor, hiding\\nin the hall, lying in wait for me on the stairs.\\n\\nIt gets into my hair.\\n\\nEven when I go to ride, if I turn my head suddenly and surprise\\nit—there is that smell!\\n\\nSuch a peculiar odor, too! I have spent hours in trying to analyze it,\\nto find what it smelled like.\\n\\nIt is not bad—at first, and very gentle, but quite the subtlest, most\\nenduring odor I ever met.\\n\\nIn this damp weather it is awful. I wake up in the night and find it\\nhanging over me.\\n\\nIt used to disturb me at first. I thought seriously of burning the\\nhouse—to reach the smell.\\n\\nBut now I am used to it. The only thing I can think of that it is like\\nis the color of the paper! A yellow smell.\\n\\nThere is a very funny mark on this wall, low down, near the mopboard. A\\nstreak that runs round the room. It goes behind every piece of\\nfurniture, except the bed, a long, straight, even smooch, as if it had\\nbeen rubbed over and over.\\n\\nI wonder how it was done and who did it, and what they did it for.\\nRound and round and round—round and round and round—it makes me dizzy!\\n\\nI really have discovered something at last.\\n\\nThrough watching so much at night, when it changes so, I have finally\\nfound out.\\n\\nThe front pattern does move—and no wonder! The woman behind shakes it!\\n\\nSometimes I think there are a great many women behind, and sometimes\\nonly one, and she crawls around fast, and her crawling shakes it all\\nover.\\n\\nThen in the very bright spots she keeps still, and in the very shady\\nspots she just takes hold of the bars and shakes them hard.\\n\\nAnd she is all the time trying to climb through. But nobody could climb\\nthrough that pattern—it strangles so; I think that is why it has so\\nmany heads.\\n\\nThey get through, and then the pattern strangles them off and turns\\nthem upside-down, and makes their eyes white!\\n\\nIf those heads were covered or taken off it would not be half so bad.\\n\\nI think that woman gets out in the daytime!\\n\\nAnd I’ll tell you why—privately—I’ve seen her!\\n\\nI can see her out of every one of my windows!\\n\\nIt is the same woman, I know, for she is always creeping, and most\\nwomen do not creep by daylight.\\n\\nI see her on that long shaded lane, creeping up and down. I see her in\\nthose dark grape arbors, creeping all around the garden.\\n\\nI see her on that long road under the trees, creeping along, and when a\\ncarriage comes she hides under the blackberry vines.\\n\\nI don’t blame her a bit. It must be very humiliating to be caught\\ncreeping by daylight!\\n\\nI always lock the door when I creep by daylight. I can’t do it at\\nnight, for I know John would suspect something at once.\\n\\nAnd John is so queer now, that I don’t want to irritate him. I wish he\\nwould take another room! Besides, I don’t want anybody to get that\\nwoman out at night but myself.\\n\\nI often wonder if I could see her out of all the windows at once.\\n\\nBut, turn as fast as I can, I can only see out of one at one time.\\n\\nAnd though I always see her she may be able to creep faster than I can\\nturn!\\n\\nI have watched her sometimes away off in the open country, creeping as\\nfast as a cloud shadow in a high wind.\\n\\nIf only that top pattern could be gotten off from the under one! I mean\\nto try it, little by little.\\n\\nI have found out another funny thing, but I shan’t tell it this time!\\nIt does not do to trust people too much.\\n\\nThere are only two more days to get this paper off, and I believe John\\nis beginning to notice. I don’t like the look in his eyes.\\n\\nAnd I heard him ask Jennie a lot of professional questions about me.\\nShe had a very good report to give.\\n\\nShe said I slept a good deal in the daytime.\\n\\nJohn knows I don’t sleep very well at night, for all I’m so quiet!\\n\\nHe asked me all sorts of questions, too, and pretended to be very\\nloving and kind.\\n\\nAs if I couldn’t see through him!\\n\\nStill, I don’t wonder he acts so, sleeping under this paper for three\\nmonths.\\n\\nIt only interests me, but I feel sure John and Jennie are secretly\\naffected by it.\\n\\nHurrah! This is the last day, but it is enough. John is to stay in town\\nover night, and won’t be out until this evening.\\n\\nJennie wanted to sleep with me—the sly thing! but I told her I should\\nundoubtedly rest better for a night all alone.\\n\\nThat was clever, for really I wasn’t alone a bit! As soon as it was\\nmoonlight, and that poor thing began to crawl and shake the pattern, I\\ngot up and ran to help her.\\n\\nI pulled and she shook, I shook and she pulled, and before morning we\\nhad peeled off yards of that paper.\\n\\nA strip about as high as my head and half around the room.\\n\\nAnd then when the sun came and that awful pattern began to laugh at me\\nI declared I would finish it to-day!\\n\\nWe go away to-morrow, and they are moving all my furniture down again\\nto leave things as they were before.\\n\\nJennie looked at the wall in amazement, but I told her merrily that I\\ndid it out of pure spite at the vicious thing.\\n\\nShe laughed and said she wouldn’t mind doing it herself, but I must not\\nget tired.\\n\\nHow she betrayed herself that time!\\n\\nBut I am here, and no person touches this paper but me—not alive!\\n\\nShe tried to get me out of the room—it was too patent! But I said it\\nwas so quiet and empty and clean now that I believed I would lie down\\nagain and sleep all I could; and not to wake me even for dinner—I would\\ncall when I woke.\\n\\nSo now she is gone, and the servants are gone, and the things are gone,\\nand there is nothing left but that great bedstead nailed down, with the\\ncanvas mattress we found on it.\\n\\nWe shall sleep downstairs to-night, and take the boat home to-morrow.\\n\\nI quite enjoy the room, now it is bare again.\\n\\nHow those children did tear about here!\\n\\nThis bedstead is fairly gnawed!\\n\\nBut I must get to work.\\n\\nI have locked the door and thrown the key down into the front path.\\n\\nI don’t want to go out, and I don’t want to have anybody come in, till\\nJohn comes.\\n\\nI want to astonish him.\\n\\nI’ve got a rope up here that even Jennie did not find. If that woman\\ndoes get out, and tries to get away, I can tie her!\\n\\nBut I forgot I could not reach far without anything to stand on!\\n\\nThis bed will not move!\\n\\nI tried to lift and push it until I was lame, and then I got so angry I\\nbit off a little piece at one corner—but it hurt my teeth.\\n\\nThen I peeled off all the paper I could reach standing on the floor. It\\nsticks horribly and the pattern just enjoys it! All those strangled\\nheads and bulbous eyes and waddling fungus growths just shriek with\\nderision!\\n\\nI am getting angry enough to do something desperate. To jump out of the\\nwindow would be admirable exercise, but the bars are too strong even to\\ntry.\\n\\nBesides I wouldn’t do it. Of course not. I know well enough that a step\\nlike that is improper and might be misconstrued.\\n\\nI don’t like to look out of the windows even—there are so many of those\\ncreeping women, and they creep so fast.\\n\\nI wonder if they all come out of that wallpaper as I did?\\n\\nBut I am securely fastened now by my well-hidden rope—you don’t get me\\nout in the road there!\\n\\nI suppose I shall have to get back behind the pattern when it comes\\nnight, and that is hard!\\n\\nIt is so pleasant to be out in this great room and creep around as I\\nplease!\\n\\nI don’t want to go outside. I won’t, even if Jennie asks me to.\\n\\nFor outside you have to creep on the ground, and everything is green\\ninstead of yellow.\\n\\nBut here I can creep smoothly on the floor, and my shoulder just fits\\nin that long smooch around the wall, so I cannot lose my way.\\n\\nWhy, there’s John at the door!\\n\\nIt is no use, young man, you can’t open it!\\n\\nHow he does call and pound!\\n\\nNow he’s crying for an axe.\\n\\nIt would be a shame to break down that beautiful door!\\n\\n“John dear!” said I in the gentlest voice, “the key is down by the\\nfront steps, under a plantain leaf!”\\n\\nThat silenced him for a few moments.\\n\\nThen he said—very quietly indeed, “Open the door, my darling!”\\n\\n“I can’t,” said I. “The key is down by the front door under a plantain\\nleaf!”\\n\\nAnd then I said it again, several times, very gently and slowly, and\\nsaid it so often that he had to go and see, and he got it, of course,\\nand came in. He stopped short by the door.\\n\\n“What is the matter?” he cried. “For God’s sake, what are you doing!”\\n\\nI kept on creeping just the same, but I looked at him over my shoulder.\\n\\n“I’ve got out at last,” said I, “in spite of you and Jane! And I’ve\\npulled off most of the paper, so you can’t put me back!”\\n\\nNow why should that man have fainted? But he did, and right across my\\npath by the wall, so that I had to creep over him every time!\\n\\n\\n\\n\\n*** END OF THE PROJECT GUTENBERG EBOOK THE YELLOW WALLPAPER ***\\n\\n***** This file should be named 1952-0.txt or 1952-0.zip *****\\nThis and all associated files of various formats will be found in:\\n    https://www.gutenberg.org/1/9/5/1952/\\n\\nUpdated editions will replace the previous one--the old editions will\\nbe renamed.\\n\\nCreating the works from print editions not protected by U.S. copyright\\nlaw means that no one owns a United States copyright in these works,\\nso the Foundation (and you!) can copy and distribute it in the\\nUnited States without permission and without paying copyright\\nroyalties. Special rules, set forth in the General Terms of Use part\\nof this license, apply to copying and distributing Project\\nGutenberg-tm electronic works to protect the PROJECT GUTENBERG-tm\\nconcept and trademark. Project Gutenberg is a registered trademark,\\nand may not be used if you charge for an eBook, except by following\\nthe terms of the trademark license, including paying royalties for use\\nof the Project Gutenberg trademark. If you do not charge anything for\\ncopies of this eBook, complying with the trademark license is very\\neasy. You may use this eBook for nearly any purpose such as creation\\nof derivative works, reports, performances and research. Project\\nGutenberg eBooks may be modified and printed and given away--you may\\ndo practically ANYTHING in the United States with eBooks not protected\\nby U.S. copyright law. Redistribution is subject to the trademark\\nlicense, especially commercial redistribution.\\n\\nSTART: FULL LICENSE\\n\\nTHE FULL PROJECT GUTENBERG LICENSE\\nPLEASE READ THIS BEFORE YOU DISTRIBUTE OR USE THIS WORK\\n\\nTo protect the Project Gutenberg-tm mission of promoting the free\\ndistribution of electronic works, by using or distributing this work\\n(or any other work associated in any way with the phrase \"Project\\nGutenberg\"), you agree to comply with all the terms of the Full\\nProject Gutenberg-tm License available with this file or online at\\nwww.gutenberg.org/license.\\n\\nSection 1. General Terms of Use and Redistributing Project\\nGutenberg-tm electronic works\\n\\n1.A. By reading or using any part of this Project Gutenberg-tm\\nelectronic work, you indicate that you have read, understand, agree to\\nand accept all the terms of this license and intellectual property\\n(trademark/copyright) agreement. If you do not agree to abide by all\\nthe terms of this agreement, you must cease using and return or\\ndestroy all copies of Project Gutenberg-tm electronic works in your\\npossession. If you paid a fee for obtaining a copy of or access to a\\nProject Gutenberg-tm electronic work and you do not agree to be bound\\nby the terms of this agreement, you may obtain a refund from the\\nperson or entity to whom you paid the fee as set forth in paragraph\\n1.E.8.\\n\\n1.B. \"Project Gutenberg\" is a registered trademark. It may only be\\nused on or associated in any way with an electronic work by people who\\nagree to be bound by the terms of this agreement. There are a few\\nthings that you can do with most Project Gutenberg-tm electronic works\\neven without complying with the full terms of this agreement. See\\nparagraph 1.C below. There are a lot of things you can do with Project\\nGutenberg-tm electronic works if you follow the terms of this\\nagreement and help preserve free future access to Project Gutenberg-tm\\nelectronic works. See paragraph 1.E below.\\n\\n1.C. The Project Gutenberg Literary Archive Foundation (\"the\\nFoundation\" or PGLAF), owns a compilation copyright in the collection\\nof Project Gutenberg-tm electronic works. Nearly all the individual\\nworks in the collection are in the public domain in the United\\nStates. If an individual work is unprotected by copyright law in the\\nUnited States and you are located in the United States, we do not\\nclaim a right to prevent you from copying, distributing, performing,\\ndisplaying or creating derivative works based on the work as long as\\nall references to Project Gutenberg are removed. Of course, we hope\\nthat you will support the Project Gutenberg-tm mission of promoting\\nfree access to electronic works by freely sharing Project Gutenberg-tm\\nworks in compliance with the terms of this agreement for keeping the\\nProject Gutenberg-tm name associated with the work. You can easily\\ncomply with the terms of this agreement by keeping this work in the\\nsame format with its attached full Project Gutenberg-tm License when\\nyou share it without charge with others.\\n\\n1.D. The copyright laws of the place where you are located also govern\\nwhat you can do with this work. Copyright laws in most countries are\\nin a constant state of change. If you are outside the United States,\\ncheck the laws of your country in addition to the terms of this\\nagreement before downloading, copying, displaying, performing,\\ndistributing or creating derivative works based on this work or any\\nother Project Gutenberg-tm work. The Foundation makes no\\nrepresentations concerning the copyright status of any work in any\\ncountry other than the United States.\\n\\n1.E. Unless you have removed all references to Project Gutenberg:\\n\\n1.E.1. The following sentence, with active links to, or other\\nimmediate access to, the full Project Gutenberg-tm License must appear\\nprominently whenever any copy of a Project Gutenberg-tm work (any work\\non which the phrase \"Project Gutenberg\" appears, or with which the\\nphrase \"Project Gutenberg\" is associated) is accessed, displayed,\\nperformed, viewed, copied or distributed:\\n\\n  This eBook is for the use of anyone anywhere in the United States and\\n  most other parts of the world at no cost and with almost no\\n  restrictions whatsoever. You may copy it, give it away or re-use it\\n  under the terms of the Project Gutenberg License included with this\\n  eBook or online at www.gutenberg.org. If you are not located in the\\n  United States, you will have to check the laws of the country where\\n  you are located before using this eBook.\\n\\n1.E.2. If an individual Project Gutenberg-tm electronic work is\\nderived from texts not protected by U.S. copyright law (does not\\ncontain a notice indicating that it is posted with permission of the\\ncopyright holder), the work can be copied and distributed to anyone in\\nthe United States without paying any fees or charges. If you are\\nredistributing or providing access to a work with the phrase \"Project\\nGutenberg\" associated with or appearing on the work, you must comply\\neither with the requirements of paragraphs 1.E.1 through 1.E.7 or\\nobtain permission for the use of the work and the Project Gutenberg-tm\\ntrademark as set forth in paragraphs 1.E.8 or 1.E.9.\\n\\n1.E.3. If an individual Project Gutenberg-tm electronic work is posted\\nwith the permission of the copyright holder, your use and distribution\\nmust comply with both paragraphs 1.E.1 through 1.E.7 and any\\nadditional terms imposed by the copyright holder. Additional terms\\nwill be linked to the Project Gutenberg-tm License for all works\\nposted with the permission of the copyright holder found at the\\nbeginning of this work.\\n\\n1.E.4. Do not unlink or detach or remove the full Project Gutenberg-tm\\nLicense terms from this work, or any files containing a part of this\\nwork or any other work associated with Project Gutenberg-tm.\\n\\n1.E.5. Do not copy, display, perform, distribute or redistribute this\\nelectronic work, or any part of this electronic work, without\\nprominently displaying the sentence set forth in paragraph 1.E.1 with\\nactive links or immediate access to the full terms of the Project\\nGutenberg-tm License.\\n\\n1.E.6. You may convert to and distribute this work in any binary,\\ncompressed, marked up, nonproprietary or proprietary form, including\\nany word processing or hypertext form. However, if you provide access\\nto or distribute copies of a Project Gutenberg-tm work in a format\\nother than \"Plain Vanilla ASCII\" or other format used in the official\\nversion posted on the official Project Gutenberg-tm website\\n(www.gutenberg.org), you must, at no additional cost, fee or expense\\nto the user, provide a copy, a means of exporting a copy, or a means\\nof obtaining a copy upon request, of the work in its original \"Plain\\nVanilla ASCII\" or other form. Any alternate format must include the\\nfull Project Gutenberg-tm License as specified in paragraph 1.E.1.\\n\\n1.E.7. Do not charge a fee for access to, viewing, displaying,\\nperforming, copying or distributing any Project Gutenberg-tm works\\nunless you comply with paragraph 1.E.8 or 1.E.9.\\n\\n1.E.8. You may charge a reasonable fee for copies of or providing\\naccess to or distributing Project Gutenberg-tm electronic works\\nprovided that:\\n\\n* You pay a royalty fee of 20% of the gross profits you derive from\\n  the use of Project Gutenberg-tm works calculated using the method\\n  you already use to calculate your applicable taxes. The fee is owed\\n  to the owner of the Project Gutenberg-tm trademark, but he has\\n  agreed to donate royalties under this paragraph to the Project\\n  Gutenberg Literary Archive Foundation. Royalty payments must be paid\\n  within 60 days following each date on which you prepare (or are\\n  legally required to prepare) your periodic tax returns. Royalty\\n  payments should be clearly marked as such and sent to the Project\\n  Gutenberg Literary Archive Foundation at the address specified in\\n  Section 4, \"Information about donations to the Project Gutenberg\\n  Literary Archive Foundation.\"\\n\\n* You provide a full refund of any money paid by a user who notifies\\n  you in writing (or by e-mail) within 30 days of receipt that s/he\\n  does not agree to the terms of the full Project Gutenberg-tm\\n  License. You must require such a user to return or destroy all\\n  copies of the works possessed in a physical medium and discontinue\\n  all use of and all access to other copies of Project Gutenberg-tm\\n  works.\\n\\n* You provide, in accordance with paragraph 1.F.3, a full refund of\\n  any money paid for a work or a replacement copy, if a defect in the\\n  electronic work is discovered and reported to you within 90 days of\\n  receipt of the work.\\n\\n* You comply with all other terms of this agreement for free\\n  distribution of Project Gutenberg-tm works.\\n\\n1.E.9. If you wish to charge a fee or distribute a Project\\nGutenberg-tm electronic work or group of works on different terms than\\nare set forth in this agreement, you must obtain permission in writing\\nfrom the Project Gutenberg Literary Archive Foundation, the manager of\\nthe Project Gutenberg-tm trademark. Contact the Foundation as set\\nforth in Section 3 below.\\n\\n1.F.\\n\\n1.F.1. Project Gutenberg volunteers and employees expend considerable\\neffort to identify, do copyright research on, transcribe and proofread\\nworks not protected by U.S. copyright law in creating the Project\\nGutenberg-tm collection. Despite these efforts, Project Gutenberg-tm\\nelectronic works, and the medium on which they may be stored, may\\ncontain \"Defects,\" such as, but not limited to, incomplete, inaccurate\\nor corrupt data, transcription errors, a copyright or other\\nintellectual property infringement, a defective or damaged disk or\\nother medium, a computer virus, or computer codes that damage or\\ncannot be read by your equipment.\\n\\n1.F.2. LIMITED WARRANTY, DISCLAIMER OF DAMAGES - Except for the \"Right\\nof Replacement or Refund\" described in paragraph 1.F.3, the Project\\nGutenberg Literary Archive Foundation, the owner of the Project\\nGutenberg-tm trademark, and any other party distributing a Project\\nGutenberg-tm electronic work under this agreement, disclaim all\\nliability to you for damages, costs and expenses, including legal\\nfees. YOU AGREE THAT YOU HAVE NO REMEDIES FOR NEGLIGENCE, STRICT\\nLIABILITY, BREACH OF WARRANTY OR BREACH OF CONTRACT EXCEPT THOSE\\nPROVIDED IN PARAGRAPH 1.F.3. YOU AGREE THAT THE FOUNDATION, THE\\nTRADEMARK OWNER, AND ANY DISTRIBUTOR UNDER THIS AGREEMENT WILL NOT BE\\nLIABLE TO YOU FOR ACTUAL, DIRECT, INDIRECT, CONSEQUENTIAL, PUNITIVE OR\\nINCIDENTAL DAMAGES EVEN IF YOU GIVE NOTICE OF THE POSSIBILITY OF SUCH\\nDAMAGE.\\n\\n1.F.3. LIMITED RIGHT OF REPLACEMENT OR REFUND - If you discover a\\ndefect in this electronic work within 90 days of receiving it, you can\\nreceive a refund of the money (if any) you paid for it by sending a\\nwritten explanation to the person you received the work from. If you\\nreceived the work on a physical medium, you must return the medium\\nwith your written explanation. The person or entity that provided you\\nwith the defective work may elect to provide a replacement copy in\\nlieu of a refund. If you received the work electronically, the person\\nor entity providing it to you may choose to give you a second\\nopportunity to receive the work electronically in lieu of a refund. If\\nthe second copy is also defective, you may demand a refund in writing\\nwithout further opportunities to fix the problem.\\n\\n1.F.4. Except for the limited right of replacement or refund set forth\\nin paragraph 1.F.3, this work is provided to you \\'AS-IS\\', WITH NO\\nOTHER WARRANTIES OF ANY KIND, EXPRESS OR IMPLIED, INCLUDING BUT NOT\\nLIMITED TO WARRANTIES OF MERCHANTABILITY OR FITNESS FOR ANY PURPOSE.\\n\\n1.F.5. Some states do not allow disclaimers of certain implied\\nwarranties or the exclusion or limitation of certain types of\\ndamages. If any disclaimer or limitation set forth in this agreement\\nviolates the law of the state applicable to this agreement, the\\nagreement shall be interpreted to make the maximum disclaimer or\\nlimitation permitted by the applicable state law. The invalidity or\\nunenforceability of any provision of this agreement shall not void the\\nremaining provisions.\\n\\n1.F.6. INDEMNITY - You agree to indemnify and hold the Foundation, the\\ntrademark owner, any agent or employee of the Foundation, anyone\\nproviding copies of Project Gutenberg-tm electronic works in\\naccordance with this agreement, and any volunteers associated with the\\nproduction, promotion and distribution of Project Gutenberg-tm\\nelectronic works, harmless from all liability, costs and expenses,\\nincluding legal fees, that arise directly or indirectly from any of\\nthe following which you do or cause to occur: (a) distribution of this\\nor any Project Gutenberg-tm work, (b) alteration, modification, or\\nadditions or deletions to any Project Gutenberg-tm work, and (c) any\\nDefect you cause.\\n\\nSection 2. Information about the Mission of Project Gutenberg-tm\\n\\nProject Gutenberg-tm is synonymous with the free distribution of\\nelectronic works in formats readable by the widest variety of\\ncomputers including obsolete, old, middle-aged and new computers. It\\nexists because of the efforts of hundreds of volunteers and donations\\nfrom people in all walks of life.\\n\\nVolunteers and financial support to provide volunteers with the\\nassistance they need are critical to reaching Project Gutenberg-tm\\'s\\ngoals and ensuring that the Project Gutenberg-tm collection will\\nremain freely available for generations to come. In 2001, the Project\\nGutenberg Literary Archive Foundation was created to provide a secure\\nand permanent future for Project Gutenberg-tm and future\\ngenerations. To learn more about the Project Gutenberg Literary\\nArchive Foundation and how your efforts and donations can help, see\\nSections 3 and 4 and the Foundation information page at\\nwww.gutenberg.org\\n\\nSection 3. Information about the Project Gutenberg Literary\\nArchive Foundation\\n\\nThe Project Gutenberg Literary Archive Foundation is a non-profit\\n501(c)(3) educational corporation organized under the laws of the\\nstate of Mississippi and granted tax exempt status by the Internal\\nRevenue Service. The Foundation\\'s EIN or federal tax identification\\nnumber is 64-6221541. Contributions to the Project Gutenberg Literary\\nArchive Foundation are tax deductible to the full extent permitted by\\nU.S. federal laws and your state\\'s laws.\\n\\nThe Foundation\\'s business office is located at 809 North 1500 West,\\nSalt Lake City, UT 84116, (801) 596-1887. Email contact links and up\\nto date contact information can be found at the Foundation\\'s website\\nand official page at www.gutenberg.org/contact\\n\\nSection 4. Information about Donations to the Project Gutenberg\\nLiterary Archive Foundation\\n\\nProject Gutenberg-tm depends upon and cannot survive without\\nwidespread public support and donations to carry out its mission of\\nincreasing the number of public domain and licensed works that can be\\nfreely distributed in machine-readable form accessible by the widest\\narray of equipment including outdated equipment. Many small donations\\n($1 to $5,000) are particularly important to maintaining tax exempt\\nstatus with the IRS.\\n\\nThe Foundation is committed to complying with the laws regulating\\ncharities and charitable donations in all 50 states of the United\\nStates. Compliance requirements are not uniform and it takes a\\nconsiderable effort, much paperwork and many fees to meet and keep up\\nwith these requirements. We do not solicit donations in locations\\nwhere we have not received written confirmation of compliance. To SEND\\nDONATIONS or determine the status of compliance for any particular\\nstate visit www.gutenberg.org/donate\\n\\nWhile we cannot and do not solicit contributions from states where we\\nhave not met the solicitation requirements, we know of no prohibition\\nagainst accepting unsolicited donations from donors in such states who\\napproach us with offers to donate.\\n\\nInternational donations are gratefully accepted, but we cannot make\\nany statements concerning tax treatment of donations received from\\noutside the United States. U.S. laws alone swamp our small staff.\\n\\nPlease check the Project Gutenberg web pages for current donation\\nmethods and addresses. Donations are accepted in a number of other\\nways including checks, online payments and credit card donations. To\\ndonate, please visit: www.gutenberg.org/donate\\n\\nSection 5. General Information About Project Gutenberg-tm electronic works\\n\\nProfessor Michael S. Hart was the originator of the Project\\nGutenberg-tm concept of a library of electronic works that could be\\nfreely shared with anyone. For forty years, he produced and\\ndistributed Project Gutenberg-tm eBooks with only a loose network of\\nvolunteer support.\\n\\nProject Gutenberg-tm eBooks are often created from several printed\\neditions, all of which are confirmed as not protected by copyright in\\nthe U.S. unless a copyright notice is included. Thus, we do not\\nnecessarily keep eBooks in compliance with any particular paper\\nedition.\\n\\nMost people start at our website which has the main PG search\\nfacility: www.gutenberg.org\\n\\nThis website includes information about Project Gutenberg-tm,\\nincluding how to make donations to the Project Gutenberg Literary\\nArchive Foundation, how to help produce our new eBooks, and how to\\nsubscribe to our email newsletter to hear about new eBooks.'"
      ]
     },
     "execution_count": 62,
     "metadata": {},
     "output_type": "execute_result"
    }
   ],
   "source": [
    "with open(\"gilman.txt\", mode=\"r\", encoding=\"utf-8\") as f:\n",
    "    raw_text = f.read()\n",
    "raw_text"
   ]
  },
  {
   "cell_type": "markdown",
   "id": "87ac11b2-6d5f-4ea6-9006-1d4f20d8caca",
   "metadata": {},
   "source": [
    "However, if your file is located somewhere else you will need to pass the path of the file to the `open()` function. \n",
    "\n",
    "If you double click the “gilman-corpus” directory, you can see under the search box that there is the icon of your home directory, then a slash, and then \"gilman-corpus\" (the name of the new directory where you are currently located). This is the path to the contents of the gilman directory. If you click back to the home directory, you move back one layer in the file structure to your home directory. Now let’s try specifying the path to this copy of the Yellow Wallpaper in the \"gilman-corpus\" directory. "
   ]
  },
  {
   "cell_type": "code",
   "execution_count": 61,
   "id": "d63d95a4-86d3-4b9f-beb4-12e318ecc82b",
   "metadata": {
    "scrolled": true,
    "tags": []
   },
   "outputs": [
    {
     "data": {
      "text/plain": [
       "'The Project Gutenberg eBook of The Yellow Wallpaper, by Charlotte Perkins Gilman\\n\\nThis eBook is for the use of anyone anywhere in the United States and\\nmost other parts of the world at no cost and with almost no restrictions\\nwhatsoever. You may copy it, give it away or re-use it under the terms\\nof the Project Gutenberg License included with this eBook or online at\\nwww.gutenberg.org. If you are not located in the United States, you\\nwill have to check the laws of the country where you are located before\\nusing this eBook.\\n\\nTitle: The Yellow Wallpaper\\n\\nAuthor: Charlotte Perkins Gilman\\n\\nRelease Date: November, 1999 [eBook #1952]\\n[Most recently updated: January 4, 2021]\\n\\nLanguage: English\\n\\nCharacter set encoding: UTF-8\\n\\nProduced by: An Anonymous Volunteer and David Widger\\n\\n*** START OF THE PROJECT GUTENBERG EBOOK THE YELLOW WALLPAPER ***\\n\\n\\n\\n\\nThe Yellow Wallpaper\\n\\nBy Charlotte Perkins Gilman\\n\\n\\nIt is very seldom that mere ordinary people like John and myself secure\\nancestral halls for the summer.\\n\\nA colonial mansion, a hereditary estate, I would say a haunted house,\\nand reach the height of romantic felicity—but that would be asking too\\nmuch of fate!\\n\\nStill I will proudly declare that there is something queer about it.\\n\\nElse, why should it be let so cheaply? And why have stood so long\\nuntenanted?\\n\\nJohn laughs at me, of course, but one expects that in marriage.\\n\\nJohn is practical in the extreme. He has no patience with faith, an\\nintense horror of superstition, and he scoffs openly at any talk of\\nthings not to be felt and seen and put down in figures.\\n\\nJohn is a physician, and perhaps—(I would not say it to a living soul,\\nof course, but this is dead paper and a great relief to my\\nmind)—perhaps that is one reason I do not get well faster.\\n\\nYou see, he does not believe I am sick!\\n\\nAnd what can one do?\\n\\nIf a physician of high standing, and one’s own husband, assures friends\\nand relatives that there is really nothing the matter with one but\\ntemporary nervous depression—a slight hysterical tendency—what is one\\nto do?\\n\\nMy brother is also a physician, and also of high standing, and he says\\nthe same thing.\\n\\nSo I take phosphates or phosphites—whichever it is, and tonics, and\\njourneys, and air, and exercise, and am absolutely forbidden to “work”\\nuntil I am well again.\\n\\nPersonally, I disagree with their ideas.\\n\\nPersonally, I believe that congenial work, with excitement and change,\\nwould do me good.\\n\\nBut what is one to do?\\n\\nI did write for a while in spite of them; but it does exhaust me a good\\ndeal—having to be so sly about it, or else meet with heavy opposition.\\n\\nI sometimes fancy that in my condition if I had less opposition and\\nmore society and stimulus—but John says the very worst thing I can do\\nis to think about my condition, and I confess it always makes me feel\\nbad.\\n\\nSo I will let it alone and talk about the house.\\n\\nThe most beautiful place! It is quite alone, standing well back from\\nthe road, quite three miles from the village. It makes me think of\\nEnglish places that you read about, for there are hedges and walls and\\ngates that lock, and lots of separate little houses for the gardeners\\nand people.\\n\\nThere is a delicious garden! I never saw such a garden—large and shady,\\nfull of box-bordered paths, and lined with long grape-covered arbors\\nwith seats under them.\\n\\nThere were greenhouses, too, but they are all broken now.\\n\\nThere was some legal trouble, I believe, something about the heirs and\\nco-heirs; anyhow, the place has been empty for years.\\n\\nThat spoils my ghostliness, I am afraid; but I don’t care—there is\\nsomething strange about the house—I can feel it.\\n\\nI even said so to John one moonlight evening, but he said what I felt\\nwas a draught, and shut the window.\\n\\nI get unreasonably angry with John sometimes. I’m sure I never used to\\nbe so sensitive. I think it is due to this nervous condition.\\n\\nBut John says if I feel so I shall neglect proper self-control; so I\\ntake pains to control myself,—before him, at least,—and that makes me\\nvery tired.\\n\\nI don’t like our room a bit. I wanted one downstairs that opened on the\\npiazza and had roses all over the window, and such pretty old-fashioned\\nchintz hangings! but John would not hear of it.\\n\\nHe said there was only one window and not room for two beds, and no\\nnear room for him if he took another.\\n\\nHe is very careful and loving, and hardly lets me stir without special\\ndirection.\\n\\nI have a schedule prescription for each hour in the day; he takes all\\ncare from me, and so I feel basely ungrateful not to value it more.\\n\\nHe said we came here solely on my account, that I was to have perfect\\nrest and all the air I could get. “Your exercise depends on your\\nstrength, my dear,” said he, “and your food somewhat on your appetite;\\nbut air you can absorb all the time.” So we took the nursery, at the\\ntop of the house.\\n\\nIt is a big, airy room, the whole floor nearly, with windows that look\\nall ways, and air and sunshine galore. It was nursery first and then\\nplayground and gymnasium, I should judge; for the windows are barred\\nfor little children, and there are rings and things in the walls.\\n\\nThe paint and paper look as if a boys’ school had used it. It is\\nstripped off—the paper—in great patches all around the head of my bed,\\nabout as far as I can reach, and in a great place on the other side of\\nthe room low down. I never saw a worse paper in my life.\\n\\nOne of those sprawling flamboyant patterns committing every artistic\\nsin.\\n\\nIt is dull enough to confuse the eye in following, pronounced enough to\\nconstantly irritate, and provoke study, and when you follow the lame,\\nuncertain curves for a little distance they suddenly commit\\nsuicide—plunge off at outrageous angles, destroy themselves in\\nunheard-of contradictions.\\n\\nThe color is repellant, almost revolting; a smouldering, unclean\\nyellow, strangely faded by the slow-turning sunlight.\\n\\nIt is a dull yet lurid orange in some places, a sickly sulphur tint in\\nothers.\\n\\nNo wonder the children hated it! I should hate it myself if I had to\\nlive in this room long.\\n\\nThere comes John, and I must put this away,—he hates to have me write a\\nword.\\n\\nWe have been here two weeks, and I haven’t felt like writing before,\\nsince that first day.\\n\\nI am sitting by the window now, up in this atrocious nursery, and there\\nis nothing to hinder my writing as much as I please, save lack of\\nstrength.\\n\\nJohn is away all day, and even some nights when his cases are serious.\\n\\nI am glad my case is not serious!\\n\\nBut these nervous troubles are dreadfully depressing.\\n\\nJohn does not know how much I really suffer. He knows there is no\\nreason to suffer, and that satisfies him.\\n\\nOf course it is only nervousness. It does weigh on me so not to do my\\nduty in any way!\\n\\nI meant to be such a help to John, such a real rest and comfort, and\\nhere I am a comparative burden already!\\n\\nNobody would believe what an effort it is to do what little I am\\nable—to dress and entertain, and order things.\\n\\nIt is fortunate Mary is so good with the baby. Such a dear baby!\\n\\nAnd yet I cannot be with him, it makes me so nervous.\\n\\nI suppose John never was nervous in his life. He laughs at me so about\\nthis wallpaper!\\n\\nAt first he meant to repaper the room, but afterwards he said that I\\nwas letting it get the better of me, and that nothing was worse for a\\nnervous patient than to give way to such fancies.\\n\\nHe said that after the wallpaper was changed it would be the heavy\\nbedstead, and then the barred windows, and then that gate at the head\\nof the stairs, and so on.\\n\\n“You know the place is doing you good,” he said, “and really, dear, I\\ndon’t care to renovate the house just for a three months’ rental.”\\n\\n“Then do let us go downstairs,” I said, “there are such pretty rooms\\nthere.”\\n\\nThen he took me in his arms and called me a blessed little goose, and\\nsaid he would go down cellar if I wished, and have it whitewashed into\\nthe bargain.\\n\\nBut he is right enough about the beds and windows and things.\\n\\nIt is as airy and comfortable a room as any one need wish, and, of\\ncourse, I would not be so silly as to make him uncomfortable just for a\\nwhim.\\n\\nI’m really getting quite fond of the big room, all but that horrid\\npaper.\\n\\nOut of one window I can see the garden, those mysterious deep-shaded\\narbors, the riotous old-fashioned flowers, and bushes and gnarly trees.\\n\\nOut of another I get a lovely view of the bay and a little private\\nwharf belonging to the estate. There is a beautiful shaded lane that\\nruns down there from the house. I always fancy I see people walking in\\nthese numerous paths and arbors, but John has cautioned me not to give\\nway to fancy in the least. He says that with my imaginative power and\\nhabit of story-making a nervous weakness like mine is sure to lead to\\nall manner of excited fancies, and that I ought to use my will and good\\nsense to check the tendency. So I try.\\n\\nI think sometimes that if I were only well enough to write a little it\\nwould relieve the press of ideas and rest me.\\n\\nBut I find I get pretty tired when I try.\\n\\nIt is so discouraging not to have any advice and companionship about my\\nwork. When I get really well John says we will ask Cousin Henry and\\nJulia down for a long visit; but he says he would as soon put\\nfire-works in my pillow-case as to let me have those stimulating people\\nabout now.\\n\\nI wish I could get well faster.\\n\\nBut I must not think about that. This paper looks to me as if it knew\\nwhat a vicious influence it had!\\n\\nThere is a recurrent spot where the pattern lolls like a broken neck\\nand two bulbous eyes stare at you upside-down.\\n\\nI get positively angry with the impertinence of it and the\\neverlastingness. Up and down and sideways they crawl, and those absurd,\\nunblinking eyes are everywhere. There is one place where two breadths\\ndidn’t match, and the eyes go all up and down the line, one a little\\nhigher than the other.\\n\\nI never saw so much expression in an inanimate thing before, and we all\\nknow how much expression they have! I used to lie awake as a child and\\nget more entertainment and terror out of blank walls and plain\\nfurniture than most children could find in a toy-store.\\n\\nI remember what a kindly wink the knobs of our big old bureau used to\\nhave, and there was one chair that always seemed like a strong friend.\\n\\nI used to feel that if any of the other things looked too fierce I\\ncould always hop into that chair and be safe.\\n\\nThe furniture in this room is no worse than inharmonious, however, for\\nwe had to bring it all from downstairs. I suppose when this was used as\\na playroom they had to take the nursery things out, and no wonder! I\\nnever saw such ravages as the children have made here.\\n\\nThe wallpaper, as I said before, is torn off in spots, and it sticketh\\ncloser than a brother—they must have had perseverance as well as\\nhatred.\\n\\nThen the floor is scratched and gouged and splintered, the plaster\\nitself is dug out here and there, and this great heavy bed, which is\\nall we found in the room, looks as if it had been through the wars.\\n\\nBut I don’t mind it a bit—only the paper.\\n\\nThere comes John’s sister. Such a dear girl as she is, and so careful\\nof me! I must not let her find me writing.\\n\\nShe is a perfect, and enthusiastic housekeeper, and hopes for no better\\nprofession. I verily believe she thinks it is the writing which made me\\nsick!\\n\\nBut I can write when she is out, and see her a long way off from these\\nwindows.\\n\\nThere is one that commands the road, a lovely, shaded, winding road,\\nand one that just looks off over the country. A lovely country, too,\\nfull of great elms and velvet meadows.\\n\\nThis wallpaper has a kind of sub-pattern in a different shade, a\\nparticularly irritating one, for you can only see it in certain lights,\\nand not clearly then.\\n\\nBut in the places where it isn’t faded, and where the sun is just so, I\\ncan see a strange, provoking, formless sort of figure, that seems to\\nsulk about behind that silly and conspicuous front design.\\n\\nThere’s sister on the stairs!\\n\\nWell, the Fourth of July is over! The people are gone and I am tired\\nout. John thought it might do me good to see a little company, so we\\njust had mother and Nellie and the children down for a week.\\n\\nOf course I didn’t do a thing. Jennie sees to everything now.\\n\\nBut it tired me all the same.\\n\\nJohn says if I don’t pick up faster he shall send me to Weir Mitchell\\nin the fall.\\n\\nBut I don’t want to go there at all. I had a friend who was in his\\nhands once, and she says he is just like John and my brother, only more\\nso!\\n\\nBesides, it is such an undertaking to go so far.\\n\\nI don’t feel as if it was worth while to turn my hand over for\\nanything, and I’m getting dreadfully fretful and querulous.\\n\\nI cry at nothing, and cry most of the time.\\n\\nOf course I don’t when John is here, or anybody else, but when I am\\nalone.\\n\\nAnd I am alone a good deal just now. John is kept in town very often by\\nserious cases, and Jennie is good and lets me alone when I want her to.\\n\\nSo I walk a little in the garden or down that lovely lane, sit on the\\nporch under the roses, and lie down up here a good deal.\\n\\nI’m getting really fond of the room in spite of the wallpaper. Perhaps\\nbecause of the wallpaper.\\n\\nIt dwells in my mind so!\\n\\nI lie here on this great immovable bed—it is nailed down, I believe—and\\nfollow that pattern about by the hour. It is as good as gymnastics, I\\nassure you. I start, we’ll say, at the bottom, down in the corner over\\nthere where it has not been touched, and I determine for the thousandth\\ntime that I will follow that pointless pattern to some sort of a\\nconclusion.\\n\\nI know a little of the principle of design, and I know this thing was\\nnot arranged on any laws of radiation, or alternation, or repetition,\\nor symmetry, or anything else that I ever heard of.\\n\\nIt is repeated, of course, by the breadths, but not otherwise.\\n\\nLooked at in one way each breadth stands alone, the bloated curves and\\nflourishes—a kind of “debased Romanesque” with delirium tremens—go\\nwaddling up and down in isolated columns of fatuity.\\n\\nBut, on the other hand, they connect diagonally, and the sprawling\\noutlines run off in great slanting waves of optic horror, like a lot of\\nwallowing seaweeds in full chase.\\n\\nThe whole thing goes horizontally, too, at least it seems so, and I\\nexhaust myself in trying to distinguish the order of its going in that\\ndirection.\\n\\nThey have used a horizontal breadth for a frieze, and that adds\\nwonderfully to the confusion.\\n\\nThere is one end of the room where it is almost intact, and there, when\\nthe cross-lights fade and the low sun shines directly upon it, I can\\nalmost fancy radiation after all,—the interminable grotesques seem to\\nform around a common centre and rush off in headlong plunges of equal\\ndistraction.\\n\\nIt makes me tired to follow it. I will take a nap, I guess.\\n\\nI don’t know why I should write this.\\n\\nI don’t want to.\\n\\nI don’t feel able.\\n\\nAnd I know John would think it absurd. But I must say what I feel and\\nthink in some way—it is such a relief!\\n\\nBut the effort is getting to be greater than the relief.\\n\\nHalf the time now I am awfully lazy, and lie down ever so much.\\n\\nJohn says I musn’t lose my strength, and has me take cod-liver oil and\\nlots of tonics and things, to say nothing of ale and wine and rare\\nmeat.\\n\\nDear John! He loves me very dearly, and hates to have me sick. I tried\\nto have a real earnest reasonable talk with him the other day, and tell\\nhim how I wish he would let me go and make a visit to Cousin Henry and\\nJulia.\\n\\nBut he said I wasn’t able to go, nor able to stand it after I got\\nthere; and I did not make out a very good case for myself, for I was\\ncrying before I had finished.\\n\\nIt is getting to be a great effort for me to think straight. Just this\\nnervous weakness, I suppose.\\n\\nAnd dear John gathered me up in his arms, and just carried me upstairs\\nand laid me on the bed, and sat by me and read to me till it tired my\\nhead.\\n\\nHe said I was his darling and his comfort and all he had, and that I\\nmust take care of myself for his sake, and keep well.\\n\\nHe says no one but myself can help me out of it, that I must use my\\nwill and self-control and not let any silly fancies run away with me.\\n\\nThere’s one comfort, the baby is well and happy, and does not have to\\noccupy this nursery with the horrid wallpaper.\\n\\nIf we had not used it that blessed child would have! What a fortunate\\nescape! Why, I wouldn’t have a child of mine, an impressionable little\\nthing, live in such a room for worlds.\\n\\nI never thought of it before, but it is lucky that John kept me here\\nafter all. I can stand it so much easier than a baby, you see.\\n\\nOf course I never mention it to them any more,—I am too wise,—but I\\nkeep watch of it all the same.\\n\\nThere are things in that paper that nobody knows but me, or ever will.\\n\\nBehind that outside pattern the dim shapes get clearer every day.\\n\\nIt is always the same shape, only very numerous.\\n\\nAnd it is like a woman stooping down and creeping about behind that\\npattern. I don’t like it a bit. I wonder—I begin to think—I wish John\\nwould take me away from here!\\n\\nIt is so hard to talk with John about my case, because he is so wise,\\nand because he loves me so.\\n\\nBut I tried it last night.\\n\\nIt was moonlight. The moon shines in all around, just as the sun does.\\n\\nI hate to see it sometimes, it creeps so slowly, and always comes in by\\none window or another.\\n\\nJohn was asleep and I hated to waken him, so I kept still and watched\\nthe moonlight on that undulating wallpaper till I felt creepy.\\n\\nThe faint figure behind seemed to shake the pattern, just as if she\\nwanted to get out.\\n\\nI got up softly and went to feel and see if the paper did move, and\\nwhen I came back John was awake.\\n\\n“What is it, little girl?” he said. “Don’t go walking about like\\nthat—you’ll get cold.”\\n\\nI thought it was a good time to talk, so I told him that I really was\\nnot gaining here, and that I wished he would take me away.\\n\\n“Why darling!” said he, “our lease will be up in three weeks, and I\\ncan’t see how to leave before.\\n\\n“The repairs are not done at home, and I cannot possibly leave town\\njust now. Of course if you were in any danger I could and would, but\\nyou really are better, dear, whether you can see it or not. I am a\\ndoctor, dear, and I know. You are gaining flesh and color, your\\nappetite is better. I feel really much easier about you.”\\n\\n“I don’t weigh a bit more,” said I, “nor as much; and my appetite may\\nbe better in the evening, when you are here, but it is worse in the\\nmorning when you are away.”\\n\\n“Bless her little heart!” said he with a big hug; “she shall be as sick\\nas she pleases! But now let’s improve the shining hours by going to\\nsleep, and talk about it in the morning!”\\n\\n“And you won’t go away?” I asked gloomily.\\n\\n“Why, how can I, dear? It is only three weeks more and then we will\\ntake a nice little trip of a few days while Jennie is getting the house\\nready. Really, dear, you are better!”\\n\\n“Better in body perhaps”—I began, and stopped short, for he sat up\\nstraight and looked at me with such a stern, reproachful look that I\\ncould not say another word.\\n\\n“My darling,” said he, “I beg of you, for my sake and for our child’s\\nsake, as well as for your own, that you will never for one instant let\\nthat idea enter your mind! There is nothing so dangerous, so\\nfascinating, to a temperament like yours. It is a false and foolish\\nfancy. Can you not trust me as a physician when I tell you so?”\\n\\nSo of course I said no more on that score, and we went to sleep before\\nlong. He thought I was asleep first, but I wasn’t,—I lay there for\\nhours trying to decide whether that front pattern and the back pattern\\nreally did move together or separately.\\n\\nOn a pattern like this, by daylight, there is a lack of sequence, a\\ndefiance of law, that is a constant irritant to a normal mind.\\n\\nThe color is hideous enough, and unreliable enough, and infuriating\\nenough, but the pattern is torturing.\\n\\nYou think you have mastered it, but just as you get well under way in\\nfollowing, it turns a back somersault and there you are. It slaps you\\nin the face, knocks you down, and tramples upon you. It is like a bad\\ndream.\\n\\nThe outside pattern is a florid arabesque, reminding one of a fungus.\\nIf you can imagine a toadstool in joints, an interminable string of\\ntoadstools, budding and sprouting in endless convolutions,—why, that is\\nsomething like it.\\n\\nThat is, sometimes!\\n\\nThere is one marked peculiarity about this paper, a thing nobody seems\\nto notice but myself, and that is that it changes as the light changes.\\n\\nWhen the sun shoots in through the east window—I always watch for that\\nfirst long, straight ray—it changes so quickly that I never can quite\\nbelieve it.\\n\\nThat is why I watch it always.\\n\\nBy moonlight—the moon shines in all night when there is a moon—I\\nwouldn’t know it was the same paper.\\n\\nAt night in any kind of light, in twilight, candlelight, lamplight, and\\nworst of all by moonlight, it becomes bars! The outside pattern I mean,\\nand the woman behind it is as plain as can be.\\n\\nI didn’t realize for a long time what the thing was that showed\\nbehind,—that dim sub-pattern,—but now I am quite sure it is a woman.\\n\\nBy daylight she is subdued, quiet. I fancy it is the pattern that keeps\\nher so still. It is so puzzling. It keeps me quiet by the hour.\\n\\nI lie down ever so much now. John says it is good for me, and to sleep\\nall I can.\\n\\nIndeed, he started the habit by making me lie down for an hour after\\neach meal.\\n\\nIt is a very bad habit, I am convinced, for, you see, I don’t sleep.\\n\\nAnd that cultivates deceit, for I don’t tell them I’m awake,—oh, no!\\n\\nThe fact is, I am getting a little afraid of John.\\n\\nHe seems very queer sometimes, and even Jennie has an inexplicable\\nlook.\\n\\nIt strikes me occasionally, just as a scientific hypothesis, that\\nperhaps it is the paper!\\n\\nI have watched John when he did not know I was looking, and come into\\nthe room suddenly on the most innocent excuses, and I’ve caught him\\nseveral times looking at the paper! And Jennie too. I caught Jennie\\nwith her hand on it once.\\n\\nShe didn’t know I was in the room, and when I asked her in a quiet, a\\nvery quiet voice, with the most restrained manner possible, what she\\nwas doing with the paper she turned around as if she had been caught\\nstealing, and looked quite angry—asked me why I should frighten her so!\\n\\nThen she said that the paper stained everything it touched, that she\\nhad found yellow smooches on all my clothes and John’s, and she wished\\nwe would be more careful!\\n\\nDid not that sound innocent? But I know she was studying that pattern,\\nand I am determined that nobody shall find it out but myself!\\n\\nLife is very much more exciting now than it used to be. You see I have\\nsomething more to expect, to look forward to, to watch. I really do eat\\nbetter, and am more quiet than I was.\\n\\nJohn is so pleased to see me improve! He laughed a little the other\\nday, and said I seemed to be flourishing in spite of my wallpaper.\\n\\nI turned it off with a laugh. I had no intention of telling him it was\\nbecause of the wallpaper—he would make fun of me. He might even want to\\ntake me away.\\n\\nI don’t want to leave now until I have found it out. There is a week\\nmore, and I think that will be enough.\\n\\nI’m feeling ever so much better! I don’t sleep much at night, for it is\\nso interesting to watch developments; but I sleep a good deal in the\\ndaytime.\\n\\nIn the daytime it is tiresome and perplexing.\\n\\nThere are always new shoots on the fungus, and new shades of yellow all\\nover it. I cannot keep count of them, though I have tried\\nconscientiously.\\n\\nIt is the strangest yellow, that wallpaper! It makes me think of all\\nthe yellow things I ever saw—not beautiful ones like buttercups, but\\nold foul, bad yellow things.\\n\\nBut there is something else about that paper—the smell! I noticed it\\nthe moment we came into the room, but with so much air and sun it was\\nnot bad. Now we have had a week of fog and rain, and whether the\\nwindows are open or not, the smell is here.\\n\\nIt creeps all over the house.\\n\\nI find it hovering in the dining-room, skulking in the parlor, hiding\\nin the hall, lying in wait for me on the stairs.\\n\\nIt gets into my hair.\\n\\nEven when I go to ride, if I turn my head suddenly and surprise\\nit—there is that smell!\\n\\nSuch a peculiar odor, too! I have spent hours in trying to analyze it,\\nto find what it smelled like.\\n\\nIt is not bad—at first, and very gentle, but quite the subtlest, most\\nenduring odor I ever met.\\n\\nIn this damp weather it is awful. I wake up in the night and find it\\nhanging over me.\\n\\nIt used to disturb me at first. I thought seriously of burning the\\nhouse—to reach the smell.\\n\\nBut now I am used to it. The only thing I can think of that it is like\\nis the color of the paper! A yellow smell.\\n\\nThere is a very funny mark on this wall, low down, near the mopboard. A\\nstreak that runs round the room. It goes behind every piece of\\nfurniture, except the bed, a long, straight, even smooch, as if it had\\nbeen rubbed over and over.\\n\\nI wonder how it was done and who did it, and what they did it for.\\nRound and round and round—round and round and round—it makes me dizzy!\\n\\nI really have discovered something at last.\\n\\nThrough watching so much at night, when it changes so, I have finally\\nfound out.\\n\\nThe front pattern does move—and no wonder! The woman behind shakes it!\\n\\nSometimes I think there are a great many women behind, and sometimes\\nonly one, and she crawls around fast, and her crawling shakes it all\\nover.\\n\\nThen in the very bright spots she keeps still, and in the very shady\\nspots she just takes hold of the bars and shakes them hard.\\n\\nAnd she is all the time trying to climb through. But nobody could climb\\nthrough that pattern—it strangles so; I think that is why it has so\\nmany heads.\\n\\nThey get through, and then the pattern strangles them off and turns\\nthem upside-down, and makes their eyes white!\\n\\nIf those heads were covered or taken off it would not be half so bad.\\n\\nI think that woman gets out in the daytime!\\n\\nAnd I’ll tell you why—privately—I’ve seen her!\\n\\nI can see her out of every one of my windows!\\n\\nIt is the same woman, I know, for she is always creeping, and most\\nwomen do not creep by daylight.\\n\\nI see her on that long shaded lane, creeping up and down. I see her in\\nthose dark grape arbors, creeping all around the garden.\\n\\nI see her on that long road under the trees, creeping along, and when a\\ncarriage comes she hides under the blackberry vines.\\n\\nI don’t blame her a bit. It must be very humiliating to be caught\\ncreeping by daylight!\\n\\nI always lock the door when I creep by daylight. I can’t do it at\\nnight, for I know John would suspect something at once.\\n\\nAnd John is so queer now, that I don’t want to irritate him. I wish he\\nwould take another room! Besides, I don’t want anybody to get that\\nwoman out at night but myself.\\n\\nI often wonder if I could see her out of all the windows at once.\\n\\nBut, turn as fast as I can, I can only see out of one at one time.\\n\\nAnd though I always see her she may be able to creep faster than I can\\nturn!\\n\\nI have watched her sometimes away off in the open country, creeping as\\nfast as a cloud shadow in a high wind.\\n\\nIf only that top pattern could be gotten off from the under one! I mean\\nto try it, little by little.\\n\\nI have found out another funny thing, but I shan’t tell it this time!\\nIt does not do to trust people too much.\\n\\nThere are only two more days to get this paper off, and I believe John\\nis beginning to notice. I don’t like the look in his eyes.\\n\\nAnd I heard him ask Jennie a lot of professional questions about me.\\nShe had a very good report to give.\\n\\nShe said I slept a good deal in the daytime.\\n\\nJohn knows I don’t sleep very well at night, for all I’m so quiet!\\n\\nHe asked me all sorts of questions, too, and pretended to be very\\nloving and kind.\\n\\nAs if I couldn’t see through him!\\n\\nStill, I don’t wonder he acts so, sleeping under this paper for three\\nmonths.\\n\\nIt only interests me, but I feel sure John and Jennie are secretly\\naffected by it.\\n\\nHurrah! This is the last day, but it is enough. John is to stay in town\\nover night, and won’t be out until this evening.\\n\\nJennie wanted to sleep with me—the sly thing! but I told her I should\\nundoubtedly rest better for a night all alone.\\n\\nThat was clever, for really I wasn’t alone a bit! As soon as it was\\nmoonlight, and that poor thing began to crawl and shake the pattern, I\\ngot up and ran to help her.\\n\\nI pulled and she shook, I shook and she pulled, and before morning we\\nhad peeled off yards of that paper.\\n\\nA strip about as high as my head and half around the room.\\n\\nAnd then when the sun came and that awful pattern began to laugh at me\\nI declared I would finish it to-day!\\n\\nWe go away to-morrow, and they are moving all my furniture down again\\nto leave things as they were before.\\n\\nJennie looked at the wall in amazement, but I told her merrily that I\\ndid it out of pure spite at the vicious thing.\\n\\nShe laughed and said she wouldn’t mind doing it herself, but I must not\\nget tired.\\n\\nHow she betrayed herself that time!\\n\\nBut I am here, and no person touches this paper but me—not alive!\\n\\nShe tried to get me out of the room—it was too patent! But I said it\\nwas so quiet and empty and clean now that I believed I would lie down\\nagain and sleep all I could; and not to wake me even for dinner—I would\\ncall when I woke.\\n\\nSo now she is gone, and the servants are gone, and the things are gone,\\nand there is nothing left but that great bedstead nailed down, with the\\ncanvas mattress we found on it.\\n\\nWe shall sleep downstairs to-night, and take the boat home to-morrow.\\n\\nI quite enjoy the room, now it is bare again.\\n\\nHow those children did tear about here!\\n\\nThis bedstead is fairly gnawed!\\n\\nBut I must get to work.\\n\\nI have locked the door and thrown the key down into the front path.\\n\\nI don’t want to go out, and I don’t want to have anybody come in, till\\nJohn comes.\\n\\nI want to astonish him.\\n\\nI’ve got a rope up here that even Jennie did not find. If that woman\\ndoes get out, and tries to get away, I can tie her!\\n\\nBut I forgot I could not reach far without anything to stand on!\\n\\nThis bed will not move!\\n\\nI tried to lift and push it until I was lame, and then I got so angry I\\nbit off a little piece at one corner—but it hurt my teeth.\\n\\nThen I peeled off all the paper I could reach standing on the floor. It\\nsticks horribly and the pattern just enjoys it! All those strangled\\nheads and bulbous eyes and waddling fungus growths just shriek with\\nderision!\\n\\nI am getting angry enough to do something desperate. To jump out of the\\nwindow would be admirable exercise, but the bars are too strong even to\\ntry.\\n\\nBesides I wouldn’t do it. Of course not. I know well enough that a step\\nlike that is improper and might be misconstrued.\\n\\nI don’t like to look out of the windows even—there are so many of those\\ncreeping women, and they creep so fast.\\n\\nI wonder if they all come out of that wallpaper as I did?\\n\\nBut I am securely fastened now by my well-hidden rope—you don’t get me\\nout in the road there!\\n\\nI suppose I shall have to get back behind the pattern when it comes\\nnight, and that is hard!\\n\\nIt is so pleasant to be out in this great room and creep around as I\\nplease!\\n\\nI don’t want to go outside. I won’t, even if Jennie asks me to.\\n\\nFor outside you have to creep on the ground, and everything is green\\ninstead of yellow.\\n\\nBut here I can creep smoothly on the floor, and my shoulder just fits\\nin that long smooch around the wall, so I cannot lose my way.\\n\\nWhy, there’s John at the door!\\n\\nIt is no use, young man, you can’t open it!\\n\\nHow he does call and pound!\\n\\nNow he’s crying for an axe.\\n\\nIt would be a shame to break down that beautiful door!\\n\\n“John dear!” said I in the gentlest voice, “the key is down by the\\nfront steps, under a plantain leaf!”\\n\\nThat silenced him for a few moments.\\n\\nThen he said—very quietly indeed, “Open the door, my darling!”\\n\\n“I can’t,” said I. “The key is down by the front door under a plantain\\nleaf!”\\n\\nAnd then I said it again, several times, very gently and slowly, and\\nsaid it so often that he had to go and see, and he got it, of course,\\nand came in. He stopped short by the door.\\n\\n“What is the matter?” he cried. “For God’s sake, what are you doing!”\\n\\nI kept on creeping just the same, but I looked at him over my shoulder.\\n\\n“I’ve got out at last,” said I, “in spite of you and Jane! And I’ve\\npulled off most of the paper, so you can’t put me back!”\\n\\nNow why should that man have fainted? But he did, and right across my\\npath by the wall, so that I had to creep over him every time!\\n\\n\\n\\n\\n*** END OF THE PROJECT GUTENBERG EBOOK THE YELLOW WALLPAPER ***\\n\\n***** This file should be named 1952-0.txt or 1952-0.zip *****\\nThis and all associated files of various formats will be found in:\\n    https://www.gutenberg.org/1/9/5/1952/\\n\\nUpdated editions will replace the previous one--the old editions will\\nbe renamed.\\n\\nCreating the works from print editions not protected by U.S. copyright\\nlaw means that no one owns a United States copyright in these works,\\nso the Foundation (and you!) can copy and distribute it in the\\nUnited States without permission and without paying copyright\\nroyalties. Special rules, set forth in the General Terms of Use part\\nof this license, apply to copying and distributing Project\\nGutenberg-tm electronic works to protect the PROJECT GUTENBERG-tm\\nconcept and trademark. Project Gutenberg is a registered trademark,\\nand may not be used if you charge for an eBook, except by following\\nthe terms of the trademark license, including paying royalties for use\\nof the Project Gutenberg trademark. If you do not charge anything for\\ncopies of this eBook, complying with the trademark license is very\\neasy. You may use this eBook for nearly any purpose such as creation\\nof derivative works, reports, performances and research. Project\\nGutenberg eBooks may be modified and printed and given away--you may\\ndo practically ANYTHING in the United States with eBooks not protected\\nby U.S. copyright law. Redistribution is subject to the trademark\\nlicense, especially commercial redistribution.\\n\\nSTART: FULL LICENSE\\n\\nTHE FULL PROJECT GUTENBERG LICENSE\\nPLEASE READ THIS BEFORE YOU DISTRIBUTE OR USE THIS WORK\\n\\nTo protect the Project Gutenberg-tm mission of promoting the free\\ndistribution of electronic works, by using or distributing this work\\n(or any other work associated in any way with the phrase \"Project\\nGutenberg\"), you agree to comply with all the terms of the Full\\nProject Gutenberg-tm License available with this file or online at\\nwww.gutenberg.org/license.\\n\\nSection 1. General Terms of Use and Redistributing Project\\nGutenberg-tm electronic works\\n\\n1.A. By reading or using any part of this Project Gutenberg-tm\\nelectronic work, you indicate that you have read, understand, agree to\\nand accept all the terms of this license and intellectual property\\n(trademark/copyright) agreement. If you do not agree to abide by all\\nthe terms of this agreement, you must cease using and return or\\ndestroy all copies of Project Gutenberg-tm electronic works in your\\npossession. If you paid a fee for obtaining a copy of or access to a\\nProject Gutenberg-tm electronic work and you do not agree to be bound\\nby the terms of this agreement, you may obtain a refund from the\\nperson or entity to whom you paid the fee as set forth in paragraph\\n1.E.8.\\n\\n1.B. \"Project Gutenberg\" is a registered trademark. It may only be\\nused on or associated in any way with an electronic work by people who\\nagree to be bound by the terms of this agreement. There are a few\\nthings that you can do with most Project Gutenberg-tm electronic works\\neven without complying with the full terms of this agreement. See\\nparagraph 1.C below. There are a lot of things you can do with Project\\nGutenberg-tm electronic works if you follow the terms of this\\nagreement and help preserve free future access to Project Gutenberg-tm\\nelectronic works. See paragraph 1.E below.\\n\\n1.C. The Project Gutenberg Literary Archive Foundation (\"the\\nFoundation\" or PGLAF), owns a compilation copyright in the collection\\nof Project Gutenberg-tm electronic works. Nearly all the individual\\nworks in the collection are in the public domain in the United\\nStates. If an individual work is unprotected by copyright law in the\\nUnited States and you are located in the United States, we do not\\nclaim a right to prevent you from copying, distributing, performing,\\ndisplaying or creating derivative works based on the work as long as\\nall references to Project Gutenberg are removed. Of course, we hope\\nthat you will support the Project Gutenberg-tm mission of promoting\\nfree access to electronic works by freely sharing Project Gutenberg-tm\\nworks in compliance with the terms of this agreement for keeping the\\nProject Gutenberg-tm name associated with the work. You can easily\\ncomply with the terms of this agreement by keeping this work in the\\nsame format with its attached full Project Gutenberg-tm License when\\nyou share it without charge with others.\\n\\n1.D. The copyright laws of the place where you are located also govern\\nwhat you can do with this work. Copyright laws in most countries are\\nin a constant state of change. If you are outside the United States,\\ncheck the laws of your country in addition to the terms of this\\nagreement before downloading, copying, displaying, performing,\\ndistributing or creating derivative works based on this work or any\\nother Project Gutenberg-tm work. The Foundation makes no\\nrepresentations concerning the copyright status of any work in any\\ncountry other than the United States.\\n\\n1.E. Unless you have removed all references to Project Gutenberg:\\n\\n1.E.1. The following sentence, with active links to, or other\\nimmediate access to, the full Project Gutenberg-tm License must appear\\nprominently whenever any copy of a Project Gutenberg-tm work (any work\\non which the phrase \"Project Gutenberg\" appears, or with which the\\nphrase \"Project Gutenberg\" is associated) is accessed, displayed,\\nperformed, viewed, copied or distributed:\\n\\n  This eBook is for the use of anyone anywhere in the United States and\\n  most other parts of the world at no cost and with almost no\\n  restrictions whatsoever. You may copy it, give it away or re-use it\\n  under the terms of the Project Gutenberg License included with this\\n  eBook or online at www.gutenberg.org. If you are not located in the\\n  United States, you will have to check the laws of the country where\\n  you are located before using this eBook.\\n\\n1.E.2. If an individual Project Gutenberg-tm electronic work is\\nderived from texts not protected by U.S. copyright law (does not\\ncontain a notice indicating that it is posted with permission of the\\ncopyright holder), the work can be copied and distributed to anyone in\\nthe United States without paying any fees or charges. If you are\\nredistributing or providing access to a work with the phrase \"Project\\nGutenberg\" associated with or appearing on the work, you must comply\\neither with the requirements of paragraphs 1.E.1 through 1.E.7 or\\nobtain permission for the use of the work and the Project Gutenberg-tm\\ntrademark as set forth in paragraphs 1.E.8 or 1.E.9.\\n\\n1.E.3. If an individual Project Gutenberg-tm electronic work is posted\\nwith the permission of the copyright holder, your use and distribution\\nmust comply with both paragraphs 1.E.1 through 1.E.7 and any\\nadditional terms imposed by the copyright holder. Additional terms\\nwill be linked to the Project Gutenberg-tm License for all works\\nposted with the permission of the copyright holder found at the\\nbeginning of this work.\\n\\n1.E.4. Do not unlink or detach or remove the full Project Gutenberg-tm\\nLicense terms from this work, or any files containing a part of this\\nwork or any other work associated with Project Gutenberg-tm.\\n\\n1.E.5. Do not copy, display, perform, distribute or redistribute this\\nelectronic work, or any part of this electronic work, without\\nprominently displaying the sentence set forth in paragraph 1.E.1 with\\nactive links or immediate access to the full terms of the Project\\nGutenberg-tm License.\\n\\n1.E.6. You may convert to and distribute this work in any binary,\\ncompressed, marked up, nonproprietary or proprietary form, including\\nany word processing or hypertext form. However, if you provide access\\nto or distribute copies of a Project Gutenberg-tm work in a format\\nother than \"Plain Vanilla ASCII\" or other format used in the official\\nversion posted on the official Project Gutenberg-tm website\\n(www.gutenberg.org), you must, at no additional cost, fee or expense\\nto the user, provide a copy, a means of exporting a copy, or a means\\nof obtaining a copy upon request, of the work in its original \"Plain\\nVanilla ASCII\" or other form. Any alternate format must include the\\nfull Project Gutenberg-tm License as specified in paragraph 1.E.1.\\n\\n1.E.7. Do not charge a fee for access to, viewing, displaying,\\nperforming, copying or distributing any Project Gutenberg-tm works\\nunless you comply with paragraph 1.E.8 or 1.E.9.\\n\\n1.E.8. You may charge a reasonable fee for copies of or providing\\naccess to or distributing Project Gutenberg-tm electronic works\\nprovided that:\\n\\n* You pay a royalty fee of 20% of the gross profits you derive from\\n  the use of Project Gutenberg-tm works calculated using the method\\n  you already use to calculate your applicable taxes. The fee is owed\\n  to the owner of the Project Gutenberg-tm trademark, but he has\\n  agreed to donate royalties under this paragraph to the Project\\n  Gutenberg Literary Archive Foundation. Royalty payments must be paid\\n  within 60 days following each date on which you prepare (or are\\n  legally required to prepare) your periodic tax returns. Royalty\\n  payments should be clearly marked as such and sent to the Project\\n  Gutenberg Literary Archive Foundation at the address specified in\\n  Section 4, \"Information about donations to the Project Gutenberg\\n  Literary Archive Foundation.\"\\n\\n* You provide a full refund of any money paid by a user who notifies\\n  you in writing (or by e-mail) within 30 days of receipt that s/he\\n  does not agree to the terms of the full Project Gutenberg-tm\\n  License. You must require such a user to return or destroy all\\n  copies of the works possessed in a physical medium and discontinue\\n  all use of and all access to other copies of Project Gutenberg-tm\\n  works.\\n\\n* You provide, in accordance with paragraph 1.F.3, a full refund of\\n  any money paid for a work or a replacement copy, if a defect in the\\n  electronic work is discovered and reported to you within 90 days of\\n  receipt of the work.\\n\\n* You comply with all other terms of this agreement for free\\n  distribution of Project Gutenberg-tm works.\\n\\n1.E.9. If you wish to charge a fee or distribute a Project\\nGutenberg-tm electronic work or group of works on different terms than\\nare set forth in this agreement, you must obtain permission in writing\\nfrom the Project Gutenberg Literary Archive Foundation, the manager of\\nthe Project Gutenberg-tm trademark. Contact the Foundation as set\\nforth in Section 3 below.\\n\\n1.F.\\n\\n1.F.1. Project Gutenberg volunteers and employees expend considerable\\neffort to identify, do copyright research on, transcribe and proofread\\nworks not protected by U.S. copyright law in creating the Project\\nGutenberg-tm collection. Despite these efforts, Project Gutenberg-tm\\nelectronic works, and the medium on which they may be stored, may\\ncontain \"Defects,\" such as, but not limited to, incomplete, inaccurate\\nor corrupt data, transcription errors, a copyright or other\\nintellectual property infringement, a defective or damaged disk or\\nother medium, a computer virus, or computer codes that damage or\\ncannot be read by your equipment.\\n\\n1.F.2. LIMITED WARRANTY, DISCLAIMER OF DAMAGES - Except for the \"Right\\nof Replacement or Refund\" described in paragraph 1.F.3, the Project\\nGutenberg Literary Archive Foundation, the owner of the Project\\nGutenberg-tm trademark, and any other party distributing a Project\\nGutenberg-tm electronic work under this agreement, disclaim all\\nliability to you for damages, costs and expenses, including legal\\nfees. YOU AGREE THAT YOU HAVE NO REMEDIES FOR NEGLIGENCE, STRICT\\nLIABILITY, BREACH OF WARRANTY OR BREACH OF CONTRACT EXCEPT THOSE\\nPROVIDED IN PARAGRAPH 1.F.3. YOU AGREE THAT THE FOUNDATION, THE\\nTRADEMARK OWNER, AND ANY DISTRIBUTOR UNDER THIS AGREEMENT WILL NOT BE\\nLIABLE TO YOU FOR ACTUAL, DIRECT, INDIRECT, CONSEQUENTIAL, PUNITIVE OR\\nINCIDENTAL DAMAGES EVEN IF YOU GIVE NOTICE OF THE POSSIBILITY OF SUCH\\nDAMAGE.\\n\\n1.F.3. LIMITED RIGHT OF REPLACEMENT OR REFUND - If you discover a\\ndefect in this electronic work within 90 days of receiving it, you can\\nreceive a refund of the money (if any) you paid for it by sending a\\nwritten explanation to the person you received the work from. If you\\nreceived the work on a physical medium, you must return the medium\\nwith your written explanation. The person or entity that provided you\\nwith the defective work may elect to provide a replacement copy in\\nlieu of a refund. If you received the work electronically, the person\\nor entity providing it to you may choose to give you a second\\nopportunity to receive the work electronically in lieu of a refund. If\\nthe second copy is also defective, you may demand a refund in writing\\nwithout further opportunities to fix the problem.\\n\\n1.F.4. Except for the limited right of replacement or refund set forth\\nin paragraph 1.F.3, this work is provided to you \\'AS-IS\\', WITH NO\\nOTHER WARRANTIES OF ANY KIND, EXPRESS OR IMPLIED, INCLUDING BUT NOT\\nLIMITED TO WARRANTIES OF MERCHANTABILITY OR FITNESS FOR ANY PURPOSE.\\n\\n1.F.5. Some states do not allow disclaimers of certain implied\\nwarranties or the exclusion or limitation of certain types of\\ndamages. If any disclaimer or limitation set forth in this agreement\\nviolates the law of the state applicable to this agreement, the\\nagreement shall be interpreted to make the maximum disclaimer or\\nlimitation permitted by the applicable state law. The invalidity or\\nunenforceability of any provision of this agreement shall not void the\\nremaining provisions.\\n\\n1.F.6. INDEMNITY - You agree to indemnify and hold the Foundation, the\\ntrademark owner, any agent or employee of the Foundation, anyone\\nproviding copies of Project Gutenberg-tm electronic works in\\naccordance with this agreement, and any volunteers associated with the\\nproduction, promotion and distribution of Project Gutenberg-tm\\nelectronic works, harmless from all liability, costs and expenses,\\nincluding legal fees, that arise directly or indirectly from any of\\nthe following which you do or cause to occur: (a) distribution of this\\nor any Project Gutenberg-tm work, (b) alteration, modification, or\\nadditions or deletions to any Project Gutenberg-tm work, and (c) any\\nDefect you cause.\\n\\nSection 2. Information about the Mission of Project Gutenberg-tm\\n\\nProject Gutenberg-tm is synonymous with the free distribution of\\nelectronic works in formats readable by the widest variety of\\ncomputers including obsolete, old, middle-aged and new computers. It\\nexists because of the efforts of hundreds of volunteers and donations\\nfrom people in all walks of life.\\n\\nVolunteers and financial support to provide volunteers with the\\nassistance they need are critical to reaching Project Gutenberg-tm\\'s\\ngoals and ensuring that the Project Gutenberg-tm collection will\\nremain freely available for generations to come. In 2001, the Project\\nGutenberg Literary Archive Foundation was created to provide a secure\\nand permanent future for Project Gutenberg-tm and future\\ngenerations. To learn more about the Project Gutenberg Literary\\nArchive Foundation and how your efforts and donations can help, see\\nSections 3 and 4 and the Foundation information page at\\nwww.gutenberg.org\\n\\nSection 3. Information about the Project Gutenberg Literary\\nArchive Foundation\\n\\nThe Project Gutenberg Literary Archive Foundation is a non-profit\\n501(c)(3) educational corporation organized under the laws of the\\nstate of Mississippi and granted tax exempt status by the Internal\\nRevenue Service. The Foundation\\'s EIN or federal tax identification\\nnumber is 64-6221541. Contributions to the Project Gutenberg Literary\\nArchive Foundation are tax deductible to the full extent permitted by\\nU.S. federal laws and your state\\'s laws.\\n\\nThe Foundation\\'s business office is located at 809 North 1500 West,\\nSalt Lake City, UT 84116, (801) 596-1887. Email contact links and up\\nto date contact information can be found at the Foundation\\'s website\\nand official page at www.gutenberg.org/contact\\n\\nSection 4. Information about Donations to the Project Gutenberg\\nLiterary Archive Foundation\\n\\nProject Gutenberg-tm depends upon and cannot survive without\\nwidespread public support and donations to carry out its mission of\\nincreasing the number of public domain and licensed works that can be\\nfreely distributed in machine-readable form accessible by the widest\\narray of equipment including outdated equipment. Many small donations\\n($1 to $5,000) are particularly important to maintaining tax exempt\\nstatus with the IRS.\\n\\nThe Foundation is committed to complying with the laws regulating\\ncharities and charitable donations in all 50 states of the United\\nStates. Compliance requirements are not uniform and it takes a\\nconsiderable effort, much paperwork and many fees to meet and keep up\\nwith these requirements. We do not solicit donations in locations\\nwhere we have not received written confirmation of compliance. To SEND\\nDONATIONS or determine the status of compliance for any particular\\nstate visit www.gutenberg.org/donate\\n\\nWhile we cannot and do not solicit contributions from states where we\\nhave not met the solicitation requirements, we know of no prohibition\\nagainst accepting unsolicited donations from donors in such states who\\napproach us with offers to donate.\\n\\nInternational donations are gratefully accepted, but we cannot make\\nany statements concerning tax treatment of donations received from\\noutside the United States. U.S. laws alone swamp our small staff.\\n\\nPlease check the Project Gutenberg web pages for current donation\\nmethods and addresses. Donations are accepted in a number of other\\nways including checks, online payments and credit card donations. To\\ndonate, please visit: www.gutenberg.org/donate\\n\\nSection 5. General Information About Project Gutenberg-tm electronic works\\n\\nProfessor Michael S. Hart was the originator of the Project\\nGutenberg-tm concept of a library of electronic works that could be\\nfreely shared with anyone. For forty years, he produced and\\ndistributed Project Gutenberg-tm eBooks with only a loose network of\\nvolunteer support.\\n\\nProject Gutenberg-tm eBooks are often created from several printed\\neditions, all of which are confirmed as not protected by copyright in\\nthe U.S. unless a copyright notice is included. Thus, we do not\\nnecessarily keep eBooks in compliance with any particular paper\\nedition.\\n\\nMost people start at our website which has the main PG search\\nfacility: www.gutenberg.org\\n\\nThis website includes information about Project Gutenberg-tm,\\nincluding how to make donations to the Project Gutenberg Literary\\nArchive Foundation, how to help produce our new eBooks, and how to\\nsubscribe to our email newsletter to hear about new eBooks.'"
      ]
     },
     "execution_count": 61,
     "metadata": {},
     "output_type": "execute_result"
    }
   ],
   "source": [
    "filepath_of_text = \"gilman-corpus/gilman_the-yellow-wallpaper.txt\"\n",
    "full_text = open(filepath_of_text, encoding=\"utf-8\").read()\n",
    "full_text"
   ]
  },
  {
   "cell_type": "markdown",
   "id": "4eb0bd7f-acf4-4520-be7a-91c949f4b3ea",
   "metadata": {},
   "source": [
    "Computers follow hierarchical systems of organization. Files contain other subfiles, which contain other subfiles etc. The filepath specifies the pathway through these files to a particular location. \n",
    "\n",
    "Paths can be _relative_ or _absolute_. Absolute filepaths provide the entire path to the current location from the home directory or root directory. Relative filepaths provide the location to the file based on where you are already located, i.e. based on current location or directory from which you are specifying the path. \n",
    "\n",
    "If you see notations such as `../` these are symbols to specify that you move up one folder from your current folder location (e.g. when we moved from \"gilman-corpus\" back to the home directory).\n",
    "\n",
    "Tip: You can find the path to a file by right clicking on it and selecting “copy path”. These may not always be right for your code (it might give you the absolute path when you only need to relative path)."
   ]
  },
  {
   "cell_type": "markdown",
   "id": "639d8fa4-b53f-4354-9d20-421660f5bf7b",
   "metadata": {},
   "source": [
    "<a id='section-16'></a>\n",
    "**Opening and reading files**  \n",
    "\n",
    "In order to analyze text with Python you need to `open` the text in your program. This is done by using the function `open()` and a number of different _modes_ depending on what you want to do with the file (read it to analyze it, write to it, append to it, etc.)."
   ]
  },
  {
   "cell_type": "markdown",
   "id": "84c909fc-cddc-40ba-b635-5fab208dce00",
   "metadata": {},
   "source": [
    "- Reading a file with `.read()`\n",
    "\n",
    "When you `open()` a file using the `open()` function this creates a _file object_. Python is an _object-oriented_ programming language: it is built around entities called _objects_ that contain both data and methods for manipulating the data in the object. Once you create an object you can then manipulate it and interact with it with other objects. However, `open()` simply creates an object from your file, you need to specify in which mode you’re opening it in order to manipulate it accordingly. In our case, we need to `read()` the file object as text.\n",
    "\n",
    "Here are two ways of opening and reading a file. Note how we assign a variable to our open and read file so that we can conveniently refer to the open and read file by the variable name later."
   ]
  },
  {
   "cell_type": "code",
   "execution_count": 66,
   "id": "b7bb220f-d7d4-4be9-8546-01a3b0922843",
   "metadata": {
    "scrolled": true,
    "tags": []
   },
   "outputs": [
    {
     "data": {
      "text/plain": [
       "'The Project Gutenberg eBook of The Yellow Wallpaper, by Charlotte Perkins Gilman\\n\\nThis eBook is for the use of anyone anywhere in the United States and\\nmost other parts of the world at no cost and with almost no restrictions\\nwhatsoever. You may copy it, give it away or re-use it under the terms\\nof the Project Gutenberg License included with this eBook or online at\\nwww.gutenberg.org. If you are not located in the United States, you\\nwill have to check the laws of the country where you are located before\\nusing this eBook.\\n\\nTitle: The Yellow Wallpaper\\n\\nAuthor: Charlotte Perkins Gilman\\n\\nRelease Date: November, 1999 [eBook #1952]\\n[Most recently updated: January 4, 2021]\\n\\nLanguage: English\\n\\nCharacter set encoding: UTF-8\\n\\nProduced by: An Anonymous Volunteer and David Widger\\n\\n*** START OF THE PROJECT GUTENBERG EBOOK THE YELLOW WALLPAPER ***\\n\\n\\n\\n\\nThe Yellow Wallpaper\\n\\nBy Charlotte Perkins Gilman\\n\\n\\nIt is very seldom that mere ordinary people like John and myself secure\\nancestral halls for the summer.\\n\\nA colonial mansion, a hereditary estate, I would say a haunted house,\\nand reach the height of romantic felicity—but that would be asking too\\nmuch of fate!\\n\\nStill I will proudly declare that there is something queer about it.\\n\\nElse, why should it be let so cheaply? And why have stood so long\\nuntenanted?\\n\\nJohn laughs at me, of course, but one expects that in marriage.\\n\\nJohn is practical in the extreme. He has no patience with faith, an\\nintense horror of superstition, and he scoffs openly at any talk of\\nthings not to be felt and seen and put down in figures.\\n\\nJohn is a physician, and perhaps—(I would not say it to a living soul,\\nof course, but this is dead paper and a great relief to my\\nmind)—perhaps that is one reason I do not get well faster.\\n\\nYou see, he does not believe I am sick!\\n\\nAnd what can one do?\\n\\nIf a physician of high standing, and one’s own husband, assures friends\\nand relatives that there is really nothing the matter with one but\\ntemporary nervous depression—a slight hysterical tendency—what is one\\nto do?\\n\\nMy brother is also a physician, and also of high standing, and he says\\nthe same thing.\\n\\nSo I take phosphates or phosphites—whichever it is, and tonics, and\\njourneys, and air, and exercise, and am absolutely forbidden to “work”\\nuntil I am well again.\\n\\nPersonally, I disagree with their ideas.\\n\\nPersonally, I believe that congenial work, with excitement and change,\\nwould do me good.\\n\\nBut what is one to do?\\n\\nI did write for a while in spite of them; but it does exhaust me a good\\ndeal—having to be so sly about it, or else meet with heavy opposition.\\n\\nI sometimes fancy that in my condition if I had less opposition and\\nmore society and stimulus—but John says the very worst thing I can do\\nis to think about my condition, and I confess it always makes me feel\\nbad.\\n\\nSo I will let it alone and talk about the house.\\n\\nThe most beautiful place! It is quite alone, standing well back from\\nthe road, quite three miles from the village. It makes me think of\\nEnglish places that you read about, for there are hedges and walls and\\ngates that lock, and lots of separate little houses for the gardeners\\nand people.\\n\\nThere is a delicious garden! I never saw such a garden—large and shady,\\nfull of box-bordered paths, and lined with long grape-covered arbors\\nwith seats under them.\\n\\nThere were greenhouses, too, but they are all broken now.\\n\\nThere was some legal trouble, I believe, something about the heirs and\\nco-heirs; anyhow, the place has been empty for years.\\n\\nThat spoils my ghostliness, I am afraid; but I don’t care—there is\\nsomething strange about the house—I can feel it.\\n\\nI even said so to John one moonlight evening, but he said what I felt\\nwas a draught, and shut the window.\\n\\nI get unreasonably angry with John sometimes. I’m sure I never used to\\nbe so sensitive. I think it is due to this nervous condition.\\n\\nBut John says if I feel so I shall neglect proper self-control; so I\\ntake pains to control myself,—before him, at least,—and that makes me\\nvery tired.\\n\\nI don’t like our room a bit. I wanted one downstairs that opened on the\\npiazza and had roses all over the window, and such pretty old-fashioned\\nchintz hangings! but John would not hear of it.\\n\\nHe said there was only one window and not room for two beds, and no\\nnear room for him if he took another.\\n\\nHe is very careful and loving, and hardly lets me stir without special\\ndirection.\\n\\nI have a schedule prescription for each hour in the day; he takes all\\ncare from me, and so I feel basely ungrateful not to value it more.\\n\\nHe said we came here solely on my account, that I was to have perfect\\nrest and all the air I could get. “Your exercise depends on your\\nstrength, my dear,” said he, “and your food somewhat on your appetite;\\nbut air you can absorb all the time.” So we took the nursery, at the\\ntop of the house.\\n\\nIt is a big, airy room, the whole floor nearly, with windows that look\\nall ways, and air and sunshine galore. It was nursery first and then\\nplayground and gymnasium, I should judge; for the windows are barred\\nfor little children, and there are rings and things in the walls.\\n\\nThe paint and paper look as if a boys’ school had used it. It is\\nstripped off—the paper—in great patches all around the head of my bed,\\nabout as far as I can reach, and in a great place on the other side of\\nthe room low down. I never saw a worse paper in my life.\\n\\nOne of those sprawling flamboyant patterns committing every artistic\\nsin.\\n\\nIt is dull enough to confuse the eye in following, pronounced enough to\\nconstantly irritate, and provoke study, and when you follow the lame,\\nuncertain curves for a little distance they suddenly commit\\nsuicide—plunge off at outrageous angles, destroy themselves in\\nunheard-of contradictions.\\n\\nThe color is repellant, almost revolting; a smouldering, unclean\\nyellow, strangely faded by the slow-turning sunlight.\\n\\nIt is a dull yet lurid orange in some places, a sickly sulphur tint in\\nothers.\\n\\nNo wonder the children hated it! I should hate it myself if I had to\\nlive in this room long.\\n\\nThere comes John, and I must put this away,—he hates to have me write a\\nword.\\n\\nWe have been here two weeks, and I haven’t felt like writing before,\\nsince that first day.\\n\\nI am sitting by the window now, up in this atrocious nursery, and there\\nis nothing to hinder my writing as much as I please, save lack of\\nstrength.\\n\\nJohn is away all day, and even some nights when his cases are serious.\\n\\nI am glad my case is not serious!\\n\\nBut these nervous troubles are dreadfully depressing.\\n\\nJohn does not know how much I really suffer. He knows there is no\\nreason to suffer, and that satisfies him.\\n\\nOf course it is only nervousness. It does weigh on me so not to do my\\nduty in any way!\\n\\nI meant to be such a help to John, such a real rest and comfort, and\\nhere I am a comparative burden already!\\n\\nNobody would believe what an effort it is to do what little I am\\nable—to dress and entertain, and order things.\\n\\nIt is fortunate Mary is so good with the baby. Such a dear baby!\\n\\nAnd yet I cannot be with him, it makes me so nervous.\\n\\nI suppose John never was nervous in his life. He laughs at me so about\\nthis wallpaper!\\n\\nAt first he meant to repaper the room, but afterwards he said that I\\nwas letting it get the better of me, and that nothing was worse for a\\nnervous patient than to give way to such fancies.\\n\\nHe said that after the wallpaper was changed it would be the heavy\\nbedstead, and then the barred windows, and then that gate at the head\\nof the stairs, and so on.\\n\\n“You know the place is doing you good,” he said, “and really, dear, I\\ndon’t care to renovate the house just for a three months’ rental.”\\n\\n“Then do let us go downstairs,” I said, “there are such pretty rooms\\nthere.”\\n\\nThen he took me in his arms and called me a blessed little goose, and\\nsaid he would go down cellar if I wished, and have it whitewashed into\\nthe bargain.\\n\\nBut he is right enough about the beds and windows and things.\\n\\nIt is as airy and comfortable a room as any one need wish, and, of\\ncourse, I would not be so silly as to make him uncomfortable just for a\\nwhim.\\n\\nI’m really getting quite fond of the big room, all but that horrid\\npaper.\\n\\nOut of one window I can see the garden, those mysterious deep-shaded\\narbors, the riotous old-fashioned flowers, and bushes and gnarly trees.\\n\\nOut of another I get a lovely view of the bay and a little private\\nwharf belonging to the estate. There is a beautiful shaded lane that\\nruns down there from the house. I always fancy I see people walking in\\nthese numerous paths and arbors, but John has cautioned me not to give\\nway to fancy in the least. He says that with my imaginative power and\\nhabit of story-making a nervous weakness like mine is sure to lead to\\nall manner of excited fancies, and that I ought to use my will and good\\nsense to check the tendency. So I try.\\n\\nI think sometimes that if I were only well enough to write a little it\\nwould relieve the press of ideas and rest me.\\n\\nBut I find I get pretty tired when I try.\\n\\nIt is so discouraging not to have any advice and companionship about my\\nwork. When I get really well John says we will ask Cousin Henry and\\nJulia down for a long visit; but he says he would as soon put\\nfire-works in my pillow-case as to let me have those stimulating people\\nabout now.\\n\\nI wish I could get well faster.\\n\\nBut I must not think about that. This paper looks to me as if it knew\\nwhat a vicious influence it had!\\n\\nThere is a recurrent spot where the pattern lolls like a broken neck\\nand two bulbous eyes stare at you upside-down.\\n\\nI get positively angry with the impertinence of it and the\\neverlastingness. Up and down and sideways they crawl, and those absurd,\\nunblinking eyes are everywhere. There is one place where two breadths\\ndidn’t match, and the eyes go all up and down the line, one a little\\nhigher than the other.\\n\\nI never saw so much expression in an inanimate thing before, and we all\\nknow how much expression they have! I used to lie awake as a child and\\nget more entertainment and terror out of blank walls and plain\\nfurniture than most children could find in a toy-store.\\n\\nI remember what a kindly wink the knobs of our big old bureau used to\\nhave, and there was one chair that always seemed like a strong friend.\\n\\nI used to feel that if any of the other things looked too fierce I\\ncould always hop into that chair and be safe.\\n\\nThe furniture in this room is no worse than inharmonious, however, for\\nwe had to bring it all from downstairs. I suppose when this was used as\\na playroom they had to take the nursery things out, and no wonder! I\\nnever saw such ravages as the children have made here.\\n\\nThe wallpaper, as I said before, is torn off in spots, and it sticketh\\ncloser than a brother—they must have had perseverance as well as\\nhatred.\\n\\nThen the floor is scratched and gouged and splintered, the plaster\\nitself is dug out here and there, and this great heavy bed, which is\\nall we found in the room, looks as if it had been through the wars.\\n\\nBut I don’t mind it a bit—only the paper.\\n\\nThere comes John’s sister. Such a dear girl as she is, and so careful\\nof me! I must not let her find me writing.\\n\\nShe is a perfect, and enthusiastic housekeeper, and hopes for no better\\nprofession. I verily believe she thinks it is the writing which made me\\nsick!\\n\\nBut I can write when she is out, and see her a long way off from these\\nwindows.\\n\\nThere is one that commands the road, a lovely, shaded, winding road,\\nand one that just looks off over the country. A lovely country, too,\\nfull of great elms and velvet meadows.\\n\\nThis wallpaper has a kind of sub-pattern in a different shade, a\\nparticularly irritating one, for you can only see it in certain lights,\\nand not clearly then.\\n\\nBut in the places where it isn’t faded, and where the sun is just so, I\\ncan see a strange, provoking, formless sort of figure, that seems to\\nsulk about behind that silly and conspicuous front design.\\n\\nThere’s sister on the stairs!\\n\\nWell, the Fourth of July is over! The people are gone and I am tired\\nout. John thought it might do me good to see a little company, so we\\njust had mother and Nellie and the children down for a week.\\n\\nOf course I didn’t do a thing. Jennie sees to everything now.\\n\\nBut it tired me all the same.\\n\\nJohn says if I don’t pick up faster he shall send me to Weir Mitchell\\nin the fall.\\n\\nBut I don’t want to go there at all. I had a friend who was in his\\nhands once, and she says he is just like John and my brother, only more\\nso!\\n\\nBesides, it is such an undertaking to go so far.\\n\\nI don’t feel as if it was worth while to turn my hand over for\\nanything, and I’m getting dreadfully fretful and querulous.\\n\\nI cry at nothing, and cry most of the time.\\n\\nOf course I don’t when John is here, or anybody else, but when I am\\nalone.\\n\\nAnd I am alone a good deal just now. John is kept in town very often by\\nserious cases, and Jennie is good and lets me alone when I want her to.\\n\\nSo I walk a little in the garden or down that lovely lane, sit on the\\nporch under the roses, and lie down up here a good deal.\\n\\nI’m getting really fond of the room in spite of the wallpaper. Perhaps\\nbecause of the wallpaper.\\n\\nIt dwells in my mind so!\\n\\nI lie here on this great immovable bed—it is nailed down, I believe—and\\nfollow that pattern about by the hour. It is as good as gymnastics, I\\nassure you. I start, we’ll say, at the bottom, down in the corner over\\nthere where it has not been touched, and I determine for the thousandth\\ntime that I will follow that pointless pattern to some sort of a\\nconclusion.\\n\\nI know a little of the principle of design, and I know this thing was\\nnot arranged on any laws of radiation, or alternation, or repetition,\\nor symmetry, or anything else that I ever heard of.\\n\\nIt is repeated, of course, by the breadths, but not otherwise.\\n\\nLooked at in one way each breadth stands alone, the bloated curves and\\nflourishes—a kind of “debased Romanesque” with delirium tremens—go\\nwaddling up and down in isolated columns of fatuity.\\n\\nBut, on the other hand, they connect diagonally, and the sprawling\\noutlines run off in great slanting waves of optic horror, like a lot of\\nwallowing seaweeds in full chase.\\n\\nThe whole thing goes horizontally, too, at least it seems so, and I\\nexhaust myself in trying to distinguish the order of its going in that\\ndirection.\\n\\nThey have used a horizontal breadth for a frieze, and that adds\\nwonderfully to the confusion.\\n\\nThere is one end of the room where it is almost intact, and there, when\\nthe cross-lights fade and the low sun shines directly upon it, I can\\nalmost fancy radiation after all,—the interminable grotesques seem to\\nform around a common centre and rush off in headlong plunges of equal\\ndistraction.\\n\\nIt makes me tired to follow it. I will take a nap, I guess.\\n\\nI don’t know why I should write this.\\n\\nI don’t want to.\\n\\nI don’t feel able.\\n\\nAnd I know John would think it absurd. But I must say what I feel and\\nthink in some way—it is such a relief!\\n\\nBut the effort is getting to be greater than the relief.\\n\\nHalf the time now I am awfully lazy, and lie down ever so much.\\n\\nJohn says I musn’t lose my strength, and has me take cod-liver oil and\\nlots of tonics and things, to say nothing of ale and wine and rare\\nmeat.\\n\\nDear John! He loves me very dearly, and hates to have me sick. I tried\\nto have a real earnest reasonable talk with him the other day, and tell\\nhim how I wish he would let me go and make a visit to Cousin Henry and\\nJulia.\\n\\nBut he said I wasn’t able to go, nor able to stand it after I got\\nthere; and I did not make out a very good case for myself, for I was\\ncrying before I had finished.\\n\\nIt is getting to be a great effort for me to think straight. Just this\\nnervous weakness, I suppose.\\n\\nAnd dear John gathered me up in his arms, and just carried me upstairs\\nand laid me on the bed, and sat by me and read to me till it tired my\\nhead.\\n\\nHe said I was his darling and his comfort and all he had, and that I\\nmust take care of myself for his sake, and keep well.\\n\\nHe says no one but myself can help me out of it, that I must use my\\nwill and self-control and not let any silly fancies run away with me.\\n\\nThere’s one comfort, the baby is well and happy, and does not have to\\noccupy this nursery with the horrid wallpaper.\\n\\nIf we had not used it that blessed child would have! What a fortunate\\nescape! Why, I wouldn’t have a child of mine, an impressionable little\\nthing, live in such a room for worlds.\\n\\nI never thought of it before, but it is lucky that John kept me here\\nafter all. I can stand it so much easier than a baby, you see.\\n\\nOf course I never mention it to them any more,—I am too wise,—but I\\nkeep watch of it all the same.\\n\\nThere are things in that paper that nobody knows but me, or ever will.\\n\\nBehind that outside pattern the dim shapes get clearer every day.\\n\\nIt is always the same shape, only very numerous.\\n\\nAnd it is like a woman stooping down and creeping about behind that\\npattern. I don’t like it a bit. I wonder—I begin to think—I wish John\\nwould take me away from here!\\n\\nIt is so hard to talk with John about my case, because he is so wise,\\nand because he loves me so.\\n\\nBut I tried it last night.\\n\\nIt was moonlight. The moon shines in all around, just as the sun does.\\n\\nI hate to see it sometimes, it creeps so slowly, and always comes in by\\none window or another.\\n\\nJohn was asleep and I hated to waken him, so I kept still and watched\\nthe moonlight on that undulating wallpaper till I felt creepy.\\n\\nThe faint figure behind seemed to shake the pattern, just as if she\\nwanted to get out.\\n\\nI got up softly and went to feel and see if the paper did move, and\\nwhen I came back John was awake.\\n\\n“What is it, little girl?” he said. “Don’t go walking about like\\nthat—you’ll get cold.”\\n\\nI thought it was a good time to talk, so I told him that I really was\\nnot gaining here, and that I wished he would take me away.\\n\\n“Why darling!” said he, “our lease will be up in three weeks, and I\\ncan’t see how to leave before.\\n\\n“The repairs are not done at home, and I cannot possibly leave town\\njust now. Of course if you were in any danger I could and would, but\\nyou really are better, dear, whether you can see it or not. I am a\\ndoctor, dear, and I know. You are gaining flesh and color, your\\nappetite is better. I feel really much easier about you.”\\n\\n“I don’t weigh a bit more,” said I, “nor as much; and my appetite may\\nbe better in the evening, when you are here, but it is worse in the\\nmorning when you are away.”\\n\\n“Bless her little heart!” said he with a big hug; “she shall be as sick\\nas she pleases! But now let’s improve the shining hours by going to\\nsleep, and talk about it in the morning!”\\n\\n“And you won’t go away?” I asked gloomily.\\n\\n“Why, how can I, dear? It is only three weeks more and then we will\\ntake a nice little trip of a few days while Jennie is getting the house\\nready. Really, dear, you are better!”\\n\\n“Better in body perhaps”—I began, and stopped short, for he sat up\\nstraight and looked at me with such a stern, reproachful look that I\\ncould not say another word.\\n\\n“My darling,” said he, “I beg of you, for my sake and for our child’s\\nsake, as well as for your own, that you will never for one instant let\\nthat idea enter your mind! There is nothing so dangerous, so\\nfascinating, to a temperament like yours. It is a false and foolish\\nfancy. Can you not trust me as a physician when I tell you so?”\\n\\nSo of course I said no more on that score, and we went to sleep before\\nlong. He thought I was asleep first, but I wasn’t,—I lay there for\\nhours trying to decide whether that front pattern and the back pattern\\nreally did move together or separately.\\n\\nOn a pattern like this, by daylight, there is a lack of sequence, a\\ndefiance of law, that is a constant irritant to a normal mind.\\n\\nThe color is hideous enough, and unreliable enough, and infuriating\\nenough, but the pattern is torturing.\\n\\nYou think you have mastered it, but just as you get well under way in\\nfollowing, it turns a back somersault and there you are. It slaps you\\nin the face, knocks you down, and tramples upon you. It is like a bad\\ndream.\\n\\nThe outside pattern is a florid arabesque, reminding one of a fungus.\\nIf you can imagine a toadstool in joints, an interminable string of\\ntoadstools, budding and sprouting in endless convolutions,—why, that is\\nsomething like it.\\n\\nThat is, sometimes!\\n\\nThere is one marked peculiarity about this paper, a thing nobody seems\\nto notice but myself, and that is that it changes as the light changes.\\n\\nWhen the sun shoots in through the east window—I always watch for that\\nfirst long, straight ray—it changes so quickly that I never can quite\\nbelieve it.\\n\\nThat is why I watch it always.\\n\\nBy moonlight—the moon shines in all night when there is a moon—I\\nwouldn’t know it was the same paper.\\n\\nAt night in any kind of light, in twilight, candlelight, lamplight, and\\nworst of all by moonlight, it becomes bars! The outside pattern I mean,\\nand the woman behind it is as plain as can be.\\n\\nI didn’t realize for a long time what the thing was that showed\\nbehind,—that dim sub-pattern,—but now I am quite sure it is a woman.\\n\\nBy daylight she is subdued, quiet. I fancy it is the pattern that keeps\\nher so still. It is so puzzling. It keeps me quiet by the hour.\\n\\nI lie down ever so much now. John says it is good for me, and to sleep\\nall I can.\\n\\nIndeed, he started the habit by making me lie down for an hour after\\neach meal.\\n\\nIt is a very bad habit, I am convinced, for, you see, I don’t sleep.\\n\\nAnd that cultivates deceit, for I don’t tell them I’m awake,—oh, no!\\n\\nThe fact is, I am getting a little afraid of John.\\n\\nHe seems very queer sometimes, and even Jennie has an inexplicable\\nlook.\\n\\nIt strikes me occasionally, just as a scientific hypothesis, that\\nperhaps it is the paper!\\n\\nI have watched John when he did not know I was looking, and come into\\nthe room suddenly on the most innocent excuses, and I’ve caught him\\nseveral times looking at the paper! And Jennie too. I caught Jennie\\nwith her hand on it once.\\n\\nShe didn’t know I was in the room, and when I asked her in a quiet, a\\nvery quiet voice, with the most restrained manner possible, what she\\nwas doing with the paper she turned around as if she had been caught\\nstealing, and looked quite angry—asked me why I should frighten her so!\\n\\nThen she said that the paper stained everything it touched, that she\\nhad found yellow smooches on all my clothes and John’s, and she wished\\nwe would be more careful!\\n\\nDid not that sound innocent? But I know she was studying that pattern,\\nand I am determined that nobody shall find it out but myself!\\n\\nLife is very much more exciting now than it used to be. You see I have\\nsomething more to expect, to look forward to, to watch. I really do eat\\nbetter, and am more quiet than I was.\\n\\nJohn is so pleased to see me improve! He laughed a little the other\\nday, and said I seemed to be flourishing in spite of my wallpaper.\\n\\nI turned it off with a laugh. I had no intention of telling him it was\\nbecause of the wallpaper—he would make fun of me. He might even want to\\ntake me away.\\n\\nI don’t want to leave now until I have found it out. There is a week\\nmore, and I think that will be enough.\\n\\nI’m feeling ever so much better! I don’t sleep much at night, for it is\\nso interesting to watch developments; but I sleep a good deal in the\\ndaytime.\\n\\nIn the daytime it is tiresome and perplexing.\\n\\nThere are always new shoots on the fungus, and new shades of yellow all\\nover it. I cannot keep count of them, though I have tried\\nconscientiously.\\n\\nIt is the strangest yellow, that wallpaper! It makes me think of all\\nthe yellow things I ever saw—not beautiful ones like buttercups, but\\nold foul, bad yellow things.\\n\\nBut there is something else about that paper—the smell! I noticed it\\nthe moment we came into the room, but with so much air and sun it was\\nnot bad. Now we have had a week of fog and rain, and whether the\\nwindows are open or not, the smell is here.\\n\\nIt creeps all over the house.\\n\\nI find it hovering in the dining-room, skulking in the parlor, hiding\\nin the hall, lying in wait for me on the stairs.\\n\\nIt gets into my hair.\\n\\nEven when I go to ride, if I turn my head suddenly and surprise\\nit—there is that smell!\\n\\nSuch a peculiar odor, too! I have spent hours in trying to analyze it,\\nto find what it smelled like.\\n\\nIt is not bad—at first, and very gentle, but quite the subtlest, most\\nenduring odor I ever met.\\n\\nIn this damp weather it is awful. I wake up in the night and find it\\nhanging over me.\\n\\nIt used to disturb me at first. I thought seriously of burning the\\nhouse—to reach the smell.\\n\\nBut now I am used to it. The only thing I can think of that it is like\\nis the color of the paper! A yellow smell.\\n\\nThere is a very funny mark on this wall, low down, near the mopboard. A\\nstreak that runs round the room. It goes behind every piece of\\nfurniture, except the bed, a long, straight, even smooch, as if it had\\nbeen rubbed over and over.\\n\\nI wonder how it was done and who did it, and what they did it for.\\nRound and round and round—round and round and round—it makes me dizzy!\\n\\nI really have discovered something at last.\\n\\nThrough watching so much at night, when it changes so, I have finally\\nfound out.\\n\\nThe front pattern does move—and no wonder! The woman behind shakes it!\\n\\nSometimes I think there are a great many women behind, and sometimes\\nonly one, and she crawls around fast, and her crawling shakes it all\\nover.\\n\\nThen in the very bright spots she keeps still, and in the very shady\\nspots she just takes hold of the bars and shakes them hard.\\n\\nAnd she is all the time trying to climb through. But nobody could climb\\nthrough that pattern—it strangles so; I think that is why it has so\\nmany heads.\\n\\nThey get through, and then the pattern strangles them off and turns\\nthem upside-down, and makes their eyes white!\\n\\nIf those heads were covered or taken off it would not be half so bad.\\n\\nI think that woman gets out in the daytime!\\n\\nAnd I’ll tell you why—privately—I’ve seen her!\\n\\nI can see her out of every one of my windows!\\n\\nIt is the same woman, I know, for she is always creeping, and most\\nwomen do not creep by daylight.\\n\\nI see her on that long shaded lane, creeping up and down. I see her in\\nthose dark grape arbors, creeping all around the garden.\\n\\nI see her on that long road under the trees, creeping along, and when a\\ncarriage comes she hides under the blackberry vines.\\n\\nI don’t blame her a bit. It must be very humiliating to be caught\\ncreeping by daylight!\\n\\nI always lock the door when I creep by daylight. I can’t do it at\\nnight, for I know John would suspect something at once.\\n\\nAnd John is so queer now, that I don’t want to irritate him. I wish he\\nwould take another room! Besides, I don’t want anybody to get that\\nwoman out at night but myself.\\n\\nI often wonder if I could see her out of all the windows at once.\\n\\nBut, turn as fast as I can, I can only see out of one at one time.\\n\\nAnd though I always see her she may be able to creep faster than I can\\nturn!\\n\\nI have watched her sometimes away off in the open country, creeping as\\nfast as a cloud shadow in a high wind.\\n\\nIf only that top pattern could be gotten off from the under one! I mean\\nto try it, little by little.\\n\\nI have found out another funny thing, but I shan’t tell it this time!\\nIt does not do to trust people too much.\\n\\nThere are only two more days to get this paper off, and I believe John\\nis beginning to notice. I don’t like the look in his eyes.\\n\\nAnd I heard him ask Jennie a lot of professional questions about me.\\nShe had a very good report to give.\\n\\nShe said I slept a good deal in the daytime.\\n\\nJohn knows I don’t sleep very well at night, for all I’m so quiet!\\n\\nHe asked me all sorts of questions, too, and pretended to be very\\nloving and kind.\\n\\nAs if I couldn’t see through him!\\n\\nStill, I don’t wonder he acts so, sleeping under this paper for three\\nmonths.\\n\\nIt only interests me, but I feel sure John and Jennie are secretly\\naffected by it.\\n\\nHurrah! This is the last day, but it is enough. John is to stay in town\\nover night, and won’t be out until this evening.\\n\\nJennie wanted to sleep with me—the sly thing! but I told her I should\\nundoubtedly rest better for a night all alone.\\n\\nThat was clever, for really I wasn’t alone a bit! As soon as it was\\nmoonlight, and that poor thing began to crawl and shake the pattern, I\\ngot up and ran to help her.\\n\\nI pulled and she shook, I shook and she pulled, and before morning we\\nhad peeled off yards of that paper.\\n\\nA strip about as high as my head and half around the room.\\n\\nAnd then when the sun came and that awful pattern began to laugh at me\\nI declared I would finish it to-day!\\n\\nWe go away to-morrow, and they are moving all my furniture down again\\nto leave things as they were before.\\n\\nJennie looked at the wall in amazement, but I told her merrily that I\\ndid it out of pure spite at the vicious thing.\\n\\nShe laughed and said she wouldn’t mind doing it herself, but I must not\\nget tired.\\n\\nHow she betrayed herself that time!\\n\\nBut I am here, and no person touches this paper but me—not alive!\\n\\nShe tried to get me out of the room—it was too patent! But I said it\\nwas so quiet and empty and clean now that I believed I would lie down\\nagain and sleep all I could; and not to wake me even for dinner—I would\\ncall when I woke.\\n\\nSo now she is gone, and the servants are gone, and the things are gone,\\nand there is nothing left but that great bedstead nailed down, with the\\ncanvas mattress we found on it.\\n\\nWe shall sleep downstairs to-night, and take the boat home to-morrow.\\n\\nI quite enjoy the room, now it is bare again.\\n\\nHow those children did tear about here!\\n\\nThis bedstead is fairly gnawed!\\n\\nBut I must get to work.\\n\\nI have locked the door and thrown the key down into the front path.\\n\\nI don’t want to go out, and I don’t want to have anybody come in, till\\nJohn comes.\\n\\nI want to astonish him.\\n\\nI’ve got a rope up here that even Jennie did not find. If that woman\\ndoes get out, and tries to get away, I can tie her!\\n\\nBut I forgot I could not reach far without anything to stand on!\\n\\nThis bed will not move!\\n\\nI tried to lift and push it until I was lame, and then I got so angry I\\nbit off a little piece at one corner—but it hurt my teeth.\\n\\nThen I peeled off all the paper I could reach standing on the floor. It\\nsticks horribly and the pattern just enjoys it! All those strangled\\nheads and bulbous eyes and waddling fungus growths just shriek with\\nderision!\\n\\nI am getting angry enough to do something desperate. To jump out of the\\nwindow would be admirable exercise, but the bars are too strong even to\\ntry.\\n\\nBesides I wouldn’t do it. Of course not. I know well enough that a step\\nlike that is improper and might be misconstrued.\\n\\nI don’t like to look out of the windows even—there are so many of those\\ncreeping women, and they creep so fast.\\n\\nI wonder if they all come out of that wallpaper as I did?\\n\\nBut I am securely fastened now by my well-hidden rope—you don’t get me\\nout in the road there!\\n\\nI suppose I shall have to get back behind the pattern when it comes\\nnight, and that is hard!\\n\\nIt is so pleasant to be out in this great room and creep around as I\\nplease!\\n\\nI don’t want to go outside. I won’t, even if Jennie asks me to.\\n\\nFor outside you have to creep on the ground, and everything is green\\ninstead of yellow.\\n\\nBut here I can creep smoothly on the floor, and my shoulder just fits\\nin that long smooch around the wall, so I cannot lose my way.\\n\\nWhy, there’s John at the door!\\n\\nIt is no use, young man, you can’t open it!\\n\\nHow he does call and pound!\\n\\nNow he’s crying for an axe.\\n\\nIt would be a shame to break down that beautiful door!\\n\\n“John dear!” said I in the gentlest voice, “the key is down by the\\nfront steps, under a plantain leaf!”\\n\\nThat silenced him for a few moments.\\n\\nThen he said—very quietly indeed, “Open the door, my darling!”\\n\\n“I can’t,” said I. “The key is down by the front door under a plantain\\nleaf!”\\n\\nAnd then I said it again, several times, very gently and slowly, and\\nsaid it so often that he had to go and see, and he got it, of course,\\nand came in. He stopped short by the door.\\n\\n“What is the matter?” he cried. “For God’s sake, what are you doing!”\\n\\nI kept on creeping just the same, but I looked at him over my shoulder.\\n\\n“I’ve got out at last,” said I, “in spite of you and Jane! And I’ve\\npulled off most of the paper, so you can’t put me back!”\\n\\nNow why should that man have fainted? But he did, and right across my\\npath by the wall, so that I had to creep over him every time!\\n\\n\\n\\n\\n*** END OF THE PROJECT GUTENBERG EBOOK THE YELLOW WALLPAPER ***\\n\\n***** This file should be named 1952-0.txt or 1952-0.zip *****\\nThis and all associated files of various formats will be found in:\\n    https://www.gutenberg.org/1/9/5/1952/\\n\\nUpdated editions will replace the previous one--the old editions will\\nbe renamed.\\n\\nCreating the works from print editions not protected by U.S. copyright\\nlaw means that no one owns a United States copyright in these works,\\nso the Foundation (and you!) can copy and distribute it in the\\nUnited States without permission and without paying copyright\\nroyalties. Special rules, set forth in the General Terms of Use part\\nof this license, apply to copying and distributing Project\\nGutenberg-tm electronic works to protect the PROJECT GUTENBERG-tm\\nconcept and trademark. Project Gutenberg is a registered trademark,\\nand may not be used if you charge for an eBook, except by following\\nthe terms of the trademark license, including paying royalties for use\\nof the Project Gutenberg trademark. If you do not charge anything for\\ncopies of this eBook, complying with the trademark license is very\\neasy. You may use this eBook for nearly any purpose such as creation\\nof derivative works, reports, performances and research. Project\\nGutenberg eBooks may be modified and printed and given away--you may\\ndo practically ANYTHING in the United States with eBooks not protected\\nby U.S. copyright law. Redistribution is subject to the trademark\\nlicense, especially commercial redistribution.\\n\\nSTART: FULL LICENSE\\n\\nTHE FULL PROJECT GUTENBERG LICENSE\\nPLEASE READ THIS BEFORE YOU DISTRIBUTE OR USE THIS WORK\\n\\nTo protect the Project Gutenberg-tm mission of promoting the free\\ndistribution of electronic works, by using or distributing this work\\n(or any other work associated in any way with the phrase \"Project\\nGutenberg\"), you agree to comply with all the terms of the Full\\nProject Gutenberg-tm License available with this file or online at\\nwww.gutenberg.org/license.\\n\\nSection 1. General Terms of Use and Redistributing Project\\nGutenberg-tm electronic works\\n\\n1.A. By reading or using any part of this Project Gutenberg-tm\\nelectronic work, you indicate that you have read, understand, agree to\\nand accept all the terms of this license and intellectual property\\n(trademark/copyright) agreement. If you do not agree to abide by all\\nthe terms of this agreement, you must cease using and return or\\ndestroy all copies of Project Gutenberg-tm electronic works in your\\npossession. If you paid a fee for obtaining a copy of or access to a\\nProject Gutenberg-tm electronic work and you do not agree to be bound\\nby the terms of this agreement, you may obtain a refund from the\\nperson or entity to whom you paid the fee as set forth in paragraph\\n1.E.8.\\n\\n1.B. \"Project Gutenberg\" is a registered trademark. It may only be\\nused on or associated in any way with an electronic work by people who\\nagree to be bound by the terms of this agreement. There are a few\\nthings that you can do with most Project Gutenberg-tm electronic works\\neven without complying with the full terms of this agreement. See\\nparagraph 1.C below. There are a lot of things you can do with Project\\nGutenberg-tm electronic works if you follow the terms of this\\nagreement and help preserve free future access to Project Gutenberg-tm\\nelectronic works. See paragraph 1.E below.\\n\\n1.C. The Project Gutenberg Literary Archive Foundation (\"the\\nFoundation\" or PGLAF), owns a compilation copyright in the collection\\nof Project Gutenberg-tm electronic works. Nearly all the individual\\nworks in the collection are in the public domain in the United\\nStates. If an individual work is unprotected by copyright law in the\\nUnited States and you are located in the United States, we do not\\nclaim a right to prevent you from copying, distributing, performing,\\ndisplaying or creating derivative works based on the work as long as\\nall references to Project Gutenberg are removed. Of course, we hope\\nthat you will support the Project Gutenberg-tm mission of promoting\\nfree access to electronic works by freely sharing Project Gutenberg-tm\\nworks in compliance with the terms of this agreement for keeping the\\nProject Gutenberg-tm name associated with the work. You can easily\\ncomply with the terms of this agreement by keeping this work in the\\nsame format with its attached full Project Gutenberg-tm License when\\nyou share it without charge with others.\\n\\n1.D. The copyright laws of the place where you are located also govern\\nwhat you can do with this work. Copyright laws in most countries are\\nin a constant state of change. If you are outside the United States,\\ncheck the laws of your country in addition to the terms of this\\nagreement before downloading, copying, displaying, performing,\\ndistributing or creating derivative works based on this work or any\\nother Project Gutenberg-tm work. The Foundation makes no\\nrepresentations concerning the copyright status of any work in any\\ncountry other than the United States.\\n\\n1.E. Unless you have removed all references to Project Gutenberg:\\n\\n1.E.1. The following sentence, with active links to, or other\\nimmediate access to, the full Project Gutenberg-tm License must appear\\nprominently whenever any copy of a Project Gutenberg-tm work (any work\\non which the phrase \"Project Gutenberg\" appears, or with which the\\nphrase \"Project Gutenberg\" is associated) is accessed, displayed,\\nperformed, viewed, copied or distributed:\\n\\n  This eBook is for the use of anyone anywhere in the United States and\\n  most other parts of the world at no cost and with almost no\\n  restrictions whatsoever. You may copy it, give it away or re-use it\\n  under the terms of the Project Gutenberg License included with this\\n  eBook or online at www.gutenberg.org. If you are not located in the\\n  United States, you will have to check the laws of the country where\\n  you are located before using this eBook.\\n\\n1.E.2. If an individual Project Gutenberg-tm electronic work is\\nderived from texts not protected by U.S. copyright law (does not\\ncontain a notice indicating that it is posted with permission of the\\ncopyright holder), the work can be copied and distributed to anyone in\\nthe United States without paying any fees or charges. If you are\\nredistributing or providing access to a work with the phrase \"Project\\nGutenberg\" associated with or appearing on the work, you must comply\\neither with the requirements of paragraphs 1.E.1 through 1.E.7 or\\nobtain permission for the use of the work and the Project Gutenberg-tm\\ntrademark as set forth in paragraphs 1.E.8 or 1.E.9.\\n\\n1.E.3. If an individual Project Gutenberg-tm electronic work is posted\\nwith the permission of the copyright holder, your use and distribution\\nmust comply with both paragraphs 1.E.1 through 1.E.7 and any\\nadditional terms imposed by the copyright holder. Additional terms\\nwill be linked to the Project Gutenberg-tm License for all works\\nposted with the permission of the copyright holder found at the\\nbeginning of this work.\\n\\n1.E.4. Do not unlink or detach or remove the full Project Gutenberg-tm\\nLicense terms from this work, or any files containing a part of this\\nwork or any other work associated with Project Gutenberg-tm.\\n\\n1.E.5. Do not copy, display, perform, distribute or redistribute this\\nelectronic work, or any part of this electronic work, without\\nprominently displaying the sentence set forth in paragraph 1.E.1 with\\nactive links or immediate access to the full terms of the Project\\nGutenberg-tm License.\\n\\n1.E.6. You may convert to and distribute this work in any binary,\\ncompressed, marked up, nonproprietary or proprietary form, including\\nany word processing or hypertext form. However, if you provide access\\nto or distribute copies of a Project Gutenberg-tm work in a format\\nother than \"Plain Vanilla ASCII\" or other format used in the official\\nversion posted on the official Project Gutenberg-tm website\\n(www.gutenberg.org), you must, at no additional cost, fee or expense\\nto the user, provide a copy, a means of exporting a copy, or a means\\nof obtaining a copy upon request, of the work in its original \"Plain\\nVanilla ASCII\" or other form. Any alternate format must include the\\nfull Project Gutenberg-tm License as specified in paragraph 1.E.1.\\n\\n1.E.7. Do not charge a fee for access to, viewing, displaying,\\nperforming, copying or distributing any Project Gutenberg-tm works\\nunless you comply with paragraph 1.E.8 or 1.E.9.\\n\\n1.E.8. You may charge a reasonable fee for copies of or providing\\naccess to or distributing Project Gutenberg-tm electronic works\\nprovided that:\\n\\n* You pay a royalty fee of 20% of the gross profits you derive from\\n  the use of Project Gutenberg-tm works calculated using the method\\n  you already use to calculate your applicable taxes. The fee is owed\\n  to the owner of the Project Gutenberg-tm trademark, but he has\\n  agreed to donate royalties under this paragraph to the Project\\n  Gutenberg Literary Archive Foundation. Royalty payments must be paid\\n  within 60 days following each date on which you prepare (or are\\n  legally required to prepare) your periodic tax returns. Royalty\\n  payments should be clearly marked as such and sent to the Project\\n  Gutenberg Literary Archive Foundation at the address specified in\\n  Section 4, \"Information about donations to the Project Gutenberg\\n  Literary Archive Foundation.\"\\n\\n* You provide a full refund of any money paid by a user who notifies\\n  you in writing (or by e-mail) within 30 days of receipt that s/he\\n  does not agree to the terms of the full Project Gutenberg-tm\\n  License. You must require such a user to return or destroy all\\n  copies of the works possessed in a physical medium and discontinue\\n  all use of and all access to other copies of Project Gutenberg-tm\\n  works.\\n\\n* You provide, in accordance with paragraph 1.F.3, a full refund of\\n  any money paid for a work or a replacement copy, if a defect in the\\n  electronic work is discovered and reported to you within 90 days of\\n  receipt of the work.\\n\\n* You comply with all other terms of this agreement for free\\n  distribution of Project Gutenberg-tm works.\\n\\n1.E.9. If you wish to charge a fee or distribute a Project\\nGutenberg-tm electronic work or group of works on different terms than\\nare set forth in this agreement, you must obtain permission in writing\\nfrom the Project Gutenberg Literary Archive Foundation, the manager of\\nthe Project Gutenberg-tm trademark. Contact the Foundation as set\\nforth in Section 3 below.\\n\\n1.F.\\n\\n1.F.1. Project Gutenberg volunteers and employees expend considerable\\neffort to identify, do copyright research on, transcribe and proofread\\nworks not protected by U.S. copyright law in creating the Project\\nGutenberg-tm collection. Despite these efforts, Project Gutenberg-tm\\nelectronic works, and the medium on which they may be stored, may\\ncontain \"Defects,\" such as, but not limited to, incomplete, inaccurate\\nor corrupt data, transcription errors, a copyright or other\\nintellectual property infringement, a defective or damaged disk or\\nother medium, a computer virus, or computer codes that damage or\\ncannot be read by your equipment.\\n\\n1.F.2. LIMITED WARRANTY, DISCLAIMER OF DAMAGES - Except for the \"Right\\nof Replacement or Refund\" described in paragraph 1.F.3, the Project\\nGutenberg Literary Archive Foundation, the owner of the Project\\nGutenberg-tm trademark, and any other party distributing a Project\\nGutenberg-tm electronic work under this agreement, disclaim all\\nliability to you for damages, costs and expenses, including legal\\nfees. YOU AGREE THAT YOU HAVE NO REMEDIES FOR NEGLIGENCE, STRICT\\nLIABILITY, BREACH OF WARRANTY OR BREACH OF CONTRACT EXCEPT THOSE\\nPROVIDED IN PARAGRAPH 1.F.3. YOU AGREE THAT THE FOUNDATION, THE\\nTRADEMARK OWNER, AND ANY DISTRIBUTOR UNDER THIS AGREEMENT WILL NOT BE\\nLIABLE TO YOU FOR ACTUAL, DIRECT, INDIRECT, CONSEQUENTIAL, PUNITIVE OR\\nINCIDENTAL DAMAGES EVEN IF YOU GIVE NOTICE OF THE POSSIBILITY OF SUCH\\nDAMAGE.\\n\\n1.F.3. LIMITED RIGHT OF REPLACEMENT OR REFUND - If you discover a\\ndefect in this electronic work within 90 days of receiving it, you can\\nreceive a refund of the money (if any) you paid for it by sending a\\nwritten explanation to the person you received the work from. If you\\nreceived the work on a physical medium, you must return the medium\\nwith your written explanation. The person or entity that provided you\\nwith the defective work may elect to provide a replacement copy in\\nlieu of a refund. If you received the work electronically, the person\\nor entity providing it to you may choose to give you a second\\nopportunity to receive the work electronically in lieu of a refund. If\\nthe second copy is also defective, you may demand a refund in writing\\nwithout further opportunities to fix the problem.\\n\\n1.F.4. Except for the limited right of replacement or refund set forth\\nin paragraph 1.F.3, this work is provided to you \\'AS-IS\\', WITH NO\\nOTHER WARRANTIES OF ANY KIND, EXPRESS OR IMPLIED, INCLUDING BUT NOT\\nLIMITED TO WARRANTIES OF MERCHANTABILITY OR FITNESS FOR ANY PURPOSE.\\n\\n1.F.5. Some states do not allow disclaimers of certain implied\\nwarranties or the exclusion or limitation of certain types of\\ndamages. If any disclaimer or limitation set forth in this agreement\\nviolates the law of the state applicable to this agreement, the\\nagreement shall be interpreted to make the maximum disclaimer or\\nlimitation permitted by the applicable state law. The invalidity or\\nunenforceability of any provision of this agreement shall not void the\\nremaining provisions.\\n\\n1.F.6. INDEMNITY - You agree to indemnify and hold the Foundation, the\\ntrademark owner, any agent or employee of the Foundation, anyone\\nproviding copies of Project Gutenberg-tm electronic works in\\naccordance with this agreement, and any volunteers associated with the\\nproduction, promotion and distribution of Project Gutenberg-tm\\nelectronic works, harmless from all liability, costs and expenses,\\nincluding legal fees, that arise directly or indirectly from any of\\nthe following which you do or cause to occur: (a) distribution of this\\nor any Project Gutenberg-tm work, (b) alteration, modification, or\\nadditions or deletions to any Project Gutenberg-tm work, and (c) any\\nDefect you cause.\\n\\nSection 2. Information about the Mission of Project Gutenberg-tm\\n\\nProject Gutenberg-tm is synonymous with the free distribution of\\nelectronic works in formats readable by the widest variety of\\ncomputers including obsolete, old, middle-aged and new computers. It\\nexists because of the efforts of hundreds of volunteers and donations\\nfrom people in all walks of life.\\n\\nVolunteers and financial support to provide volunteers with the\\nassistance they need are critical to reaching Project Gutenberg-tm\\'s\\ngoals and ensuring that the Project Gutenberg-tm collection will\\nremain freely available for generations to come. In 2001, the Project\\nGutenberg Literary Archive Foundation was created to provide a secure\\nand permanent future for Project Gutenberg-tm and future\\ngenerations. To learn more about the Project Gutenberg Literary\\nArchive Foundation and how your efforts and donations can help, see\\nSections 3 and 4 and the Foundation information page at\\nwww.gutenberg.org\\n\\nSection 3. Information about the Project Gutenberg Literary\\nArchive Foundation\\n\\nThe Project Gutenberg Literary Archive Foundation is a non-profit\\n501(c)(3) educational corporation organized under the laws of the\\nstate of Mississippi and granted tax exempt status by the Internal\\nRevenue Service. The Foundation\\'s EIN or federal tax identification\\nnumber is 64-6221541. Contributions to the Project Gutenberg Literary\\nArchive Foundation are tax deductible to the full extent permitted by\\nU.S. federal laws and your state\\'s laws.\\n\\nThe Foundation\\'s business office is located at 809 North 1500 West,\\nSalt Lake City, UT 84116, (801) 596-1887. Email contact links and up\\nto date contact information can be found at the Foundation\\'s website\\nand official page at www.gutenberg.org/contact\\n\\nSection 4. Information about Donations to the Project Gutenberg\\nLiterary Archive Foundation\\n\\nProject Gutenberg-tm depends upon and cannot survive without\\nwidespread public support and donations to carry out its mission of\\nincreasing the number of public domain and licensed works that can be\\nfreely distributed in machine-readable form accessible by the widest\\narray of equipment including outdated equipment. Many small donations\\n($1 to $5,000) are particularly important to maintaining tax exempt\\nstatus with the IRS.\\n\\nThe Foundation is committed to complying with the laws regulating\\ncharities and charitable donations in all 50 states of the United\\nStates. Compliance requirements are not uniform and it takes a\\nconsiderable effort, much paperwork and many fees to meet and keep up\\nwith these requirements. We do not solicit donations in locations\\nwhere we have not received written confirmation of compliance. To SEND\\nDONATIONS or determine the status of compliance for any particular\\nstate visit www.gutenberg.org/donate\\n\\nWhile we cannot and do not solicit contributions from states where we\\nhave not met the solicitation requirements, we know of no prohibition\\nagainst accepting unsolicited donations from donors in such states who\\napproach us with offers to donate.\\n\\nInternational donations are gratefully accepted, but we cannot make\\nany statements concerning tax treatment of donations received from\\noutside the United States. U.S. laws alone swamp our small staff.\\n\\nPlease check the Project Gutenberg web pages for current donation\\nmethods and addresses. Donations are accepted in a number of other\\nways including checks, online payments and credit card donations. To\\ndonate, please visit: www.gutenberg.org/donate\\n\\nSection 5. General Information About Project Gutenberg-tm electronic works\\n\\nProfessor Michael S. Hart was the originator of the Project\\nGutenberg-tm concept of a library of electronic works that could be\\nfreely shared with anyone. For forty years, he produced and\\ndistributed Project Gutenberg-tm eBooks with only a loose network of\\nvolunteer support.\\n\\nProject Gutenberg-tm eBooks are often created from several printed\\neditions, all of which are confirmed as not protected by copyright in\\nthe U.S. unless a copyright notice is included. Thus, we do not\\nnecessarily keep eBooks in compliance with any particular paper\\nedition.\\n\\nMost people start at our website which has the main PG search\\nfacility: www.gutenberg.org\\n\\nThis website includes information about Project Gutenberg-tm,\\nincluding how to make donations to the Project Gutenberg Literary\\nArchive Foundation, how to help produce our new eBooks, and how to\\nsubscribe to our email newsletter to hear about new eBooks.'"
      ]
     },
     "execution_count": 66,
     "metadata": {},
     "output_type": "execute_result"
    }
   ],
   "source": [
    "raw_text = open(\"gilman.txt\", mode=\"r\", encoding=\"utf-8\").read()\n",
    "raw_text"
   ]
  },
  {
   "cell_type": "code",
   "execution_count": 67,
   "id": "125ff648-0ae0-46b0-80b1-008c015e91c7",
   "metadata": {
    "scrolled": true,
    "tags": []
   },
   "outputs": [
    {
     "data": {
      "text/plain": [
       "'The Project Gutenberg eBook of The Yellow Wallpaper, by Charlotte Perkins Gilman\\n\\nThis eBook is for the use of anyone anywhere in the United States and\\nmost other parts of the world at no cost and with almost no restrictions\\nwhatsoever. You may copy it, give it away or re-use it under the terms\\nof the Project Gutenberg License included with this eBook or online at\\nwww.gutenberg.org. If you are not located in the United States, you\\nwill have to check the laws of the country where you are located before\\nusing this eBook.\\n\\nTitle: The Yellow Wallpaper\\n\\nAuthor: Charlotte Perkins Gilman\\n\\nRelease Date: November, 1999 [eBook #1952]\\n[Most recently updated: January 4, 2021]\\n\\nLanguage: English\\n\\nCharacter set encoding: UTF-8\\n\\nProduced by: An Anonymous Volunteer and David Widger\\n\\n*** START OF THE PROJECT GUTENBERG EBOOK THE YELLOW WALLPAPER ***\\n\\n\\n\\n\\nThe Yellow Wallpaper\\n\\nBy Charlotte Perkins Gilman\\n\\n\\nIt is very seldom that mere ordinary people like John and myself secure\\nancestral halls for the summer.\\n\\nA colonial mansion, a hereditary estate, I would say a haunted house,\\nand reach the height of romantic felicity—but that would be asking too\\nmuch of fate!\\n\\nStill I will proudly declare that there is something queer about it.\\n\\nElse, why should it be let so cheaply? And why have stood so long\\nuntenanted?\\n\\nJohn laughs at me, of course, but one expects that in marriage.\\n\\nJohn is practical in the extreme. He has no patience with faith, an\\nintense horror of superstition, and he scoffs openly at any talk of\\nthings not to be felt and seen and put down in figures.\\n\\nJohn is a physician, and perhaps—(I would not say it to a living soul,\\nof course, but this is dead paper and a great relief to my\\nmind)—perhaps that is one reason I do not get well faster.\\n\\nYou see, he does not believe I am sick!\\n\\nAnd what can one do?\\n\\nIf a physician of high standing, and one’s own husband, assures friends\\nand relatives that there is really nothing the matter with one but\\ntemporary nervous depression—a slight hysterical tendency—what is one\\nto do?\\n\\nMy brother is also a physician, and also of high standing, and he says\\nthe same thing.\\n\\nSo I take phosphates or phosphites—whichever it is, and tonics, and\\njourneys, and air, and exercise, and am absolutely forbidden to “work”\\nuntil I am well again.\\n\\nPersonally, I disagree with their ideas.\\n\\nPersonally, I believe that congenial work, with excitement and change,\\nwould do me good.\\n\\nBut what is one to do?\\n\\nI did write for a while in spite of them; but it does exhaust me a good\\ndeal—having to be so sly about it, or else meet with heavy opposition.\\n\\nI sometimes fancy that in my condition if I had less opposition and\\nmore society and stimulus—but John says the very worst thing I can do\\nis to think about my condition, and I confess it always makes me feel\\nbad.\\n\\nSo I will let it alone and talk about the house.\\n\\nThe most beautiful place! It is quite alone, standing well back from\\nthe road, quite three miles from the village. It makes me think of\\nEnglish places that you read about, for there are hedges and walls and\\ngates that lock, and lots of separate little houses for the gardeners\\nand people.\\n\\nThere is a delicious garden! I never saw such a garden—large and shady,\\nfull of box-bordered paths, and lined with long grape-covered arbors\\nwith seats under them.\\n\\nThere were greenhouses, too, but they are all broken now.\\n\\nThere was some legal trouble, I believe, something about the heirs and\\nco-heirs; anyhow, the place has been empty for years.\\n\\nThat spoils my ghostliness, I am afraid; but I don’t care—there is\\nsomething strange about the house—I can feel it.\\n\\nI even said so to John one moonlight evening, but he said what I felt\\nwas a draught, and shut the window.\\n\\nI get unreasonably angry with John sometimes. I’m sure I never used to\\nbe so sensitive. I think it is due to this nervous condition.\\n\\nBut John says if I feel so I shall neglect proper self-control; so I\\ntake pains to control myself,—before him, at least,—and that makes me\\nvery tired.\\n\\nI don’t like our room a bit. I wanted one downstairs that opened on the\\npiazza and had roses all over the window, and such pretty old-fashioned\\nchintz hangings! but John would not hear of it.\\n\\nHe said there was only one window and not room for two beds, and no\\nnear room for him if he took another.\\n\\nHe is very careful and loving, and hardly lets me stir without special\\ndirection.\\n\\nI have a schedule prescription for each hour in the day; he takes all\\ncare from me, and so I feel basely ungrateful not to value it more.\\n\\nHe said we came here solely on my account, that I was to have perfect\\nrest and all the air I could get. “Your exercise depends on your\\nstrength, my dear,” said he, “and your food somewhat on your appetite;\\nbut air you can absorb all the time.” So we took the nursery, at the\\ntop of the house.\\n\\nIt is a big, airy room, the whole floor nearly, with windows that look\\nall ways, and air and sunshine galore. It was nursery first and then\\nplayground and gymnasium, I should judge; for the windows are barred\\nfor little children, and there are rings and things in the walls.\\n\\nThe paint and paper look as if a boys’ school had used it. It is\\nstripped off—the paper—in great patches all around the head of my bed,\\nabout as far as I can reach, and in a great place on the other side of\\nthe room low down. I never saw a worse paper in my life.\\n\\nOne of those sprawling flamboyant patterns committing every artistic\\nsin.\\n\\nIt is dull enough to confuse the eye in following, pronounced enough to\\nconstantly irritate, and provoke study, and when you follow the lame,\\nuncertain curves for a little distance they suddenly commit\\nsuicide—plunge off at outrageous angles, destroy themselves in\\nunheard-of contradictions.\\n\\nThe color is repellant, almost revolting; a smouldering, unclean\\nyellow, strangely faded by the slow-turning sunlight.\\n\\nIt is a dull yet lurid orange in some places, a sickly sulphur tint in\\nothers.\\n\\nNo wonder the children hated it! I should hate it myself if I had to\\nlive in this room long.\\n\\nThere comes John, and I must put this away,—he hates to have me write a\\nword.\\n\\nWe have been here two weeks, and I haven’t felt like writing before,\\nsince that first day.\\n\\nI am sitting by the window now, up in this atrocious nursery, and there\\nis nothing to hinder my writing as much as I please, save lack of\\nstrength.\\n\\nJohn is away all day, and even some nights when his cases are serious.\\n\\nI am glad my case is not serious!\\n\\nBut these nervous troubles are dreadfully depressing.\\n\\nJohn does not know how much I really suffer. He knows there is no\\nreason to suffer, and that satisfies him.\\n\\nOf course it is only nervousness. It does weigh on me so not to do my\\nduty in any way!\\n\\nI meant to be such a help to John, such a real rest and comfort, and\\nhere I am a comparative burden already!\\n\\nNobody would believe what an effort it is to do what little I am\\nable—to dress and entertain, and order things.\\n\\nIt is fortunate Mary is so good with the baby. Such a dear baby!\\n\\nAnd yet I cannot be with him, it makes me so nervous.\\n\\nI suppose John never was nervous in his life. He laughs at me so about\\nthis wallpaper!\\n\\nAt first he meant to repaper the room, but afterwards he said that I\\nwas letting it get the better of me, and that nothing was worse for a\\nnervous patient than to give way to such fancies.\\n\\nHe said that after the wallpaper was changed it would be the heavy\\nbedstead, and then the barred windows, and then that gate at the head\\nof the stairs, and so on.\\n\\n“You know the place is doing you good,” he said, “and really, dear, I\\ndon’t care to renovate the house just for a three months’ rental.”\\n\\n“Then do let us go downstairs,” I said, “there are such pretty rooms\\nthere.”\\n\\nThen he took me in his arms and called me a blessed little goose, and\\nsaid he would go down cellar if I wished, and have it whitewashed into\\nthe bargain.\\n\\nBut he is right enough about the beds and windows and things.\\n\\nIt is as airy and comfortable a room as any one need wish, and, of\\ncourse, I would not be so silly as to make him uncomfortable just for a\\nwhim.\\n\\nI’m really getting quite fond of the big room, all but that horrid\\npaper.\\n\\nOut of one window I can see the garden, those mysterious deep-shaded\\narbors, the riotous old-fashioned flowers, and bushes and gnarly trees.\\n\\nOut of another I get a lovely view of the bay and a little private\\nwharf belonging to the estate. There is a beautiful shaded lane that\\nruns down there from the house. I always fancy I see people walking in\\nthese numerous paths and arbors, but John has cautioned me not to give\\nway to fancy in the least. He says that with my imaginative power and\\nhabit of story-making a nervous weakness like mine is sure to lead to\\nall manner of excited fancies, and that I ought to use my will and good\\nsense to check the tendency. So I try.\\n\\nI think sometimes that if I were only well enough to write a little it\\nwould relieve the press of ideas and rest me.\\n\\nBut I find I get pretty tired when I try.\\n\\nIt is so discouraging not to have any advice and companionship about my\\nwork. When I get really well John says we will ask Cousin Henry and\\nJulia down for a long visit; but he says he would as soon put\\nfire-works in my pillow-case as to let me have those stimulating people\\nabout now.\\n\\nI wish I could get well faster.\\n\\nBut I must not think about that. This paper looks to me as if it knew\\nwhat a vicious influence it had!\\n\\nThere is a recurrent spot where the pattern lolls like a broken neck\\nand two bulbous eyes stare at you upside-down.\\n\\nI get positively angry with the impertinence of it and the\\neverlastingness. Up and down and sideways they crawl, and those absurd,\\nunblinking eyes are everywhere. There is one place where two breadths\\ndidn’t match, and the eyes go all up and down the line, one a little\\nhigher than the other.\\n\\nI never saw so much expression in an inanimate thing before, and we all\\nknow how much expression they have! I used to lie awake as a child and\\nget more entertainment and terror out of blank walls and plain\\nfurniture than most children could find in a toy-store.\\n\\nI remember what a kindly wink the knobs of our big old bureau used to\\nhave, and there was one chair that always seemed like a strong friend.\\n\\nI used to feel that if any of the other things looked too fierce I\\ncould always hop into that chair and be safe.\\n\\nThe furniture in this room is no worse than inharmonious, however, for\\nwe had to bring it all from downstairs. I suppose when this was used as\\na playroom they had to take the nursery things out, and no wonder! I\\nnever saw such ravages as the children have made here.\\n\\nThe wallpaper, as I said before, is torn off in spots, and it sticketh\\ncloser than a brother—they must have had perseverance as well as\\nhatred.\\n\\nThen the floor is scratched and gouged and splintered, the plaster\\nitself is dug out here and there, and this great heavy bed, which is\\nall we found in the room, looks as if it had been through the wars.\\n\\nBut I don’t mind it a bit—only the paper.\\n\\nThere comes John’s sister. Such a dear girl as she is, and so careful\\nof me! I must not let her find me writing.\\n\\nShe is a perfect, and enthusiastic housekeeper, and hopes for no better\\nprofession. I verily believe she thinks it is the writing which made me\\nsick!\\n\\nBut I can write when she is out, and see her a long way off from these\\nwindows.\\n\\nThere is one that commands the road, a lovely, shaded, winding road,\\nand one that just looks off over the country. A lovely country, too,\\nfull of great elms and velvet meadows.\\n\\nThis wallpaper has a kind of sub-pattern in a different shade, a\\nparticularly irritating one, for you can only see it in certain lights,\\nand not clearly then.\\n\\nBut in the places where it isn’t faded, and where the sun is just so, I\\ncan see a strange, provoking, formless sort of figure, that seems to\\nsulk about behind that silly and conspicuous front design.\\n\\nThere’s sister on the stairs!\\n\\nWell, the Fourth of July is over! The people are gone and I am tired\\nout. John thought it might do me good to see a little company, so we\\njust had mother and Nellie and the children down for a week.\\n\\nOf course I didn’t do a thing. Jennie sees to everything now.\\n\\nBut it tired me all the same.\\n\\nJohn says if I don’t pick up faster he shall send me to Weir Mitchell\\nin the fall.\\n\\nBut I don’t want to go there at all. I had a friend who was in his\\nhands once, and she says he is just like John and my brother, only more\\nso!\\n\\nBesides, it is such an undertaking to go so far.\\n\\nI don’t feel as if it was worth while to turn my hand over for\\nanything, and I’m getting dreadfully fretful and querulous.\\n\\nI cry at nothing, and cry most of the time.\\n\\nOf course I don’t when John is here, or anybody else, but when I am\\nalone.\\n\\nAnd I am alone a good deal just now. John is kept in town very often by\\nserious cases, and Jennie is good and lets me alone when I want her to.\\n\\nSo I walk a little in the garden or down that lovely lane, sit on the\\nporch under the roses, and lie down up here a good deal.\\n\\nI’m getting really fond of the room in spite of the wallpaper. Perhaps\\nbecause of the wallpaper.\\n\\nIt dwells in my mind so!\\n\\nI lie here on this great immovable bed—it is nailed down, I believe—and\\nfollow that pattern about by the hour. It is as good as gymnastics, I\\nassure you. I start, we’ll say, at the bottom, down in the corner over\\nthere where it has not been touched, and I determine for the thousandth\\ntime that I will follow that pointless pattern to some sort of a\\nconclusion.\\n\\nI know a little of the principle of design, and I know this thing was\\nnot arranged on any laws of radiation, or alternation, or repetition,\\nor symmetry, or anything else that I ever heard of.\\n\\nIt is repeated, of course, by the breadths, but not otherwise.\\n\\nLooked at in one way each breadth stands alone, the bloated curves and\\nflourishes—a kind of “debased Romanesque” with delirium tremens—go\\nwaddling up and down in isolated columns of fatuity.\\n\\nBut, on the other hand, they connect diagonally, and the sprawling\\noutlines run off in great slanting waves of optic horror, like a lot of\\nwallowing seaweeds in full chase.\\n\\nThe whole thing goes horizontally, too, at least it seems so, and I\\nexhaust myself in trying to distinguish the order of its going in that\\ndirection.\\n\\nThey have used a horizontal breadth for a frieze, and that adds\\nwonderfully to the confusion.\\n\\nThere is one end of the room where it is almost intact, and there, when\\nthe cross-lights fade and the low sun shines directly upon it, I can\\nalmost fancy radiation after all,—the interminable grotesques seem to\\nform around a common centre and rush off in headlong plunges of equal\\ndistraction.\\n\\nIt makes me tired to follow it. I will take a nap, I guess.\\n\\nI don’t know why I should write this.\\n\\nI don’t want to.\\n\\nI don’t feel able.\\n\\nAnd I know John would think it absurd. But I must say what I feel and\\nthink in some way—it is such a relief!\\n\\nBut the effort is getting to be greater than the relief.\\n\\nHalf the time now I am awfully lazy, and lie down ever so much.\\n\\nJohn says I musn’t lose my strength, and has me take cod-liver oil and\\nlots of tonics and things, to say nothing of ale and wine and rare\\nmeat.\\n\\nDear John! He loves me very dearly, and hates to have me sick. I tried\\nto have a real earnest reasonable talk with him the other day, and tell\\nhim how I wish he would let me go and make a visit to Cousin Henry and\\nJulia.\\n\\nBut he said I wasn’t able to go, nor able to stand it after I got\\nthere; and I did not make out a very good case for myself, for I was\\ncrying before I had finished.\\n\\nIt is getting to be a great effort for me to think straight. Just this\\nnervous weakness, I suppose.\\n\\nAnd dear John gathered me up in his arms, and just carried me upstairs\\nand laid me on the bed, and sat by me and read to me till it tired my\\nhead.\\n\\nHe said I was his darling and his comfort and all he had, and that I\\nmust take care of myself for his sake, and keep well.\\n\\nHe says no one but myself can help me out of it, that I must use my\\nwill and self-control and not let any silly fancies run away with me.\\n\\nThere’s one comfort, the baby is well and happy, and does not have to\\noccupy this nursery with the horrid wallpaper.\\n\\nIf we had not used it that blessed child would have! What a fortunate\\nescape! Why, I wouldn’t have a child of mine, an impressionable little\\nthing, live in such a room for worlds.\\n\\nI never thought of it before, but it is lucky that John kept me here\\nafter all. I can stand it so much easier than a baby, you see.\\n\\nOf course I never mention it to them any more,—I am too wise,—but I\\nkeep watch of it all the same.\\n\\nThere are things in that paper that nobody knows but me, or ever will.\\n\\nBehind that outside pattern the dim shapes get clearer every day.\\n\\nIt is always the same shape, only very numerous.\\n\\nAnd it is like a woman stooping down and creeping about behind that\\npattern. I don’t like it a bit. I wonder—I begin to think—I wish John\\nwould take me away from here!\\n\\nIt is so hard to talk with John about my case, because he is so wise,\\nand because he loves me so.\\n\\nBut I tried it last night.\\n\\nIt was moonlight. The moon shines in all around, just as the sun does.\\n\\nI hate to see it sometimes, it creeps so slowly, and always comes in by\\none window or another.\\n\\nJohn was asleep and I hated to waken him, so I kept still and watched\\nthe moonlight on that undulating wallpaper till I felt creepy.\\n\\nThe faint figure behind seemed to shake the pattern, just as if she\\nwanted to get out.\\n\\nI got up softly and went to feel and see if the paper did move, and\\nwhen I came back John was awake.\\n\\n“What is it, little girl?” he said. “Don’t go walking about like\\nthat—you’ll get cold.”\\n\\nI thought it was a good time to talk, so I told him that I really was\\nnot gaining here, and that I wished he would take me away.\\n\\n“Why darling!” said he, “our lease will be up in three weeks, and I\\ncan’t see how to leave before.\\n\\n“The repairs are not done at home, and I cannot possibly leave town\\njust now. Of course if you were in any danger I could and would, but\\nyou really are better, dear, whether you can see it or not. I am a\\ndoctor, dear, and I know. You are gaining flesh and color, your\\nappetite is better. I feel really much easier about you.”\\n\\n“I don’t weigh a bit more,” said I, “nor as much; and my appetite may\\nbe better in the evening, when you are here, but it is worse in the\\nmorning when you are away.”\\n\\n“Bless her little heart!” said he with a big hug; “she shall be as sick\\nas she pleases! But now let’s improve the shining hours by going to\\nsleep, and talk about it in the morning!”\\n\\n“And you won’t go away?” I asked gloomily.\\n\\n“Why, how can I, dear? It is only three weeks more and then we will\\ntake a nice little trip of a few days while Jennie is getting the house\\nready. Really, dear, you are better!”\\n\\n“Better in body perhaps”—I began, and stopped short, for he sat up\\nstraight and looked at me with such a stern, reproachful look that I\\ncould not say another word.\\n\\n“My darling,” said he, “I beg of you, for my sake and for our child’s\\nsake, as well as for your own, that you will never for one instant let\\nthat idea enter your mind! There is nothing so dangerous, so\\nfascinating, to a temperament like yours. It is a false and foolish\\nfancy. Can you not trust me as a physician when I tell you so?”\\n\\nSo of course I said no more on that score, and we went to sleep before\\nlong. He thought I was asleep first, but I wasn’t,—I lay there for\\nhours trying to decide whether that front pattern and the back pattern\\nreally did move together or separately.\\n\\nOn a pattern like this, by daylight, there is a lack of sequence, a\\ndefiance of law, that is a constant irritant to a normal mind.\\n\\nThe color is hideous enough, and unreliable enough, and infuriating\\nenough, but the pattern is torturing.\\n\\nYou think you have mastered it, but just as you get well under way in\\nfollowing, it turns a back somersault and there you are. It slaps you\\nin the face, knocks you down, and tramples upon you. It is like a bad\\ndream.\\n\\nThe outside pattern is a florid arabesque, reminding one of a fungus.\\nIf you can imagine a toadstool in joints, an interminable string of\\ntoadstools, budding and sprouting in endless convolutions,—why, that is\\nsomething like it.\\n\\nThat is, sometimes!\\n\\nThere is one marked peculiarity about this paper, a thing nobody seems\\nto notice but myself, and that is that it changes as the light changes.\\n\\nWhen the sun shoots in through the east window—I always watch for that\\nfirst long, straight ray—it changes so quickly that I never can quite\\nbelieve it.\\n\\nThat is why I watch it always.\\n\\nBy moonlight—the moon shines in all night when there is a moon—I\\nwouldn’t know it was the same paper.\\n\\nAt night in any kind of light, in twilight, candlelight, lamplight, and\\nworst of all by moonlight, it becomes bars! The outside pattern I mean,\\nand the woman behind it is as plain as can be.\\n\\nI didn’t realize for a long time what the thing was that showed\\nbehind,—that dim sub-pattern,—but now I am quite sure it is a woman.\\n\\nBy daylight she is subdued, quiet. I fancy it is the pattern that keeps\\nher so still. It is so puzzling. It keeps me quiet by the hour.\\n\\nI lie down ever so much now. John says it is good for me, and to sleep\\nall I can.\\n\\nIndeed, he started the habit by making me lie down for an hour after\\neach meal.\\n\\nIt is a very bad habit, I am convinced, for, you see, I don’t sleep.\\n\\nAnd that cultivates deceit, for I don’t tell them I’m awake,—oh, no!\\n\\nThe fact is, I am getting a little afraid of John.\\n\\nHe seems very queer sometimes, and even Jennie has an inexplicable\\nlook.\\n\\nIt strikes me occasionally, just as a scientific hypothesis, that\\nperhaps it is the paper!\\n\\nI have watched John when he did not know I was looking, and come into\\nthe room suddenly on the most innocent excuses, and I’ve caught him\\nseveral times looking at the paper! And Jennie too. I caught Jennie\\nwith her hand on it once.\\n\\nShe didn’t know I was in the room, and when I asked her in a quiet, a\\nvery quiet voice, with the most restrained manner possible, what she\\nwas doing with the paper she turned around as if she had been caught\\nstealing, and looked quite angry—asked me why I should frighten her so!\\n\\nThen she said that the paper stained everything it touched, that she\\nhad found yellow smooches on all my clothes and John’s, and she wished\\nwe would be more careful!\\n\\nDid not that sound innocent? But I know she was studying that pattern,\\nand I am determined that nobody shall find it out but myself!\\n\\nLife is very much more exciting now than it used to be. You see I have\\nsomething more to expect, to look forward to, to watch. I really do eat\\nbetter, and am more quiet than I was.\\n\\nJohn is so pleased to see me improve! He laughed a little the other\\nday, and said I seemed to be flourishing in spite of my wallpaper.\\n\\nI turned it off with a laugh. I had no intention of telling him it was\\nbecause of the wallpaper—he would make fun of me. He might even want to\\ntake me away.\\n\\nI don’t want to leave now until I have found it out. There is a week\\nmore, and I think that will be enough.\\n\\nI’m feeling ever so much better! I don’t sleep much at night, for it is\\nso interesting to watch developments; but I sleep a good deal in the\\ndaytime.\\n\\nIn the daytime it is tiresome and perplexing.\\n\\nThere are always new shoots on the fungus, and new shades of yellow all\\nover it. I cannot keep count of them, though I have tried\\nconscientiously.\\n\\nIt is the strangest yellow, that wallpaper! It makes me think of all\\nthe yellow things I ever saw—not beautiful ones like buttercups, but\\nold foul, bad yellow things.\\n\\nBut there is something else about that paper—the smell! I noticed it\\nthe moment we came into the room, but with so much air and sun it was\\nnot bad. Now we have had a week of fog and rain, and whether the\\nwindows are open or not, the smell is here.\\n\\nIt creeps all over the house.\\n\\nI find it hovering in the dining-room, skulking in the parlor, hiding\\nin the hall, lying in wait for me on the stairs.\\n\\nIt gets into my hair.\\n\\nEven when I go to ride, if I turn my head suddenly and surprise\\nit—there is that smell!\\n\\nSuch a peculiar odor, too! I have spent hours in trying to analyze it,\\nto find what it smelled like.\\n\\nIt is not bad—at first, and very gentle, but quite the subtlest, most\\nenduring odor I ever met.\\n\\nIn this damp weather it is awful. I wake up in the night and find it\\nhanging over me.\\n\\nIt used to disturb me at first. I thought seriously of burning the\\nhouse—to reach the smell.\\n\\nBut now I am used to it. The only thing I can think of that it is like\\nis the color of the paper! A yellow smell.\\n\\nThere is a very funny mark on this wall, low down, near the mopboard. A\\nstreak that runs round the room. It goes behind every piece of\\nfurniture, except the bed, a long, straight, even smooch, as if it had\\nbeen rubbed over and over.\\n\\nI wonder how it was done and who did it, and what they did it for.\\nRound and round and round—round and round and round—it makes me dizzy!\\n\\nI really have discovered something at last.\\n\\nThrough watching so much at night, when it changes so, I have finally\\nfound out.\\n\\nThe front pattern does move—and no wonder! The woman behind shakes it!\\n\\nSometimes I think there are a great many women behind, and sometimes\\nonly one, and she crawls around fast, and her crawling shakes it all\\nover.\\n\\nThen in the very bright spots she keeps still, and in the very shady\\nspots she just takes hold of the bars and shakes them hard.\\n\\nAnd she is all the time trying to climb through. But nobody could climb\\nthrough that pattern—it strangles so; I think that is why it has so\\nmany heads.\\n\\nThey get through, and then the pattern strangles them off and turns\\nthem upside-down, and makes their eyes white!\\n\\nIf those heads were covered or taken off it would not be half so bad.\\n\\nI think that woman gets out in the daytime!\\n\\nAnd I’ll tell you why—privately—I’ve seen her!\\n\\nI can see her out of every one of my windows!\\n\\nIt is the same woman, I know, for she is always creeping, and most\\nwomen do not creep by daylight.\\n\\nI see her on that long shaded lane, creeping up and down. I see her in\\nthose dark grape arbors, creeping all around the garden.\\n\\nI see her on that long road under the trees, creeping along, and when a\\ncarriage comes she hides under the blackberry vines.\\n\\nI don’t blame her a bit. It must be very humiliating to be caught\\ncreeping by daylight!\\n\\nI always lock the door when I creep by daylight. I can’t do it at\\nnight, for I know John would suspect something at once.\\n\\nAnd John is so queer now, that I don’t want to irritate him. I wish he\\nwould take another room! Besides, I don’t want anybody to get that\\nwoman out at night but myself.\\n\\nI often wonder if I could see her out of all the windows at once.\\n\\nBut, turn as fast as I can, I can only see out of one at one time.\\n\\nAnd though I always see her she may be able to creep faster than I can\\nturn!\\n\\nI have watched her sometimes away off in the open country, creeping as\\nfast as a cloud shadow in a high wind.\\n\\nIf only that top pattern could be gotten off from the under one! I mean\\nto try it, little by little.\\n\\nI have found out another funny thing, but I shan’t tell it this time!\\nIt does not do to trust people too much.\\n\\nThere are only two more days to get this paper off, and I believe John\\nis beginning to notice. I don’t like the look in his eyes.\\n\\nAnd I heard him ask Jennie a lot of professional questions about me.\\nShe had a very good report to give.\\n\\nShe said I slept a good deal in the daytime.\\n\\nJohn knows I don’t sleep very well at night, for all I’m so quiet!\\n\\nHe asked me all sorts of questions, too, and pretended to be very\\nloving and kind.\\n\\nAs if I couldn’t see through him!\\n\\nStill, I don’t wonder he acts so, sleeping under this paper for three\\nmonths.\\n\\nIt only interests me, but I feel sure John and Jennie are secretly\\naffected by it.\\n\\nHurrah! This is the last day, but it is enough. John is to stay in town\\nover night, and won’t be out until this evening.\\n\\nJennie wanted to sleep with me—the sly thing! but I told her I should\\nundoubtedly rest better for a night all alone.\\n\\nThat was clever, for really I wasn’t alone a bit! As soon as it was\\nmoonlight, and that poor thing began to crawl and shake the pattern, I\\ngot up and ran to help her.\\n\\nI pulled and she shook, I shook and she pulled, and before morning we\\nhad peeled off yards of that paper.\\n\\nA strip about as high as my head and half around the room.\\n\\nAnd then when the sun came and that awful pattern began to laugh at me\\nI declared I would finish it to-day!\\n\\nWe go away to-morrow, and they are moving all my furniture down again\\nto leave things as they were before.\\n\\nJennie looked at the wall in amazement, but I told her merrily that I\\ndid it out of pure spite at the vicious thing.\\n\\nShe laughed and said she wouldn’t mind doing it herself, but I must not\\nget tired.\\n\\nHow she betrayed herself that time!\\n\\nBut I am here, and no person touches this paper but me—not alive!\\n\\nShe tried to get me out of the room—it was too patent! But I said it\\nwas so quiet and empty and clean now that I believed I would lie down\\nagain and sleep all I could; and not to wake me even for dinner—I would\\ncall when I woke.\\n\\nSo now she is gone, and the servants are gone, and the things are gone,\\nand there is nothing left but that great bedstead nailed down, with the\\ncanvas mattress we found on it.\\n\\nWe shall sleep downstairs to-night, and take the boat home to-morrow.\\n\\nI quite enjoy the room, now it is bare again.\\n\\nHow those children did tear about here!\\n\\nThis bedstead is fairly gnawed!\\n\\nBut I must get to work.\\n\\nI have locked the door and thrown the key down into the front path.\\n\\nI don’t want to go out, and I don’t want to have anybody come in, till\\nJohn comes.\\n\\nI want to astonish him.\\n\\nI’ve got a rope up here that even Jennie did not find. If that woman\\ndoes get out, and tries to get away, I can tie her!\\n\\nBut I forgot I could not reach far without anything to stand on!\\n\\nThis bed will not move!\\n\\nI tried to lift and push it until I was lame, and then I got so angry I\\nbit off a little piece at one corner—but it hurt my teeth.\\n\\nThen I peeled off all the paper I could reach standing on the floor. It\\nsticks horribly and the pattern just enjoys it! All those strangled\\nheads and bulbous eyes and waddling fungus growths just shriek with\\nderision!\\n\\nI am getting angry enough to do something desperate. To jump out of the\\nwindow would be admirable exercise, but the bars are too strong even to\\ntry.\\n\\nBesides I wouldn’t do it. Of course not. I know well enough that a step\\nlike that is improper and might be misconstrued.\\n\\nI don’t like to look out of the windows even—there are so many of those\\ncreeping women, and they creep so fast.\\n\\nI wonder if they all come out of that wallpaper as I did?\\n\\nBut I am securely fastened now by my well-hidden rope—you don’t get me\\nout in the road there!\\n\\nI suppose I shall have to get back behind the pattern when it comes\\nnight, and that is hard!\\n\\nIt is so pleasant to be out in this great room and creep around as I\\nplease!\\n\\nI don’t want to go outside. I won’t, even if Jennie asks me to.\\n\\nFor outside you have to creep on the ground, and everything is green\\ninstead of yellow.\\n\\nBut here I can creep smoothly on the floor, and my shoulder just fits\\nin that long smooch around the wall, so I cannot lose my way.\\n\\nWhy, there’s John at the door!\\n\\nIt is no use, young man, you can’t open it!\\n\\nHow he does call and pound!\\n\\nNow he’s crying for an axe.\\n\\nIt would be a shame to break down that beautiful door!\\n\\n“John dear!” said I in the gentlest voice, “the key is down by the\\nfront steps, under a plantain leaf!”\\n\\nThat silenced him for a few moments.\\n\\nThen he said—very quietly indeed, “Open the door, my darling!”\\n\\n“I can’t,” said I. “The key is down by the front door under a plantain\\nleaf!”\\n\\nAnd then I said it again, several times, very gently and slowly, and\\nsaid it so often that he had to go and see, and he got it, of course,\\nand came in. He stopped short by the door.\\n\\n“What is the matter?” he cried. “For God’s sake, what are you doing!”\\n\\nI kept on creeping just the same, but I looked at him over my shoulder.\\n\\n“I’ve got out at last,” said I, “in spite of you and Jane! And I’ve\\npulled off most of the paper, so you can’t put me back!”\\n\\nNow why should that man have fainted? But he did, and right across my\\npath by the wall, so that I had to creep over him every time!\\n\\n\\n\\n\\n*** END OF THE PROJECT GUTENBERG EBOOK THE YELLOW WALLPAPER ***\\n\\n***** This file should be named 1952-0.txt or 1952-0.zip *****\\nThis and all associated files of various formats will be found in:\\n    https://www.gutenberg.org/1/9/5/1952/\\n\\nUpdated editions will replace the previous one--the old editions will\\nbe renamed.\\n\\nCreating the works from print editions not protected by U.S. copyright\\nlaw means that no one owns a United States copyright in these works,\\nso the Foundation (and you!) can copy and distribute it in the\\nUnited States without permission and without paying copyright\\nroyalties. Special rules, set forth in the General Terms of Use part\\nof this license, apply to copying and distributing Project\\nGutenberg-tm electronic works to protect the PROJECT GUTENBERG-tm\\nconcept and trademark. Project Gutenberg is a registered trademark,\\nand may not be used if you charge for an eBook, except by following\\nthe terms of the trademark license, including paying royalties for use\\nof the Project Gutenberg trademark. If you do not charge anything for\\ncopies of this eBook, complying with the trademark license is very\\neasy. You may use this eBook for nearly any purpose such as creation\\nof derivative works, reports, performances and research. Project\\nGutenberg eBooks may be modified and printed and given away--you may\\ndo practically ANYTHING in the United States with eBooks not protected\\nby U.S. copyright law. Redistribution is subject to the trademark\\nlicense, especially commercial redistribution.\\n\\nSTART: FULL LICENSE\\n\\nTHE FULL PROJECT GUTENBERG LICENSE\\nPLEASE READ THIS BEFORE YOU DISTRIBUTE OR USE THIS WORK\\n\\nTo protect the Project Gutenberg-tm mission of promoting the free\\ndistribution of electronic works, by using or distributing this work\\n(or any other work associated in any way with the phrase \"Project\\nGutenberg\"), you agree to comply with all the terms of the Full\\nProject Gutenberg-tm License available with this file or online at\\nwww.gutenberg.org/license.\\n\\nSection 1. General Terms of Use and Redistributing Project\\nGutenberg-tm electronic works\\n\\n1.A. By reading or using any part of this Project Gutenberg-tm\\nelectronic work, you indicate that you have read, understand, agree to\\nand accept all the terms of this license and intellectual property\\n(trademark/copyright) agreement. If you do not agree to abide by all\\nthe terms of this agreement, you must cease using and return or\\ndestroy all copies of Project Gutenberg-tm electronic works in your\\npossession. If you paid a fee for obtaining a copy of or access to a\\nProject Gutenberg-tm electronic work and you do not agree to be bound\\nby the terms of this agreement, you may obtain a refund from the\\nperson or entity to whom you paid the fee as set forth in paragraph\\n1.E.8.\\n\\n1.B. \"Project Gutenberg\" is a registered trademark. It may only be\\nused on or associated in any way with an electronic work by people who\\nagree to be bound by the terms of this agreement. There are a few\\nthings that you can do with most Project Gutenberg-tm electronic works\\neven without complying with the full terms of this agreement. See\\nparagraph 1.C below. There are a lot of things you can do with Project\\nGutenberg-tm electronic works if you follow the terms of this\\nagreement and help preserve free future access to Project Gutenberg-tm\\nelectronic works. See paragraph 1.E below.\\n\\n1.C. The Project Gutenberg Literary Archive Foundation (\"the\\nFoundation\" or PGLAF), owns a compilation copyright in the collection\\nof Project Gutenberg-tm electronic works. Nearly all the individual\\nworks in the collection are in the public domain in the United\\nStates. If an individual work is unprotected by copyright law in the\\nUnited States and you are located in the United States, we do not\\nclaim a right to prevent you from copying, distributing, performing,\\ndisplaying or creating derivative works based on the work as long as\\nall references to Project Gutenberg are removed. Of course, we hope\\nthat you will support the Project Gutenberg-tm mission of promoting\\nfree access to electronic works by freely sharing Project Gutenberg-tm\\nworks in compliance with the terms of this agreement for keeping the\\nProject Gutenberg-tm name associated with the work. You can easily\\ncomply with the terms of this agreement by keeping this work in the\\nsame format with its attached full Project Gutenberg-tm License when\\nyou share it without charge with others.\\n\\n1.D. The copyright laws of the place where you are located also govern\\nwhat you can do with this work. Copyright laws in most countries are\\nin a constant state of change. If you are outside the United States,\\ncheck the laws of your country in addition to the terms of this\\nagreement before downloading, copying, displaying, performing,\\ndistributing or creating derivative works based on this work or any\\nother Project Gutenberg-tm work. The Foundation makes no\\nrepresentations concerning the copyright status of any work in any\\ncountry other than the United States.\\n\\n1.E. Unless you have removed all references to Project Gutenberg:\\n\\n1.E.1. The following sentence, with active links to, or other\\nimmediate access to, the full Project Gutenberg-tm License must appear\\nprominently whenever any copy of a Project Gutenberg-tm work (any work\\non which the phrase \"Project Gutenberg\" appears, or with which the\\nphrase \"Project Gutenberg\" is associated) is accessed, displayed,\\nperformed, viewed, copied or distributed:\\n\\n  This eBook is for the use of anyone anywhere in the United States and\\n  most other parts of the world at no cost and with almost no\\n  restrictions whatsoever. You may copy it, give it away or re-use it\\n  under the terms of the Project Gutenberg License included with this\\n  eBook or online at www.gutenberg.org. If you are not located in the\\n  United States, you will have to check the laws of the country where\\n  you are located before using this eBook.\\n\\n1.E.2. If an individual Project Gutenberg-tm electronic work is\\nderived from texts not protected by U.S. copyright law (does not\\ncontain a notice indicating that it is posted with permission of the\\ncopyright holder), the work can be copied and distributed to anyone in\\nthe United States without paying any fees or charges. If you are\\nredistributing or providing access to a work with the phrase \"Project\\nGutenberg\" associated with or appearing on the work, you must comply\\neither with the requirements of paragraphs 1.E.1 through 1.E.7 or\\nobtain permission for the use of the work and the Project Gutenberg-tm\\ntrademark as set forth in paragraphs 1.E.8 or 1.E.9.\\n\\n1.E.3. If an individual Project Gutenberg-tm electronic work is posted\\nwith the permission of the copyright holder, your use and distribution\\nmust comply with both paragraphs 1.E.1 through 1.E.7 and any\\nadditional terms imposed by the copyright holder. Additional terms\\nwill be linked to the Project Gutenberg-tm License for all works\\nposted with the permission of the copyright holder found at the\\nbeginning of this work.\\n\\n1.E.4. Do not unlink or detach or remove the full Project Gutenberg-tm\\nLicense terms from this work, or any files containing a part of this\\nwork or any other work associated with Project Gutenberg-tm.\\n\\n1.E.5. Do not copy, display, perform, distribute or redistribute this\\nelectronic work, or any part of this electronic work, without\\nprominently displaying the sentence set forth in paragraph 1.E.1 with\\nactive links or immediate access to the full terms of the Project\\nGutenberg-tm License.\\n\\n1.E.6. You may convert to and distribute this work in any binary,\\ncompressed, marked up, nonproprietary or proprietary form, including\\nany word processing or hypertext form. However, if you provide access\\nto or distribute copies of a Project Gutenberg-tm work in a format\\nother than \"Plain Vanilla ASCII\" or other format used in the official\\nversion posted on the official Project Gutenberg-tm website\\n(www.gutenberg.org), you must, at no additional cost, fee or expense\\nto the user, provide a copy, a means of exporting a copy, or a means\\nof obtaining a copy upon request, of the work in its original \"Plain\\nVanilla ASCII\" or other form. Any alternate format must include the\\nfull Project Gutenberg-tm License as specified in paragraph 1.E.1.\\n\\n1.E.7. Do not charge a fee for access to, viewing, displaying,\\nperforming, copying or distributing any Project Gutenberg-tm works\\nunless you comply with paragraph 1.E.8 or 1.E.9.\\n\\n1.E.8. You may charge a reasonable fee for copies of or providing\\naccess to or distributing Project Gutenberg-tm electronic works\\nprovided that:\\n\\n* You pay a royalty fee of 20% of the gross profits you derive from\\n  the use of Project Gutenberg-tm works calculated using the method\\n  you already use to calculate your applicable taxes. The fee is owed\\n  to the owner of the Project Gutenberg-tm trademark, but he has\\n  agreed to donate royalties under this paragraph to the Project\\n  Gutenberg Literary Archive Foundation. Royalty payments must be paid\\n  within 60 days following each date on which you prepare (or are\\n  legally required to prepare) your periodic tax returns. Royalty\\n  payments should be clearly marked as such and sent to the Project\\n  Gutenberg Literary Archive Foundation at the address specified in\\n  Section 4, \"Information about donations to the Project Gutenberg\\n  Literary Archive Foundation.\"\\n\\n* You provide a full refund of any money paid by a user who notifies\\n  you in writing (or by e-mail) within 30 days of receipt that s/he\\n  does not agree to the terms of the full Project Gutenberg-tm\\n  License. You must require such a user to return or destroy all\\n  copies of the works possessed in a physical medium and discontinue\\n  all use of and all access to other copies of Project Gutenberg-tm\\n  works.\\n\\n* You provide, in accordance with paragraph 1.F.3, a full refund of\\n  any money paid for a work or a replacement copy, if a defect in the\\n  electronic work is discovered and reported to you within 90 days of\\n  receipt of the work.\\n\\n* You comply with all other terms of this agreement for free\\n  distribution of Project Gutenberg-tm works.\\n\\n1.E.9. If you wish to charge a fee or distribute a Project\\nGutenberg-tm electronic work or group of works on different terms than\\nare set forth in this agreement, you must obtain permission in writing\\nfrom the Project Gutenberg Literary Archive Foundation, the manager of\\nthe Project Gutenberg-tm trademark. Contact the Foundation as set\\nforth in Section 3 below.\\n\\n1.F.\\n\\n1.F.1. Project Gutenberg volunteers and employees expend considerable\\neffort to identify, do copyright research on, transcribe and proofread\\nworks not protected by U.S. copyright law in creating the Project\\nGutenberg-tm collection. Despite these efforts, Project Gutenberg-tm\\nelectronic works, and the medium on which they may be stored, may\\ncontain \"Defects,\" such as, but not limited to, incomplete, inaccurate\\nor corrupt data, transcription errors, a copyright or other\\nintellectual property infringement, a defective or damaged disk or\\nother medium, a computer virus, or computer codes that damage or\\ncannot be read by your equipment.\\n\\n1.F.2. LIMITED WARRANTY, DISCLAIMER OF DAMAGES - Except for the \"Right\\nof Replacement or Refund\" described in paragraph 1.F.3, the Project\\nGutenberg Literary Archive Foundation, the owner of the Project\\nGutenberg-tm trademark, and any other party distributing a Project\\nGutenberg-tm electronic work under this agreement, disclaim all\\nliability to you for damages, costs and expenses, including legal\\nfees. YOU AGREE THAT YOU HAVE NO REMEDIES FOR NEGLIGENCE, STRICT\\nLIABILITY, BREACH OF WARRANTY OR BREACH OF CONTRACT EXCEPT THOSE\\nPROVIDED IN PARAGRAPH 1.F.3. YOU AGREE THAT THE FOUNDATION, THE\\nTRADEMARK OWNER, AND ANY DISTRIBUTOR UNDER THIS AGREEMENT WILL NOT BE\\nLIABLE TO YOU FOR ACTUAL, DIRECT, INDIRECT, CONSEQUENTIAL, PUNITIVE OR\\nINCIDENTAL DAMAGES EVEN IF YOU GIVE NOTICE OF THE POSSIBILITY OF SUCH\\nDAMAGE.\\n\\n1.F.3. LIMITED RIGHT OF REPLACEMENT OR REFUND - If you discover a\\ndefect in this electronic work within 90 days of receiving it, you can\\nreceive a refund of the money (if any) you paid for it by sending a\\nwritten explanation to the person you received the work from. If you\\nreceived the work on a physical medium, you must return the medium\\nwith your written explanation. The person or entity that provided you\\nwith the defective work may elect to provide a replacement copy in\\nlieu of a refund. If you received the work electronically, the person\\nor entity providing it to you may choose to give you a second\\nopportunity to receive the work electronically in lieu of a refund. If\\nthe second copy is also defective, you may demand a refund in writing\\nwithout further opportunities to fix the problem.\\n\\n1.F.4. Except for the limited right of replacement or refund set forth\\nin paragraph 1.F.3, this work is provided to you \\'AS-IS\\', WITH NO\\nOTHER WARRANTIES OF ANY KIND, EXPRESS OR IMPLIED, INCLUDING BUT NOT\\nLIMITED TO WARRANTIES OF MERCHANTABILITY OR FITNESS FOR ANY PURPOSE.\\n\\n1.F.5. Some states do not allow disclaimers of certain implied\\nwarranties or the exclusion or limitation of certain types of\\ndamages. If any disclaimer or limitation set forth in this agreement\\nviolates the law of the state applicable to this agreement, the\\nagreement shall be interpreted to make the maximum disclaimer or\\nlimitation permitted by the applicable state law. The invalidity or\\nunenforceability of any provision of this agreement shall not void the\\nremaining provisions.\\n\\n1.F.6. INDEMNITY - You agree to indemnify and hold the Foundation, the\\ntrademark owner, any agent or employee of the Foundation, anyone\\nproviding copies of Project Gutenberg-tm electronic works in\\naccordance with this agreement, and any volunteers associated with the\\nproduction, promotion and distribution of Project Gutenberg-tm\\nelectronic works, harmless from all liability, costs and expenses,\\nincluding legal fees, that arise directly or indirectly from any of\\nthe following which you do or cause to occur: (a) distribution of this\\nor any Project Gutenberg-tm work, (b) alteration, modification, or\\nadditions or deletions to any Project Gutenberg-tm work, and (c) any\\nDefect you cause.\\n\\nSection 2. Information about the Mission of Project Gutenberg-tm\\n\\nProject Gutenberg-tm is synonymous with the free distribution of\\nelectronic works in formats readable by the widest variety of\\ncomputers including obsolete, old, middle-aged and new computers. It\\nexists because of the efforts of hundreds of volunteers and donations\\nfrom people in all walks of life.\\n\\nVolunteers and financial support to provide volunteers with the\\nassistance they need are critical to reaching Project Gutenberg-tm\\'s\\ngoals and ensuring that the Project Gutenberg-tm collection will\\nremain freely available for generations to come. In 2001, the Project\\nGutenberg Literary Archive Foundation was created to provide a secure\\nand permanent future for Project Gutenberg-tm and future\\ngenerations. To learn more about the Project Gutenberg Literary\\nArchive Foundation and how your efforts and donations can help, see\\nSections 3 and 4 and the Foundation information page at\\nwww.gutenberg.org\\n\\nSection 3. Information about the Project Gutenberg Literary\\nArchive Foundation\\n\\nThe Project Gutenberg Literary Archive Foundation is a non-profit\\n501(c)(3) educational corporation organized under the laws of the\\nstate of Mississippi and granted tax exempt status by the Internal\\nRevenue Service. The Foundation\\'s EIN or federal tax identification\\nnumber is 64-6221541. Contributions to the Project Gutenberg Literary\\nArchive Foundation are tax deductible to the full extent permitted by\\nU.S. federal laws and your state\\'s laws.\\n\\nThe Foundation\\'s business office is located at 809 North 1500 West,\\nSalt Lake City, UT 84116, (801) 596-1887. Email contact links and up\\nto date contact information can be found at the Foundation\\'s website\\nand official page at www.gutenberg.org/contact\\n\\nSection 4. Information about Donations to the Project Gutenberg\\nLiterary Archive Foundation\\n\\nProject Gutenberg-tm depends upon and cannot survive without\\nwidespread public support and donations to carry out its mission of\\nincreasing the number of public domain and licensed works that can be\\nfreely distributed in machine-readable form accessible by the widest\\narray of equipment including outdated equipment. Many small donations\\n($1 to $5,000) are particularly important to maintaining tax exempt\\nstatus with the IRS.\\n\\nThe Foundation is committed to complying with the laws regulating\\ncharities and charitable donations in all 50 states of the United\\nStates. Compliance requirements are not uniform and it takes a\\nconsiderable effort, much paperwork and many fees to meet and keep up\\nwith these requirements. We do not solicit donations in locations\\nwhere we have not received written confirmation of compliance. To SEND\\nDONATIONS or determine the status of compliance for any particular\\nstate visit www.gutenberg.org/donate\\n\\nWhile we cannot and do not solicit contributions from states where we\\nhave not met the solicitation requirements, we know of no prohibition\\nagainst accepting unsolicited donations from donors in such states who\\napproach us with offers to donate.\\n\\nInternational donations are gratefully accepted, but we cannot make\\nany statements concerning tax treatment of donations received from\\noutside the United States. U.S. laws alone swamp our small staff.\\n\\nPlease check the Project Gutenberg web pages for current donation\\nmethods and addresses. Donations are accepted in a number of other\\nways including checks, online payments and credit card donations. To\\ndonate, please visit: www.gutenberg.org/donate\\n\\nSection 5. General Information About Project Gutenberg-tm electronic works\\n\\nProfessor Michael S. Hart was the originator of the Project\\nGutenberg-tm concept of a library of electronic works that could be\\nfreely shared with anyone. For forty years, he produced and\\ndistributed Project Gutenberg-tm eBooks with only a loose network of\\nvolunteer support.\\n\\nProject Gutenberg-tm eBooks are often created from several printed\\neditions, all of which are confirmed as not protected by copyright in\\nthe U.S. unless a copyright notice is included. Thus, we do not\\nnecessarily keep eBooks in compliance with any particular paper\\nedition.\\n\\nMost people start at our website which has the main PG search\\nfacility: www.gutenberg.org\\n\\nThis website includes information about Project Gutenberg-tm,\\nincluding how to make donations to the Project Gutenberg Literary\\nArchive Foundation, how to help produce our new eBooks, and how to\\nsubscribe to our email newsletter to hear about new eBooks.'"
      ]
     },
     "execution_count": 67,
     "metadata": {},
     "output_type": "execute_result"
    }
   ],
   "source": [
    "with open(\"gilman.txt\") as f:\n",
    "    raw_text = f.read()\n",
    "raw_text"
   ]
  },
  {
   "cell_type": "markdown",
   "id": "963fcfe8-4abc-4518-a909-1906222ca264",
   "metadata": {},
   "source": [
    "Opening a file with `with` means you don’t have to worry about closing the file (it will automatically close when the block is exited). "
   ]
  },
  {
   "cell_type": "markdown",
   "id": "a734a639-ffce-4bd5-bd3f-738a85b06f39",
   "metadata": {},
   "source": [
    "- Writing to a file with `.write()`\n",
    "\n",
    "We could also open our file objects in write mode in order to write to a file. Note that writing to a file will overwrite the file if it already exists. If the file does not already exist, it creates a new file for writing. \n",
    "\n",
    "Here are two ways of opening a file in write mode and writing “Hello file” in it."
   ]
  },
  {
   "cell_type": "code",
   "execution_count": 68,
   "id": "31e7a915-8a5d-41de-a85a-16d0042e0a9d",
   "metadata": {},
   "outputs": [],
   "source": [
    "f = open(\"example_text.txt\", mode=\"w\")\n",
    "f.write(\"Hello file\")\n",
    "f.close()"
   ]
  },
  {
   "cell_type": "markdown",
   "id": "3dca0df4-c882-46ca-866e-0da77b61552c",
   "metadata": {},
   "source": [
    "Can you see the newly created file in the list on the left? Double click to open it and see its contents."
   ]
  },
  {
   "cell_type": "code",
   "execution_count": 70,
   "id": "f9ea5e60-da6c-4fbb-a0a6-78af84155e52",
   "metadata": {},
   "outputs": [],
   "source": [
    "with open(\"example_text.txt\", mode=\"w\") as f: \n",
    "    write_file = f.write(\"Hello file\")"
   ]
  },
  {
   "cell_type": "markdown",
   "id": "43aeff27-98fd-48e5-aad1-75fd69462e37",
   "metadata": {},
   "source": [
    "For example, we could add a couple lines of code at the end of our program to write out the most frequent words to a text file."
   ]
  },
  {
   "cell_type": "code",
   "execution_count": null,
   "id": "6ab54b2d-4346-49d8-b700-b399faf2d79f",
   "metadata": {},
   "outputs": [],
   "source": [
    "with open(\"most-frequent-words-gilman.txt\", mode=\"w\") as file_object:\n",
    "    file_object.write(str(most_frequent_meaningful_words))"
   ]
  },
  {
   "cell_type": "markdown",
   "id": "39e322c5-e7f5-45d5-b4fa-fc635d2828e1",
   "metadata": {},
   "source": [
    "- Append to a file with `.append()`\n",
    "\n",
    "If you want to write to a file, but you don’t want to overwrite its existing context you can use the `.append()` file method. This will add the text you want to add at the end of the existing file. If you append to a file that does not already exist, it simply create a new file for writing.\n",
    "\n",
    "Let’s add some text to our previous \"example_text.txt\"."
   ]
  },
  {
   "cell_type": "code",
   "execution_count": 71,
   "id": "4a08f7dd-8d09-4c36-806d-9e484dedf58e",
   "metadata": {},
   "outputs": [],
   "source": [
    "f = open(\"example_text.txt\", mode=\"a\")\n",
    "f.write(\"\\n\" + \"how are you?\")\n",
    "f.close()"
   ]
  },
  {
   "cell_type": "code",
   "execution_count": 74,
   "id": "e6cdaf0d-b6eb-473b-a09e-e33a421ee39e",
   "metadata": {},
   "outputs": [],
   "source": [
    "with open(\"example_text.txt\", mode=\"a\") as f:\n",
    "    append_file = f.write(\"\\n\" + \"how are you?\")"
   ]
  },
  {
   "cell_type": "markdown",
   "id": "5ee50c99-d72f-4c72-90d6-1deb9e3901bd",
   "metadata": {},
   "source": [
    "Double click to file \"example_text.txt\" to open it and see its contents. What happens if you run the append code multiple times?"
   ]
  },
  {
   "cell_type": "markdown",
   "id": "2f21cbf7-f1d4-4692-9bcb-342bdd43ae11",
   "metadata": {},
   "source": [
    "N.B. you can also simply write `\"a\"` or `\"w\"` or `\"r\"` instead of `mode=\"a\"`, `mode=\"w\"`, `mode=\"r\"`."
   ]
  },
  {
   "cell_type": "markdown",
   "id": "7324bda4-b10f-423c-8a0f-f110497f850b",
   "metadata": {},
   "source": [
    "<a id='section-18'></a>\n",
    "**Working with multiple files**\n",
    "\n",
    "So far we have worked with only one text file, but we’ll want to work with many different text files in the future. You can work with multiple files with the help of the `Path` library or the `os` package."
   ]
  },
  {
   "cell_type": "markdown",
   "id": "aaf3b9a2-8eb1-4ebb-a691-eade8b6cf19b",
   "metadata": {},
   "source": [
    "- Working with multiple files within a directory using the `Path` library:"
   ]
  },
  {
   "cell_type": "code",
   "execution_count": 75,
   "id": "a9fa1ff4-a65e-4eba-9941-4a72efac06d2",
   "metadata": {},
   "outputs": [],
   "source": [
    "from pathlib import Path\n",
    "directory_path = \"gilman-corpus\""
   ]
  },
  {
   "cell_type": "code",
   "execution_count": 76,
   "id": "31d0015b-1c09-42f3-a5bb-38eecb3ef8a5",
   "metadata": {},
   "outputs": [
    {
     "name": "stdout",
     "output_type": "stream",
     "text": [
      "gilman-corpus/gilman_this-is-our-world.txt\n",
      "gilman-corpus/gilman_the-home.txt\n",
      "gilman-corpus/gilman_the-crux.txt\n",
      "gilman-corpus/gilman_women-and-economics.txt\n",
      "gilman-corpus/gilman_herland.txt\n",
      "gilman-corpus/gilman_the-yellow-wallpaper.txt\n",
      "gilman-corpus/gilman_what-diantha-did.txt\n",
      "gilman-corpus/gilman_our-androcentric-culture.txt\n",
      "gilman-corpus/gilman_suffrage-songs-and-verses.txt\n",
      "gilman-corpus/gilman_moving-the-mountain.txt\n"
     ]
    }
   ],
   "source": [
    "#Loop through all the files ending in .txt\n",
    "#Print the filepaths of each item\n",
    "for filepath in Path(directory_path).glob(\"*.txt\"): \n",
    "    print(filepath)"
   ]
  },
  {
   "cell_type": "code",
   "execution_count": 77,
   "id": "f6d9d732-9df7-4f68-bb29-8382e24b53c6",
   "metadata": {
    "scrolled": true,
    "tags": []
   },
   "outputs": [
    {
     "name": "stdout",
     "output_type": "stream",
     "text": [
      "﻿The Project Gutenbe\n",
      "﻿The Project Gutenbe\n",
      "﻿The Project Gutenbe\n",
      "﻿Project Gutenberg's\n",
      "﻿The Project Gutenbe\n",
      "The Project Gutenber\n",
      "﻿The Project Gutenbe\n",
      "﻿The Project Gutenbe\n",
      "﻿Project Gutenberg's\n",
      "﻿The Project Gutenbe\n"
     ]
    }
   ],
   "source": [
    "#Loop through all files ending in .txt and open and read them\n",
    "#Print a slice of the first 20 characters \n",
    "#of each file in the gilman-corpus directory\n",
    "for filepath in Path(directory_path).glob(\"*.txt\"): \n",
    "    corpus = open(filepath, encoding=\"utf-8\").read()\n",
    "    print(corpus[:20]) "
   ]
  },
  {
   "cell_type": "markdown",
   "id": "2df3f0b1-572b-45d4-a4e0-9331e596823f",
   "metadata": {},
   "source": [
    "- Working with multiple files using the `os` library:"
   ]
  },
  {
   "cell_type": "code",
   "execution_count": 78,
   "id": "f43e4c25-a82a-4b3c-a9ff-77309b103436",
   "metadata": {},
   "outputs": [
    {
     "name": "stdout",
     "output_type": "stream",
     "text": [
      "gilman_this-is-our-world.txt\n",
      "gilman_the-home.txt\n",
      ".DS_Store\n",
      "gilman_the-crux.txt\n",
      "gilman_women-and-economics.txt\n",
      "gilman_herland.txt\n",
      "gilman_the-yellow-wallpaper.txt\n",
      "gilman_what-diantha-did.txt\n",
      ".ipynb_checkpoints\n",
      "gilman_our-androcentric-culture.txt\n",
      "gilman_suffrage-songs-and-verses.txt\n",
      "gilman_moving-the-mountain.txt\n"
     ]
    }
   ],
   "source": [
    "import os\n",
    "# Loop through and print the name of files in a given directory\n",
    "gilman_corpus = os.listdir(\"gilman-corpus\")\n",
    "for file in gilman_corpus:\n",
    "    print(file)"
   ]
  },
  {
   "cell_type": "code",
   "execution_count": 80,
   "id": "de9bef1c-74a5-47b6-a110-b2ee496ffcff",
   "metadata": {},
   "outputs": [
    {
     "name": "stdout",
     "output_type": "stream",
     "text": [
      "﻿The Project Gutenbe\n",
      "﻿The Project Gutenbe\n",
      "﻿The Project Gutenbe\n",
      "﻿Project Gutenberg's\n",
      "﻿The Project Gutenbe\n",
      "The Project Gutenber\n",
      "﻿The Project Gutenbe\n",
      "﻿The Project Gutenbe\n",
      "﻿Project Gutenberg's\n",
      "﻿The Project Gutenbe\n"
     ]
    }
   ],
   "source": [
    "import os\n",
    "# Loop through and print the name of files ending in.txt. (i.e. only text files) in a given directory\n",
    "gilman_corpus = os.listdir(\"gilman-corpus\")\n",
    "for file in gilman_corpus:\n",
    "    if file.endswith(\".txt\"):\n",
    "        corpus = open(\"gilman-corpus/\"+file, encoding=\"utf-8\").read()\n",
    "        print(corpus[:20])#This prints a slice of the first 20 characters of each file in the gilman_corpus directory"
   ]
  },
  {
   "cell_type": "markdown",
   "id": "c75868ff-3c2e-420e-9904-cbf57f14e327",
   "metadata": {},
   "source": [
    "<a id='section-19'></a>\n",
    "#### Wrap up\n",
    "\n",
    "The aim of this course is that you become comfortable reading code and adapting it to your needs. It somewhat follows the ideas of “literate programming” or “literate computing” put forward by Donald Knuth in the 1970s that inspired to creation of Jupyter Notebooks. The idea of literate programming is that code can be written and presented in ways that highlight it as a human written cultural artifact — instead of prioritizing code as it is read by computers, literature programming wants to find ways of writing and reading code that make code more readable and understandable to human beings and that highlight the writer’s own thought processes. These ideas motivated the creation of Jupyter Notebooks to provide environments that can combine human prose with executable code. (cf. Knuth, Donald. _Literate Programming_. (1992) and this Programming Historian's [Introduction to Jupyter Notebooks](https://programminghistorian.org/en/lessons/jupyter-notebooks).)"
   ]
  },
  {
   "cell_type": "markdown",
   "id": "2783a304-3454-4450-a1ec-01d9a43ee854",
   "metadata": {},
   "source": [
    "Read through our word counting program. Are you able to read through it and more or less follow what is going on now? How does it compare to when you first saw the program, are you able to understand more of it now?  \n",
    "\n",
    "Run the program and inspect the results. Do you find these most frequent words insightful or meaningful? Are some words strange or unexpected? What might account for some of these most frequent words? Open and skim through the source text (the `gilman.txt file`). Do some frequent words make more sense now?\n",
    "\n",
    "Try modifying and playing around with the program. Are there any words you might want filter out further from this list of most frequent words? How would you go about that?"
   ]
  },
  {
   "cell_type": "code",
   "execution_count": null,
   "id": "1792a2ef-4689-484d-a590-47f9d7c6eb11",
   "metadata": {},
   "outputs": [],
   "source": [
    "#Importing the libraries and modules we'll need\n",
    "import re\n",
    "from collections import Counter\n",
    "\n",
    "#Defining a function to split our text into words\n",
    "def split_into_words(any_chunk_of_text):\n",
    "    lowercase_text = any_chunk_of_text.lower()\n",
    "    split_words = re.split(\"\\W+\", lowercase_text)\n",
    "    return split_words\n",
    "\n",
    "#Defining variables we're going to need\n",
    "#Giving the path to the text we're going to analyze\n",
    "filepath_of_text = \"gilman.txt\"\n",
    "\n",
    "number_of_desired_words = 40\n",
    "\n",
    "#Defining a list of stopwords\n",
    "stopwords = ['i', 'me', 'my', 'myself', 'we', 'our', 'ours', 'ourselves', 'you', 'your', 'yours',\n",
    " 'yourself', 'yourselves', 'he', 'him', 'his', 'himself', 'she', 'her', 'hers',\n",
    " 'herself', 'it', 'its', 'itself', 'they', 'them', 'their', 'theirs', 'themselves',\n",
    " 'what', 'which', 'who', 'whom', 'this', 'that', 'these', 'those', 'am', 'is', 'are',\n",
    " 'was', 'were', 'be', 'been', 'being', 'have', 'has', 'had', 'having', 'do', 'does',\n",
    " 'did', 'doing', 'a', 'an', 'the', 'and', 'but', 'if', 'or', 'because', 'as', 'until',\n",
    " 'while', 'of', 'at', 'by', 'for', 'with', 'about', 'against', 'between', 'into',\n",
    " 'through', 'during', 'before', 'after', 'above', 'below', 'to', 'from', 'up', 'down',\n",
    " 'in', 'out', 'on', 'off', 'over', 'under', 'again', 'further', 'then', 'once', 'here',\n",
    " 'there', 'when', 'where', 'why', 'how', 'all', 'any', 'both', 'each', 'few', 'more',\n",
    " 'most', 'other', 'some', 'such', 'no', 'nor', 'not', 'only', 'own', 'same', 'so',\n",
    " 'than', 'too', 'very', 's', 't', 'can', 'will', 'just', 'don', 'should', 'now', 've', 'll', 'amp']\n",
    "\n",
    "#Opening and Reading the text to analyze it\n",
    "full_text = open(filepath_of_text, encoding=\"utf-8\").read()\n",
    "\n",
    "#Splitting the text into words by using our previously defined function\n",
    "all_the_words = split_into_words(full_text)\n",
    "\n",
    "#Making a list of words with our stopwords removed\n",
    "meaningful_words = []\n",
    "for word in all_the_words:\n",
    "        if word not in stopwords:\n",
    "            meaningful_words.append(word)\n",
    "\n",
    "\"\"\" Another way of writing this for loop\n",
    "meaningful_words = [word for word in all_the_words if word not in stopwords] \"\"\"\n",
    "\n",
    "#Counting how many times each word in our \"meaningful_words\" list appears\n",
    "meaningful_words_tally = Counter(meaningful_words)\n",
    "\n",
    "#Pulling out the top 40 most frequently occurring words from our complete tally using hte \"most_common\" method\n",
    "most_frequent_meaningful_words = meaningful_words_tally.most_common(number_of_desired_words)\n",
    "\n",
    "#Display these top 40 most frequent words\n",
    "most_frequent_meaningful_words\n",
    "\n",
    "#Writing the most frequent words to a file called \"most-frequent-words-gilman.txt\"\n",
    "#with open(\"most-frequent-words-gilman.txt\", mode=\"w\") as file_object:\n",
    "    #file_object.write(str(most_frequent_meaningful_words))"
   ]
  },
  {
   "cell_type": "markdown",
   "id": "53f561f4-7ca6-4883-9d1b-ce8990bc9555",
   "metadata": {},
   "source": [
    "<a id='section-20'></a>\n",
    "### Debugging"
   ]
  },
  {
   "cell_type": "markdown",
   "id": "c235e153-b2d0-4410-8e8c-9da80f38a010",
   "metadata": {},
   "source": [
    "Just as you will become more and more familiar with reading code, you can also become more and more familiar with reading the errors that Python flag up to us when code doesn’t work. Python errors contain information to help us identify and fix the problem, they are a helpful resource that we can use to identify what is going wrong. \n",
    "\n",
    "It often take a series of attempts and some trial-and-error to get a program working. Errors can help us debug our programs along the way. \n",
    "\n",
    "There are different types of errors that give us an indication as to the type of problem we are dealing with:\n",
    "\n",
    "- _SyntaxError_: something is wrong with the Python syntax, the rules of writing Python code (i.e. the arrangements of words and punctuation in your code). It could be for example that you forgot to close a quotation mark, or that you forgot a colon after a `for` loop. If you are copy and pasting code, check that the quotation marks are the right kind of quotation mark that Python recognizes. In the error information, it will point out to you using a caret (^) where the error has occurred. \n",
    "\n",
    "- _NameError_: this error points to a problem with the name of a function or variable. For example, if a variable name cannot be found (maybe we forgot to run the cell that defines the variable, or maybe we misspelled the variable).\n",
    "\n",
    "- _TypeError_: this flags up issues of data type, when we are trying to perform an operation on the wrong kind of data type. Python might tell which data type is required in the error statement.\n",
    "\n",
    "- _AttributeError_: this error means that we trying to access something from an object that that object doesn’t possess or do something with an object that that object cannot do. For example, trying to use a method on a file that is a method for a string. \n",
    "\n",
    "- _FileNotFound Error_: this error means that the file name you have given cannot be located. This may be a problem of spelling the name wrong, or giving the wrong path to the file. \n",
    "\n",
    "\n",
    "When errors flag up, read through the code carefully, experiment with different things, talk it through with someone, and try googling and looking up forums (e.g. stackoverflow). There is a vibrant community around Python and you are probably not the first person to encounter the error you are encountering."
   ]
  },
  {
   "cell_type": "markdown",
   "id": "6eaf8d02-a88e-4257-aaba-205ccf06ce13",
   "metadata": {},
   "source": [
    "_Acknowledgements_: This notebook is heavily inspired by Melanie Walsh’s [_Introduction to Cultural Analytics & Python_](https://melaniewalsh.github.io/Intro-Cultural-Analytics/02-Python/00-Python.html) and also drew on the Constellate team's [tutorials](https://constellate.org/tutorials/), the Programming Historian's [tutorials](https://programminghistorian.org/en/lessons/working-with-text-files), and Ryan Heuser's [Literary text mining course](https://github.com/quadrismegistus/literarytextmining)."
   ]
  }
 ],
 "metadata": {
  "kernelspec": {
   "display_name": "Python 3 (ipykernel)",
   "language": "python",
   "name": "python3"
  },
  "language_info": {
   "codemirror_mode": {
    "name": "ipython",
    "version": 3
   },
   "file_extension": ".py",
   "mimetype": "text/x-python",
   "name": "python",
   "nbconvert_exporter": "python",
   "pygments_lexer": "ipython3",
   "version": "3.9.16"
  }
 },
 "nbformat": 4,
 "nbformat_minor": 5
}
